{
 "cells": [
  {
   "cell_type": "markdown",
   "metadata": {},
   "source": [
    "# Projektarbeit Gruppe 2: Gesundheitsdaten\n",
    "\n",
    "Sebastian Grab, Josua Klöble, Imanuel Ricker\n",
    "\n",
    "Konsolidierung aller benötigten Anforderungen innerhalb unseres Use Cases."
   ]
  },
  {
   "cell_type": "markdown",
   "metadata": {},
   "source": [
    "https://www.kaggle.com/datasets/sooyoungher/smoking-drinking-dataset"
   ]
  },
  {
   "cell_type": "code",
   "execution_count": null,
   "metadata": {},
   "outputs": [],
   "source": [
    "# Import der benötigten Bibliotheken\n",
    "\n",
    "import pandas as pd\n",
    "import numpy as np\n",
    "import os\n",
    "import matplotlib.pyplot as plt\n",
    "import seaborn as sns"
   ]
  },
  {
   "cell_type": "markdown",
   "metadata": {},
   "source": [
    "# Datentransformation & -exploration\n",
    "\n",
    "1. Daten laden und verstehen"
   ]
  },
  {
   "cell_type": "code",
   "execution_count": null,
   "metadata": {},
   "outputs": [],
   "source": [
    "# Lokaler Repository Pfad auslesen zum dynamischen Laden unabhängig des Nutzers:\n",
    "path = str(os.getcwd()).replace(\"\\Projektarbeit\", \"\")\n",
    "\n",
    "# Lesen der CSV Datei:\n",
    "dataset = pd.read_csv(path + '\\smoking_drinking_dataset_V0.csv')"
   ]
  },
  {
   "cell_type": "code",
   "execution_count": null,
   "metadata": {},
   "outputs": [],
   "source": [
    "# Umbenennen der Spalten:\n",
    "\n",
    "dataset = dataset.rename(columns={'sex': 'Geschlecht', 'age': 'Alter', 'height': 'Größe', 'weight': 'Gewicht', 'waistline': 'Hüftumfang', 'sight_left': 'Sehkraft_links', 'sight_right': 'Sehkraft_rechts', 'hear_left': 'Hörkraft_links', 'hear_right': 'Hörkraft_rechts', 'SBP': 'Systolischer Blutdruck', 'DBP': 'Diastolischer Blutdruck', 'BLDS': 'Blutleckdetektor', 'tot_chole': 'Totale Cholesterin', 'HDL_chole': 'HDL_Cholesterin', 'LDL_chole': 'LDL_Cholesterin', 'triglyceride': 'Triglycerid', 'hemoglobin': 'Hemoglobin', 'urine_protein': 'Urin_Proteine', 'serum_creatinine': 'Serum_Kreatinin', 'SGOT_AST': 'SGOT_AST', 'SGOT_ALT': 'SGOT_ALT', 'gamma_GTP': 'gamma_GTP', 'SMK_stat_type_cd': 'Raucher_Status', 'DRK_YN': 'Trinker'})\n",
    "\n",
    "dataset"
   ]
  },
  {
   "cell_type": "markdown",
   "metadata": {},
   "source": [
    "Erkentnisse:\n",
    "\n",
    "--> Input Josua (+ Team)"
   ]
  },
  {
   "cell_type": "markdown",
   "metadata": {},
   "source": [
    "2. Daten transformieren:"
   ]
  },
  {
   "cell_type": "code",
   "execution_count": null,
   "metadata": {},
   "outputs": [],
   "source": [
    "# Spalten transfomieren:\n",
    "\n",
    "    # Trinker-Spalte: Y (für Yes) zu 1 & n (für No) zu 0\n",
    "\n",
    "dataset[\"Trinker\"] = dataset[\"Trinker\"] == 'Y'\n",
    "dataset[\"Trinker\"] = dataset[\"Trinker\"].astype(int)\n",
    "\n",
    "    # Hörkraft-Spalten: 1 (für normal) bleibt 1 & 2 (für abnormal) zu 0\n",
    "\n",
    "dataset[\"Hörkraft_links\"] = dataset[\"Hörkraft_links\"] == 1\n",
    "dataset[\"Hörkraft_links\"] = dataset[\"Hörkraft_links\"].astype(int)\n",
    "\n",
    "dataset[\"Hörkraft_rechts\"] = dataset[\"Hörkraft_rechts\"] == 1\n",
    "dataset[\"Hörkraft_rechts\"] = dataset[\"Hörkraft_rechts\"].astype(int)\n",
    "\n",
    "    # Hinzufügen einer berechneten Spalte - der Body-Mass-Index:\n",
    "\n",
    "body_mass_index = dataset[\"Gewicht\"].astype(np.float64) / ((dataset[\"Größe\"].astype(np.float64) / 100) * (dataset[\"Größe\"].astype(np.float64) / 100))\n",
    "\n",
    "dataset[\"Body-Mass-Index\"] = round(body_mass_index, 3)\n",
    "\n",
    "    # Hinzufügen einer berechneten Spalte - der mittlere arterielle Blutdruck:\n",
    "\n",
    "MAD = dataset[\"Diastolischer Blutdruck\"] + (( dataset[\"Systolischer Blutdruck\"] - dataset[\"Diastolischer Blutdruck\"] ) * 0.5)\n",
    "\n",
    "dataset[\"Mittlerer arterieller Blutdruck\"] = MAD\n",
    "\n",
    "\n",
    "dataset.head()"
   ]
  },
  {
   "cell_type": "markdown",
   "metadata": {},
   "source": [
    "Zusammenfassung:\n",
    "\n",
    "--> Input Team"
   ]
  },
  {
   "cell_type": "markdown",
   "metadata": {},
   "source": [
    "3. Datenexploration:"
   ]
  },
  {
   "cell_type": "code",
   "execution_count": null,
   "metadata": {},
   "outputs": [],
   "source": [
    "# Datenexploration zur Erkennung von Bereinigungsbedarf:\n",
    "\n",
    "# Funktion zum Darstellen der Verteilung der Werte einer Spalte:\n",
    "\n",
    "def bar_chart(column):\n",
    "    share = (dataset[column].sort_values().value_counts(sort=False) / len(dataset)) * 100 \n",
    "    plt.figure(figsize=(10, 6)) \n",
    "    share.plot(kind='bar') \n",
    "    plt.xlabel(share) \n",
    "    plt.ylabel('Prozentuale Häufigkeit')\n",
    "    plt.grid(axis='y') \n",
    "    plt.show()"
   ]
  },
  {
   "cell_type": "code",
   "execution_count": null,
   "metadata": {},
   "outputs": [],
   "source": [
    "column_names = dataset.columns.values.tolist()\n",
    "\n",
    "for column in column_names:\n",
    "    bar_chart(column)"
   ]
  },
  {
   "cell_type": "markdown",
   "metadata": {},
   "source": [
    "Auffällige Datenpunkte:\n",
    "\n",
    "1. Hüftumfang: Wenige Datenpunkte bei 999 cm\n",
    "2. Sehkraft_links: Wenige Datenpunkte bei 9.9 (Verteilung der anderen Werte von 0,1 bis 2,0)\n",
    "3. Sehkraft_rechts: Wenige Datenpunkte bei 9.9 (Verteilung der anderen Werte von 0,1 bis 2,0)"
   ]
  },
  {
   "cell_type": "code",
   "execution_count": null,
   "metadata": {},
   "outputs": [],
   "source": [
    "# Korrelation:\n",
    "\n",
    "def corr(columns):\n",
    "    plt.figure(figsize=(8, 8))\n",
    "    data = dataset[columns]\n",
    "    heatmap = sns.heatmap(data.corr(), annot=True, cmap=\"coolwarm\")\n",
    "\n",
    "\n",
    "corr(['Body-Mass-Index','Gewicht','Größe'])"
   ]
  },
  {
   "cell_type": "markdown",
   "metadata": {},
   "source": [
    "# Datenbereinigung"
   ]
  },
  {
   "cell_type": "code",
   "execution_count": null,
   "metadata": {},
   "outputs": [],
   "source": [
    "# Es gibt 57 Reihen, in denen ein Hüftumfang von 9,99 m angegeben wurde:\n",
    "\n",
    "filtered_dataset = dataset[dataset['Hüftumfang'] == 999]\n",
    "len(filtered_dataset.index)\n",
    "\n",
    "    # Eliminierung der fehlerhaften Reihen:\n",
    "\n",
    "dataset = dataset[dataset['Hüftumfang'] != 999]\n",
    "\n",
    "\n",
    "\n",
    "# Es gibt mehrer Reihen, in denen die Sehkraft 9,9 angegeben wurde. Dies bedeutet, dass der Proband erblindet ist.\n",
    "\n",
    "filtered_dataset = dataset[dataset['Sehkraft_rechts'] == 9.9]\n",
    "len(filtered_dataset.index)\n",
    "\n",
    "filtered_dataset = dataset[dataset['Sehkraft_links'] == 9.9]\n",
    "len(filtered_dataset.index)\n",
    "\n",
    "\n",
    "dataset.describe()"
   ]
  },
  {
   "cell_type": "markdown",
   "metadata": {},
   "source": [
    "Anmerkungen: \n"
   ]
  }
 ],
 "metadata": {
  "kernelspec": {
   "display_name": "Python 3",
   "language": "python",
   "name": "python3"
  },
  "language_info": {
   "codemirror_mode": {
    "name": "ipython",
    "version": 3
   },
   "file_extension": ".py",
   "mimetype": "text/x-python",
   "name": "python",
   "nbconvert_exporter": "python",
   "pygments_lexer": "ipython3",
   "version": "3.9.13"
  }
 },
 "nbformat": 4,
 "nbformat_minor": 2
}
