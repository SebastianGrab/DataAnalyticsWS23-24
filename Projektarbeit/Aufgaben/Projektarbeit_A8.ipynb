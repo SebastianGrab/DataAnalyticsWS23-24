{
 "cells": [
  {
   "cell_type": "markdown",
   "metadata": {},
   "source": [
    "# Projektarbeit Gruppe 2: Gesundheitsdaten"
   ]
  },
  {
   "cell_type": "markdown",
   "metadata": {},
   "source": [
    "https://www.kaggle.com/datasets/sooyoungher/smoking-drinking-dataset"
   ]
  },
  {
   "cell_type": "markdown",
   "metadata": {},
   "source": [
    "Macht es Sinn die Zielvariable Hypertonie zu verwenden? Bei der Regression benötigt man nummerische Werte, Hypertonie ist eine Klasse (?) 0, 1, 2 macht hierfür keinen Sinn. Eventuell wäre es sinnvoller eine Zielvariable wie das Gewicht zu nehmen. Als weitere Features nimmt man dann alles, wo man nicht weiß, dass es mit dem Gewicht zu tun hat. Also BMI würde nicht gehen, weil man dadurch einfach nur die BMI Formel rückwerts macht. "
   ]
  },
  {
   "cell_type": "code",
   "execution_count": 19,
   "metadata": {},
   "outputs": [],
   "source": [
    "# Import der benötigten Bibliotheken\n",
    "\n",
    "import pandas as pd\n",
    "import numpy as np\n",
    "import os\n",
    "import matplotlib.pyplot as plt\n",
    "import seaborn as sns\n",
    "from sklearn.decomposition import PCA\n",
    "from sklearn.preprocessing import StandardScaler\n",
    "import matplotlib.pyplot as plt\n",
    "from sklearn.pipeline import Pipeline\n",
    "from sklearn.linear_model import LogisticRegression\n",
    "from sklearn.model_selection import train_test_split\n",
    "\n",
    "import statsmodels.api as sm\n",
    "\n",
    "from statsmodels.formula.api import ols\n",
    "\n",
    "from statsmodels.stats.anova import anova_lm"
   ]
  },
  {
   "cell_type": "code",
   "execution_count": 10,
   "metadata": {},
   "outputs": [],
   "source": [
    "# Neuer Datensatz\n",
    "path = str(os.getcwd()).replace(\"\\Projektarbeit\\Aufgaben\", \"\")\n",
    "\n",
    "# Lesen der CSV Datei:\n",
    "dataset = pd.read_csv(path + '\\dataset_custom.csv')\n",
    "\n",
    "# Trennung in des Dataset in Frauen und Männer\n",
    "data_m = dataset[dataset['Geschlecht'] == 0]\n",
    "\n",
    "data_f = dataset[dataset['Geschlecht'] == 1]"
   ]
  },
  {
   "cell_type": "code",
   "execution_count": 7,
   "metadata": {},
   "outputs": [],
   "source": [
    "data_m.head()\n",
    "# data_m.info()"
   ]
  },
  {
   "cell_type": "markdown",
   "metadata": {},
   "source": [
    "# Anforderungen 8: Regression\n",
    "\n",
    "Entscheiden Sie, ob Sie mit der linearen Regression modellieren, prädizieren, oder beides erreichen wollen."
   ]
  },
  {
   "cell_type": "code",
   "execution_count": null,
   "metadata": {},
   "outputs": [],
   "source": [
    "# Für dieses Notebook wird der Ansatz der Modellierung gewählt, da in vorherigen Notebook eine Softmax Regression durchgeführt wurde, die in  \n",
    "# Teilen bereits prädiziert und keine befriedigenden Ergebnisse geliefert hat. Durch Modellierung wird versucht neue und tiefgreifendere Erkentnisse \n",
    "# zu gewinnen. Ziel wäre es beispielsweise Aussagen treffen zu können wie: \"Personen mit dem Merkmal X neigen dazu an Hypertonie erkrankt zu sein\". \n",
    "\n",
    "# Als Zielvariable wird das Feature \"Gewicht\" gewählt, da es sich dabei um einen numerischen Wert handelt und das Feature auch ohne spezifisches Fachwissen verstanden werden kann. "
   ]
  },
  {
   "cell_type": "markdown",
   "metadata": {},
   "source": [
    "Führen Sie die entsprechende(n) Analyse(n) methodisch sauber durch und berichten Sie entsprechend der    eingeführten Kriterien und Evaluationsmaße das Ergebnis."
   ]
  },
  {
   "cell_type": "code",
   "execution_count": null,
   "metadata": {},
   "outputs": [],
   "source": [
    "# Zunächst wird nur der Vergleich zwischen Gewicht und Hüftumfang angeschaut, hierbei werden die Analysen für Männer und Frauen getrennt voneinander durchgeführt. \n",
    "# Männer \n",
    "gewicht_1m= ols(\"Gewicht ~ Hüftumfang\", data_m).fit()\n",
    "\n",
    "print(gewicht_1m.summary())"
   ]
  },
  {
   "cell_type": "code",
   "execution_count": null,
   "metadata": {},
   "outputs": [],
   "source": [
    "# Das Modell versucht, die Beziehung zwischen der abängige Variable (Gewicht) und der unabhängigen Variablen \n",
    "# (Hüftumfang) zu modellieren, um zu verstehen, wie diese Variable das Gewicht beeinflussen könnte.\n",
    "\n",
    "# Das Bestimmtheitsmaß erzielt einen Wert von 59%. Nachdem redizieren erhält man eine Korrelation von 0.77 für den Datensatz der \n",
    "# Männer. "
   ]
  },
  {
   "cell_type": "code",
   "execution_count": null,
   "metadata": {},
   "outputs": [],
   "source": [
    "# Frauen \n",
    "gewicht_1f= ols(\"Gewicht ~ Hüftumfang\", data_f).fit()\n",
    "\n",
    "print(gewicht_1f.summary())"
   ]
  },
  {
   "cell_type": "code",
   "execution_count": null,
   "metadata": {},
   "outputs": [],
   "source": [
    "# Das Bestimmtheitsmaß erzielt einen Wert von 50,3%. Nachdem redizieren erhält man eine Korrelation von 0.71 für den Datensatz der \n",
    "# Frauen. \n",
    "\n",
    "# Es zeigt sich, dass trotz selber Parameter die Korrelation bei den Männern etwas höher ist als bei den Frauen."
   ]
  },
  {
   "cell_type": "code",
   "execution_count": null,
   "metadata": {},
   "outputs": [],
   "source": [
    "# In einem nächsten Schritt werden zunächst einmal intuitiv weitere Features hinzugenommen um zu untersuchen, wie sich diese auswirken: \n",
    "\n",
    "#Männer \n",
    "gewicht_full_m= ols(\"Gewicht ~ Hüftumfang + Größe + Alter + LDL_Cholesterin\", data_m).fit()\n",
    "\n",
    "print(gewicht_full_m.summary())"
   ]
  },
  {
   "cell_type": "code",
   "execution_count": null,
   "metadata": {},
   "outputs": [],
   "source": [
    "# Das Bestimmtheitsmaß erzielt einen Wert von 78,7%. Nachdem redizieren erhält man eine Korrelation von 0.89 für den Datensatz der \n",
    "# Männer. "
   ]
  },
  {
   "cell_type": "code",
   "execution_count": null,
   "metadata": {},
   "outputs": [],
   "source": [
    "# Frauen \n",
    "gewicht_full_f= ols(\"Gewicht ~ Hüftumfang + Größe + Alter + LDL_Cholesterin\", data_f).fit()\n",
    "\n",
    "print(gewicht_full_f.summary())"
   ]
  },
  {
   "cell_type": "code",
   "execution_count": null,
   "metadata": {},
   "outputs": [],
   "source": [
    "# Das Bestimmtheitsmaß erzielt einen Wert von 68,3%. Nachdem redizieren erhält man eine Korrelation von 0.83 für den Datensatz der \n",
    "# Frauen. "
   ]
  },
  {
   "cell_type": "code",
   "execution_count": null,
   "metadata": {},
   "outputs": [],
   "source": [
    "# Modellvergleich mit ANOVA \n",
    "\n",
    "anova_results = anova_lm(gewicht_1m, gewicht_full_m)\n",
    "\n",
    "print('\\nANOVA results')\n",
    "print(anova_results)"
   ]
  },
  {
   "cell_type": "code",
   "execution_count": null,
   "metadata": {},
   "outputs": [],
   "source": [
    "# In dieser Analyse werden die beiden Auswertungen gewicht_1m und gewicht_full_m untersucht um festzustellen, ob die Hinzunahme von mereren Features wirklich eine höhere Aussagekraft liefert. "
   ]
  },
  {
   "cell_type": "markdown",
   "metadata": {},
   "source": [
    "Wenn Sie sowohl modellieren als auch prädizieren wollen, führen Sie die Modellierung nur auf den Trainingsdaten durch, um zu vermeiden, dass Sie ungewollt aus Ihren Testdaten lernen. Trainieren Sie das Prädiktionsmodell im zweiten Schritt aufgrund der Erkenntnisse der Modellierung."
   ]
  },
  {
   "cell_type": "code",
   "execution_count": null,
   "metadata": {},
   "outputs": [],
   "source": [
    "# In einem nächsten Schritt geht es darum, einen Fachexperten aus dem medizimnischen Kontext zu befragen, welche Features sich für weitere Untersuhungen eignen würden. "
   ]
  },
  {
   "cell_type": "code",
   "execution_count": null,
   "metadata": {},
   "outputs": [],
   "source": [
    "\n",
    "# coef erklärt die gewichtung also z.b wenn man trinker ist steigt der hüftumfang um faktor 1,5. wenn man raucher war sinkt er um 0,8 "
   ]
  }
 ],
 "metadata": {
  "kernelspec": {
   "display_name": "base",
   "language": "python",
   "name": "python3"
  },
  "language_info": {
   "codemirror_mode": {
    "name": "ipython",
    "version": 3
   },
   "file_extension": ".py",
   "mimetype": "text/x-python",
   "name": "python",
   "nbconvert_exporter": "python",
   "pygments_lexer": "ipython3",
   "version": "3.10.9"
  }
 },
 "nbformat": 4,
 "nbformat_minor": 2
}
