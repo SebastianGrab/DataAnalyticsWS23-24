{
 "cells": [
  {
   "cell_type": "markdown",
   "metadata": {},
   "source": [
    "# Projektarbeit Gruppe 2: Gesundheitsdaten"
   ]
  },
  {
   "cell_type": "markdown",
   "metadata": {},
   "source": [
    "https://www.kaggle.com/datasets/sooyoungher/smoking-drinking-dataset"
   ]
  },
  {
   "cell_type": "markdown",
   "metadata": {},
   "source": [
    "Macht es Sinn die Zielvariable Hypertonie zu verwenden? Bei der Regression benötigt man nummerische Werte, Hypertonie ist eine Klasse (?) 0, 1, 2 macht hierfür keinen Sinn. Eventuell wäre es sinnvoller eine Zielvariable wie das Gewicht zu nehmen. Als weitere Features nimmt man dann alles, wo man nicht weiß, dass es mit dem Gewicht zu tun hat. Also BMI würde nicht gehen, weil man dadurch einfach nur die BMI Formel rückwerts macht. "
   ]
  },
  {
   "cell_type": "code",
   "execution_count": 36,
   "metadata": {},
   "outputs": [],
   "source": [
    "# Import der benötigten Bibliotheken\n",
    "\n",
    "import pandas as pd\n",
    "import numpy as np\n",
    "import os\n",
    "import matplotlib.pyplot as plt\n",
    "import seaborn as sns\n",
    "from sklearn.decomposition import PCA\n",
    "from sklearn.preprocessing import StandardScaler\n",
    "import matplotlib.pyplot as plt\n",
    "from sklearn.pipeline import Pipeline\n",
    "from sklearn.linear_model import LogisticRegression\n",
    "from sklearn.model_selection import train_test_split\n",
    "import statsmodels.api as sm\n",
    "from statsmodels.formula.api import ols\n",
    "from statsmodels.stats.anova import anova_lm\n",
    "from sklearn.datasets import fetch_california_housing\n",
    "import matplotlib.pyplot as plt\n",
    "from sklearn.model_selection import train_test_split\n",
    "from sklearn.linear_model import LinearRegression\n",
    "from sklearn.metrics import mean_squared_error as RMSE"
   ]
  },
  {
   "cell_type": "code",
   "execution_count": 2,
   "metadata": {},
   "outputs": [],
   "source": [
    "# Neuer Datensatz\n",
    "path = str(os.getcwd()).replace(\"\\Projektarbeit\\Aufgaben\", \"\")\n",
    "\n",
    "# Lesen der CSV Datei:\n",
    "dataset = pd.read_csv(path + '\\dataset_custom.csv')\n",
    "\n",
    "# Trennung in des Dataset in Frauen und Männer\n",
    "data_m = dataset[dataset['Geschlecht'] == 0]\n",
    "\n",
    "data_f = dataset[dataset['Geschlecht'] == 1]"
   ]
  },
  {
   "cell_type": "markdown",
   "metadata": {},
   "source": [
    "# Anforderungen 8: Regression\n",
    "\n",
    "Entscheiden Sie, ob Sie mit der linearen Regression modellieren, prädizieren, oder beides erreichen wollen."
   ]
  },
  {
   "cell_type": "markdown",
   "metadata": {},
   "source": [
    "### Modellierung:"
   ]
  },
  {
   "cell_type": "code",
   "execution_count": 4,
   "metadata": {},
   "outputs": [],
   "source": [
    "# Für dieses Notebook wird der Ansatz der Modellierung gewählt, da in vorherigen Notebook eine Softmax Regression durchgeführt wurde, die in  \n",
    "# Teilen bereits prädiziert und keine befriedigenden Ergebnisse geliefert hat. Durch Modellierung wird versucht neue und tiefgreifendere Erkentnisse \n",
    "# zu gewinnen. Ziel wäre es beispielsweise Aussagen treffen zu können wie: \"Personen mit dem Merkmal X neigen dazu an Hypertonie erkrankt zu sein\". \n",
    "\n",
    "# Als Zielvariable wird das Feature \"Gewicht\" gewählt, da es sich dabei um einen numerischen Wert handelt und das Feature auch ohne spezifisches Fachwissen verstanden werden kann. "
   ]
  },
  {
   "cell_type": "markdown",
   "metadata": {},
   "source": [
    "Führen Sie die entsprechende(n) Analyse(n) methodisch sauber durch und berichten Sie entsprechend der    eingeführten Kriterien und Evaluationsmaße das Ergebnis."
   ]
  },
  {
   "cell_type": "code",
   "execution_count": 5,
   "metadata": {},
   "outputs": [
    {
     "name": "stdout",
     "output_type": "stream",
     "text": [
      "                            OLS Regression Results                            \n",
      "==============================================================================\n",
      "Dep. Variable:                Gewicht   R-squared:                       0.590\n",
      "Model:                            OLS   Adj. R-squared:                  0.590\n",
      "Method:                 Least Squares   F-statistic:                 7.581e+05\n",
      "Date:                Tue, 19 Dec 2023   Prob (F-statistic):               0.00\n",
      "Time:                        08:33:01   Log-Likelihood:            -1.7842e+06\n",
      "No. Observations:              526415   AIC:                         3.568e+06\n",
      "Df Residuals:                  526413   BIC:                         3.568e+06\n",
      "Df Model:                           1                                         \n",
      "Covariance Type:            nonrobust                                         \n",
      "==============================================================================\n",
      "                 coef    std err          t      P>|t|      [0.025      0.975]\n",
      "------------------------------------------------------------------------------\n",
      "Intercept    -19.1470      0.103   -185.885      0.000     -19.349     -18.945\n",
      "Hüftumfang     1.0494      0.001    870.703      0.000       1.047       1.052\n",
      "==============================================================================\n",
      "Omnibus:                     3588.480   Durbin-Watson:                   2.000\n",
      "Prob(Omnibus):                  0.000   Jarque-Bera (JB):             4904.245\n",
      "Skew:                           0.093   Prob(JB):                         0.00\n",
      "Kurtosis:                       3.434   Cond. No.                         890.\n",
      "==============================================================================\n",
      "\n",
      "Notes:\n",
      "[1] Standard Errors assume that the covariance matrix of the errors is correctly specified.\n"
     ]
    }
   ],
   "source": [
    "# Zunächst wird nur der Vergleich zwischen Gewicht und Hüftumfang angeschaut, hierbei werden die Analysen für Männer und Frauen getrennt voneinander durchgeführt. \n",
    "# Männer \n",
    "gewicht_1m= ols(\"Gewicht ~ Hüftumfang\", data_m).fit()\n",
    "\n",
    "print(gewicht_1m.summary())"
   ]
  },
  {
   "cell_type": "code",
   "execution_count": 6,
   "metadata": {},
   "outputs": [],
   "source": [
    "# Das Modell versucht, die Beziehung zwischen der abängige Variable (Gewicht) und der unabhängigen Variablen \n",
    "# (Hüftumfang) zu modellieren, um zu verstehen, wie diese Variable das Gewicht beeinflussen könnte.\n",
    "\n",
    "# Das Bestimmtheitsmaß erzielt einen Wert von 59%. Nachdem redizieren erhält man eine Korrelation von 0.77 für den Datensatz der \n",
    "# Männer. "
   ]
  },
  {
   "cell_type": "code",
   "execution_count": 7,
   "metadata": {},
   "outputs": [
    {
     "name": "stdout",
     "output_type": "stream",
     "text": [
      "                            OLS Regression Results                            \n",
      "==============================================================================\n",
      "Dep. Variable:                Gewicht   R-squared:                       0.503\n",
      "Model:                            OLS   Adj. R-squared:                  0.503\n",
      "Method:                 Least Squares   F-statistic:                 4.699e+05\n",
      "Date:                Tue, 19 Dec 2023   Prob (F-statistic):               0.00\n",
      "Time:                        08:33:07   Log-Likelihood:            -1.5121e+06\n",
      "No. Observations:              464874   AIC:                         3.024e+06\n",
      "Df Residuals:                  464872   BIC:                         3.024e+06\n",
      "Df Model:                           1                                         \n",
      "Covariance Type:            nonrobust                                         \n",
      "==============================================================================\n",
      "                 coef    std err          t      P>|t|      [0.025      0.975]\n",
      "------------------------------------------------------------------------------\n",
      "Intercept      2.6440      0.078     34.028      0.000       2.492       2.796\n",
      "Hüftumfang     0.6890      0.001    685.523      0.000       0.687       0.691\n",
      "==============================================================================\n",
      "Omnibus:                    12004.258   Durbin-Watson:                   2.001\n",
      "Prob(Omnibus):                  0.000   Jarque-Bera (JB):            21679.571\n",
      "Skew:                           0.212   Prob(JB):                         0.00\n",
      "Kurtosis:                       3.969   Cond. No.                         655.\n",
      "==============================================================================\n",
      "\n",
      "Notes:\n",
      "[1] Standard Errors assume that the covariance matrix of the errors is correctly specified.\n"
     ]
    }
   ],
   "source": [
    "# Frauen \n",
    "gewicht_1f= ols(\"Gewicht ~ Hüftumfang\", data_f).fit()\n",
    "\n",
    "print(gewicht_1f.summary())"
   ]
  },
  {
   "cell_type": "code",
   "execution_count": 8,
   "metadata": {},
   "outputs": [],
   "source": [
    "# Das Bestimmtheitsmaß erzielt einen Wert von 50,3%. Nachdem redizieren erhält man eine Korrelation von 0.71 für den Datensatz der \n",
    "# Frauen. \n",
    "\n",
    "# Es zeigt sich, dass trotz selber Parameter die Korrelation bei den Männern etwas höher ist als bei den Frauen."
   ]
  },
  {
   "cell_type": "code",
   "execution_count": 9,
   "metadata": {},
   "outputs": [
    {
     "name": "stdout",
     "output_type": "stream",
     "text": [
      "                            OLS Regression Results                            \n",
      "==============================================================================\n",
      "Dep. Variable:                Gewicht   R-squared:                       0.787\n",
      "Model:                            OLS   Adj. R-squared:                  0.787\n",
      "Method:                 Least Squares   F-statistic:                 4.872e+05\n",
      "Date:                Tue, 19 Dec 2023   Prob (F-statistic):               0.00\n",
      "Time:                        08:33:12   Log-Likelihood:            -1.6116e+06\n",
      "No. Observations:              526415   AIC:                         3.223e+06\n",
      "Df Residuals:                  526410   BIC:                         3.223e+06\n",
      "Df Model:                           4                                         \n",
      "Covariance Type:            nonrobust                                         \n",
      "===================================================================================\n",
      "                      coef    std err          t      P>|t|      [0.025      0.975]\n",
      "-----------------------------------------------------------------------------------\n",
      "Intercept         -99.0429      0.223   -443.626      0.000     -99.480     -98.605\n",
      "Hüftumfang          0.9883      0.001   1102.854      0.000       0.987       0.990\n",
      "Größe               0.5444      0.001    431.276      0.000       0.542       0.547\n",
      "Alter              -0.1595      0.001   -270.958      0.000      -0.161      -0.158\n",
      "LDL_Cholesterin     0.0066      0.000     32.758      0.000       0.006       0.007\n",
      "==============================================================================\n",
      "Omnibus:                    13520.563   Durbin-Watson:                   2.000\n",
      "Prob(Omnibus):                  0.000   Jarque-Bera (JB):            25741.139\n",
      "Skew:                           0.192   Prob(JB):                         0.00\n",
      "Kurtosis:                       4.013   Cond. No.                     7.07e+03\n",
      "==============================================================================\n",
      "\n",
      "Notes:\n",
      "[1] Standard Errors assume that the covariance matrix of the errors is correctly specified.\n",
      "[2] The condition number is large, 7.07e+03. This might indicate that there are\n",
      "strong multicollinearity or other numerical problems.\n"
     ]
    }
   ],
   "source": [
    "# In einem nächsten Schritt werden zunächst einmal intuitiv weitere Features hinzugenommen um zu untersuchen, wie sich diese auswirken: \n",
    "\n",
    "#Männer \n",
    "gewicht_full_m= ols(\"Gewicht ~ Hüftumfang + Größe + Alter + LDL_Cholesterin\", data_m).fit()\n",
    "\n",
    "print(gewicht_full_m.summary())"
   ]
  },
  {
   "cell_type": "code",
   "execution_count": 10,
   "metadata": {},
   "outputs": [],
   "source": [
    "# Das Bestimmtheitsmaß erzielt einen Wert von 78,7%. Nachdem redizieren erhält man eine Korrelation von 0.89 für den Datensatz der \n",
    "# Männer. "
   ]
  },
  {
   "cell_type": "code",
   "execution_count": 11,
   "metadata": {},
   "outputs": [
    {
     "name": "stdout",
     "output_type": "stream",
     "text": [
      "                            OLS Regression Results                            \n",
      "==============================================================================\n",
      "Dep. Variable:                Gewicht   R-squared:                       0.683\n",
      "Model:                            OLS   Adj. R-squared:                  0.683\n",
      "Method:                 Least Squares   F-statistic:                 2.508e+05\n",
      "Date:                Tue, 19 Dec 2023   Prob (F-statistic):               0.00\n",
      "Time:                        08:33:19   Log-Likelihood:            -1.4072e+06\n",
      "No. Observations:              464874   AIC:                         2.814e+06\n",
      "Df Residuals:                  464869   BIC:                         2.814e+06\n",
      "Df Model:                           4                                         \n",
      "Covariance Type:            nonrobust                                         \n",
      "===================================================================================\n",
      "                      coef    std err          t      P>|t|      [0.025      0.975]\n",
      "-----------------------------------------------------------------------------------\n",
      "Intercept         -74.8863      0.233   -321.014      0.000     -75.344     -74.429\n",
      "Hüftumfang          0.7868      0.001    902.421      0.000       0.785       0.789\n",
      "Größe               0.4754      0.001    345.391      0.000       0.473       0.478\n",
      "Alter              -0.0963      0.001   -149.527      0.000      -0.098      -0.095\n",
      "LDL_Cholesterin     0.0087      0.000     42.449      0.000       0.008       0.009\n",
      "==============================================================================\n",
      "Omnibus:                    12448.590   Durbin-Watson:                   1.998\n",
      "Prob(Omnibus):                  0.000   Jarque-Bera (JB):            23401.377\n",
      "Skew:                           0.207   Prob(JB):                         0.00\n",
      "Kurtosis:                       4.018   Cond. No.                     6.80e+03\n",
      "==============================================================================\n",
      "\n",
      "Notes:\n",
      "[1] Standard Errors assume that the covariance matrix of the errors is correctly specified.\n",
      "[2] The condition number is large, 6.8e+03. This might indicate that there are\n",
      "strong multicollinearity or other numerical problems.\n"
     ]
    }
   ],
   "source": [
    "# Frauen \n",
    "gewicht_full_f= ols(\"Gewicht ~ Hüftumfang + Größe + Alter + LDL_Cholesterin\", data_f).fit()\n",
    "\n",
    "print(gewicht_full_f.summary())"
   ]
  },
  {
   "cell_type": "code",
   "execution_count": 12,
   "metadata": {},
   "outputs": [],
   "source": [
    "# Das Bestimmtheitsmaß erzielt einen Wert von 68,3%. Nachdem redizieren erhält man eine Korrelation von 0.83 für den Datensatz der \n",
    "# Frauen. "
   ]
  },
  {
   "cell_type": "code",
   "execution_count": 13,
   "metadata": {},
   "outputs": [
    {
     "name": "stdout",
     "output_type": "stream",
     "text": [
      "\n",
      "ANOVA results\n",
      "   df_resid           ssr  df_diff       ss_diff              F  Pr(>F)\n",
      "0  526413.0  2.709126e+07      0.0           NaN            NaN     NaN\n",
      "1  526410.0  1.405955e+07      3.0  1.303171e+07  162642.104067     0.0\n"
     ]
    }
   ],
   "source": [
    "# Modellvergleich mit ANOVA \n",
    "\n",
    "anova_results = anova_lm(gewicht_1m, gewicht_full_m)\n",
    "\n",
    "print('\\nANOVA results')\n",
    "print(anova_results)"
   ]
  },
  {
   "cell_type": "code",
   "execution_count": 14,
   "metadata": {},
   "outputs": [],
   "source": [
    "# In dieser Analyse werden die beiden Auswertungen gewicht_1m und gewicht_full_m untersucht um festzustellen, ob die Hinzunahme von mereren Features wirklich eine höhere Aussagekraft liefert. "
   ]
  },
  {
   "cell_type": "markdown",
   "metadata": {},
   "source": [
    "Wenn Sie sowohl modellieren als auch prädizieren wollen, führen Sie die Modellierung nur auf den Trainingsdaten durch, um zu vermeiden, dass Sie ungewollt aus Ihren Testdaten lernen. Trainieren Sie das Prädiktionsmodell im zweiten Schritt aufgrund der Erkenntnisse der Modellierung."
   ]
  },
  {
   "cell_type": "code",
   "execution_count": 15,
   "metadata": {},
   "outputs": [],
   "source": [
    "# In einem nächsten Schritt geht es darum, einen Fachexperten aus dem medizimnischen Kontext zu befragen, welche Features sich für weitere Untersuhungen eignen würden. "
   ]
  },
  {
   "cell_type": "code",
   "execution_count": 16,
   "metadata": {},
   "outputs": [],
   "source": [
    "\n",
    "# coef erklärt die gewichtung also z.b wenn man trinker ist steigt der hüftumfang um faktor 1,5. wenn man raucher war sinkt er um 0,8 "
   ]
  },
  {
   "cell_type": "markdown",
   "metadata": {},
   "source": [
    "### Prädiktion:"
   ]
  },
  {
   "cell_type": "markdown",
   "metadata": {},
   "source": [
    "Führen Sie die entsprechende(n) Analyse(n) methodisch sauber durch und berichten Sie entsprechend der eingeführten Kriterien und Evaluationsmaße das Ergebnis."
   ]
  },
  {
   "cell_type": "code",
   "execution_count": null,
   "metadata": {},
   "outputs": [],
   "source": [
    "# Zusätzlich zur Modellierung wird auch eine Prädiktion durchgeführt. Hier soll das Gewicht eines Probanden vorausgesagt werden. \n",
    "# Um auch hier auf die biologischen Unterschiede zwischen den Geschlechtern zu achten, wird der Datensatz ebenso getrennt:"
   ]
  },
  {
   "cell_type": "code",
   "execution_count": 28,
   "metadata": {},
   "outputs": [
    {
     "name": "stdout",
     "output_type": "stream",
     "text": [
      "<class 'pandas.core.frame.DataFrame'>\n",
      "Index: 526415 entries, 0 to 991288\n",
      "Data columns (total 24 columns):\n",
      " #   Column                 Non-Null Count   Dtype  \n",
      "---  ------                 --------------   -----  \n",
      " 0   Geschlecht             526415 non-null  int64  \n",
      " 1   Alter                  526415 non-null  int64  \n",
      " 2   Größe                  526415 non-null  int64  \n",
      " 3   Gewicht                526415 non-null  int64  \n",
      " 4   Hüftumfang             526415 non-null  float64\n",
      " 5   Nüchterner Blutzucker  526415 non-null  float64\n",
      " 6   Totale Cholesterin     526415 non-null  float64\n",
      " 7   HDL_Cholesterin        526415 non-null  float64\n",
      " 8   LDL_Cholesterin        526415 non-null  float64\n",
      " 9   Triglycerid            526415 non-null  float64\n",
      " 10  Hämoglobin             526415 non-null  float64\n",
      " 11  SGOT_AST               526415 non-null  float64\n",
      " 12  SGOT_ALT               526415 non-null  float64\n",
      " 13  gamma_GTP              526415 non-null  float64\n",
      " 14  BD_optimal             526415 non-null  int64  \n",
      " 15  BD_normal              526415 non-null  int64  \n",
      " 16  BD_Grenzwert_normal    526415 non-null  int64  \n",
      " 17  BD_Hypertonie Grad 1   526415 non-null  int64  \n",
      " 18  BD_Hypertonie Grad 2   526415 non-null  int64  \n",
      " 19  BD_Hypertonie Grad 3   526415 non-null  int64  \n",
      " 20  Raucher_nie            526415 non-null  int64  \n",
      " 21  Raucher_ehem           526415 non-null  int64  \n",
      " 22  Raucher_aktiv          526415 non-null  int64  \n",
      " 23  Trinker                526415 non-null  int64  \n",
      "dtypes: float64(10), int64(14)\n",
      "memory usage: 100.4 MB\n"
     ]
    }
   ],
   "source": [
    "# Neuer Datensatz\n",
    "path = str(os.getcwd()).replace(\"\\Projektarbeit\\Aufgaben\", \"\")\n",
    "\n",
    "# Lesen der CSV Datei:\n",
    "dataset = pd.read_csv(path + '\\dataset_custom.csv')\n",
    "\n",
    "dataset = dataset.drop('Unnamed: 0', axis=1)\n",
    "dataset = dataset.drop('Body-Mass-Index', axis=1)\n",
    "\n",
    "# Trennung in des Dataset in Frauen und Männer\n",
    "data_m = dataset[dataset['Geschlecht'] == 0]\n",
    "\n",
    "data_f = dataset[dataset['Geschlecht'] == 1]\n",
    "\n",
    "data_m.info()"
   ]
  },
  {
   "cell_type": "code",
   "execution_count": 25,
   "metadata": {},
   "outputs": [
    {
     "data": {
      "image/png": "[encoded data removed]",
      "text/plain": [
       "<Figure size 400x300 with 1 Axes>"
      ]
     },
     "metadata": {},
     "output_type": "display_data"
    }
   ],
   "source": [
    "# Daten (männlich):\n",
    "\n",
    "plt.figure(figsize=(4, 3))\n",
    "plt.hist(data_m['Gewicht'])\n",
    "plt.xlabel('Gewicht')\n",
    "plt.ylabel('count')\n",
    "plt.tight_layout()"
   ]
  },
  {
   "cell_type": "code",
   "execution_count": 29,
   "metadata": {},
   "outputs": [
    {
     "data": {
      "image/png": "[encoded data removed]",
      "text/plain": [
       "<Figure size 400x300 with 1 Axes>"
      ]
     },
     "metadata": {},
     "output_type": "display_data"
    }
   ],
   "source": [
    "# Daten (weiblich):\n",
    "\n",
    "plt.figure(figsize=(4, 3))\n",
    "plt.hist(data_f['Gewicht'])\n",
    "plt.xlabel('Gewicht')\n",
    "plt.ylabel('count')\n",
    "plt.tight_layout()"
   ]
  },
  {
   "cell_type": "code",
   "execution_count": 33,
   "metadata": {},
   "outputs": [
    {
     "name": "stdout",
     "output_type": "stream",
     "text": [
      "296108 131604 98703 131604\n"
     ]
    }
   ],
   "source": [
    "# Daten aufteilen: Testdaten\n",
    "X_train, X_test, y_train, y_test = train_test_split(data_m.drop(columns=['Gewicht']), data_m['Gewicht'], test_size=0.25)\n",
    "\n",
    "# Nicht-Testdaten weiter aufteilen: Training und Entwicklung\n",
    "X_train, X_dev, y_train, y_dev = train_test_split(X_train, y_train, test_size=0.25)\n",
    "\n",
    "print(len(X_train), len(X_test), len(X_dev), len(X_test))"
   ]
  },
  {
   "cell_type": "code",
   "execution_count": 37,
   "metadata": {},
   "outputs": [
    {
     "data": {
      "text/html": [
       "<style>#sk-container-id-1 {color: black;}#sk-container-id-1 pre{padding: 0;}#sk-container-id-1 div.sk-toggleable {background-color: white;}#sk-container-id-1 label.sk-toggleable__label {cursor: pointer;display: block;width: 100%;margin-bottom: 0;padding: 0.3em;box-sizing: border-box;text-align: center;}#sk-container-id-1 label.sk-toggleable__label-arrow:before {content: \"▸\";float: left;margin-right: 0.25em;color: #696969;}#sk-container-id-1 label.sk-toggleable__label-arrow:hover:before {color: black;}#sk-container-id-1 div.sk-estimator:hover label.sk-toggleable__label-arrow:before {color: black;}#sk-container-id-1 div.sk-toggleable__content {max-height: 0;max-width: 0;overflow: hidden;text-align: left;background-color: #f0f8ff;}#sk-container-id-1 div.sk-toggleable__content pre {margin: 0.2em;color: black;border-radius: 0.25em;background-color: #f0f8ff;}#sk-container-id-1 input.sk-toggleable__control:checked~div.sk-toggleable__content {max-height: 200px;max-width: 100%;overflow: auto;}#sk-container-id-1 input.sk-toggleable__control:checked~label.sk-toggleable__label-arrow:before {content: \"▾\";}#sk-container-id-1 div.sk-estimator input.sk-toggleable__control:checked~label.sk-toggleable__label {background-color: #d4ebff;}#sk-container-id-1 div.sk-label input.sk-toggleable__control:checked~label.sk-toggleable__label {background-color: #d4ebff;}#sk-container-id-1 input.sk-hidden--visually {border: 0;clip: rect(1px 1px 1px 1px);clip: rect(1px, 1px, 1px, 1px);height: 1px;margin: -1px;overflow: hidden;padding: 0;position: absolute;width: 1px;}#sk-container-id-1 div.sk-estimator {font-family: monospace;background-color: #f0f8ff;border: 1px dotted black;border-radius: 0.25em;box-sizing: border-box;margin-bottom: 0.5em;}#sk-container-id-1 div.sk-estimator:hover {background-color: #d4ebff;}#sk-container-id-1 div.sk-parallel-item::after {content: \"\";width: 100%;border-bottom: 1px solid gray;flex-grow: 1;}#sk-container-id-1 div.sk-label:hover label.sk-toggleable__label {background-color: #d4ebff;}#sk-container-id-1 div.sk-serial::before {content: \"\";position: absolute;border-left: 1px solid gray;box-sizing: border-box;top: 0;bottom: 0;left: 50%;z-index: 0;}#sk-container-id-1 div.sk-serial {display: flex;flex-direction: column;align-items: center;background-color: white;padding-right: 0.2em;padding-left: 0.2em;position: relative;}#sk-container-id-1 div.sk-item {position: relative;z-index: 1;}#sk-container-id-1 div.sk-parallel {display: flex;align-items: stretch;justify-content: center;background-color: white;position: relative;}#sk-container-id-1 div.sk-item::before, #sk-container-id-1 div.sk-parallel-item::before {content: \"\";position: absolute;border-left: 1px solid gray;box-sizing: border-box;top: 0;bottom: 0;left: 50%;z-index: -1;}#sk-container-id-1 div.sk-parallel-item {display: flex;flex-direction: column;z-index: 1;position: relative;background-color: white;}#sk-container-id-1 div.sk-parallel-item:first-child::after {align-self: flex-end;width: 50%;}#sk-container-id-1 div.sk-parallel-item:last-child::after {align-self: flex-start;width: 50%;}#sk-container-id-1 div.sk-parallel-item:only-child::after {width: 0;}#sk-container-id-1 div.sk-dashed-wrapped {border: 1px dashed gray;margin: 0 0.4em 0.5em 0.4em;box-sizing: border-box;padding-bottom: 0.4em;background-color: white;}#sk-container-id-1 div.sk-label label {font-family: monospace;font-weight: bold;display: inline-block;line-height: 1.2em;}#sk-container-id-1 div.sk-label-container {text-align: center;}#sk-container-id-1 div.sk-container {/* jupyter's `normalize.less` sets `[hidden] { display: none; }` but bootstrap.min.css set `[hidden] { display: none !important; }` so we also need the `!important` here to be able to override the default hidden behavior on the sphinx rendered scikit-learn.org. See: https://github.com/scikit-learn/scikit-learn/issues/21755 */display: inline-block !important;position: relative;}#sk-container-id-1 div.sk-text-repr-fallback {display: none;}</style><div id=\"sk-container-id-1\" class=\"sk-top-container\"><div class=\"sk-text-repr-fallback\"><pre>LinearRegression()</pre><b>In a Jupyter environment, please rerun this cell to show the HTML representation or trust the notebook. <br />On GitHub, the HTML representation is unable to render, please try loading this page with nbviewer.org.</b></div><div class=\"sk-container\" hidden><div class=\"sk-item\"><div class=\"sk-estimator sk-toggleable\"><input class=\"sk-toggleable__control sk-hidden--visually\" id=\"sk-estimator-id-1\" type=\"checkbox\" checked><label for=\"sk-estimator-id-1\" class=\"sk-toggleable__label sk-toggleable__label-arrow\">LinearRegression</label><div class=\"sk-toggleable__content\"><pre>LinearRegression()</pre></div></div></div></div></div>"
      ],
      "text/plain": [
       "LinearRegression()"
      ]
     },
     "execution_count": 37,
     "metadata": {},
     "output_type": "execute_result"
    }
   ],
   "source": [
    "clf = LinearRegression()\n",
    "clf.fit(X_train, y_train)"
   ]
  },
  {
   "cell_type": "code",
   "execution_count": 39,
   "metadata": {},
   "outputs": [
    {
     "name": "stdout",
     "output_type": "stream",
     "text": [
      "-97.15204137789551 [ 0.00000000e+00 -1.57491446e-01  5.50513184e-01  9.40586816e-01\n",
      "  1.21083873e-03  4.01301397e-03 -2.91936663e-02  1.12520445e-03\n",
      "  1.16112574e-03  1.69446306e-01 -9.49291036e-03  1.94885795e-02\n",
      " -3.73138860e-03 -1.20574930e+00 -4.57863489e-01 -1.75814827e-01\n",
      "  1.93989868e-01  7.11911429e-01  9.33526324e-01  6.68694277e-02\n",
      "  2.41477374e-01 -3.08346802e-01  8.89020630e-02]\n"
     ]
    }
   ],
   "source": [
    "LinearRegression()\n",
    "\n",
    "print(clf.intercept_, clf.coef_)"
   ]
  },
  {
   "cell_type": "code",
   "execution_count": 40,
   "metadata": {},
   "outputs": [
    {
     "name": "stdout",
     "output_type": "stream",
     "text": [
      "RMSE: \n"
     ]
    },
    {
     "data": {
      "text/plain": [
       "26.02923042833213"
      ]
     },
     "execution_count": 40,
     "metadata": {},
     "output_type": "execute_result"
    }
   ],
   "source": [
    "# Vorhersage machen und evaluieren\n",
    "predicted = clf.predict(X_dev)\n",
    "expected = y_dev\n",
    "\n",
    "\n",
    "print(\"RMSE: \")\n",
    "RMSE(expected, predicted)"
   ]
  },
  {
   "cell_type": "markdown",
   "metadata": {},
   "source": [
    "Wenn Sie sowohl modellieren als auch prädizieren wollen, führen Sie die Modellierung nur auf den Trainingsdaten durch, um zu vermeiden, dass Sie ungewollt aus Ihren Testdaten lernen. Trainieren Sie das Prädiktionsmodell im zweiten Schritt aufgrund der Erkenntnisse der Modellierung."
   ]
  }
 ],
 "metadata": {
  "kernelspec": {
   "display_name": "base",
   "language": "python",
   "name": "python3"
  },
  "language_info": {
   "codemirror_mode": {
    "name": "ipython",
    "version": 3
   },
   "file_extension": ".py",
   "mimetype": "text/x-python",
   "name": "python",
   "nbconvert_exporter": "python",
   "pygments_lexer": "ipython3",
   "version": "3.9.13"
  }
 },
 "nbformat": 4,
 "nbformat_minor": 2
}
