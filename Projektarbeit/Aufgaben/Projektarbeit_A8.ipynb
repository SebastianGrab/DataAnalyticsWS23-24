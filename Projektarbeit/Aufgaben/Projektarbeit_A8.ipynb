{
 "cells": [
  {
   "cell_type": "markdown",
   "metadata": {},
   "source": [
    "# Projektarbeit Gruppe 2: Gesundheitsdaten"
   ]
  },
  {
   "cell_type": "markdown",
   "metadata": {},
   "source": [
    "https://www.kaggle.com/datasets/sooyoungher/smoking-drinking-dataset"
   ]
  },
  {
   "cell_type": "markdown",
   "metadata": {},
   "source": [
    "Macht es Sinn die Zielvariable Hypertonie zu verwenden? Bei der Regression benötigt man nummerische Werte, Hypertonie ist eine Klasse (?) 0, 1, 2 macht hierfür keinen Sinn. Eventuell wäre es sinnvoller eine Zielvariable wie das Gewicht zu nehmen. Als weitere Features nimmt man dann alles, wo man nicht weiß, dass es mit dem Gewicht zu tun hat. Also BMI würde nicht gehen, weil man dadurch einfach nur die BMI Formel rückwerts macht. \n",
    "\n"
   ]
  },
  {
   "cell_type": "code",
   "execution_count": 68,
   "metadata": {},
   "outputs": [],
   "source": [
    "# Import der benötigten Bibliotheken\n",
    "\n",
    "import pandas as pd\n",
    "import numpy as np\n",
    "import os\n",
    "import matplotlib.pyplot as plt\n",
    "import seaborn as sns\n",
    "from sklearn.decomposition import PCA\n",
    "from sklearn.preprocessing import StandardScaler\n",
    "import matplotlib.pyplot as plt\n",
    "from sklearn.pipeline import Pipeline\n",
    "from sklearn.linear_model import LogisticRegression\n",
    "from sklearn.model_selection import train_test_split\n",
    "\n",
    "import statsmodels.api as sm\n",
    "\n",
    "from statsmodels.formula.api import ols\n",
    "\n",
    "from statsmodels.stats.anova import anova_lm"
   ]
  },
  {
   "cell_type": "code",
   "execution_count": 69,
   "metadata": {},
   "outputs": [],
   "source": [
    "# Neuer Datensatz\n",
    "path = str(os.getcwd()).replace(\"\\Projektarbeit\\Aufgaben\", \"\")\n",
    "\n",
    "# Lesen der CSV Datei:\n",
    "dataset = pd.read_csv(path + '\\dataset_custom.csv')\n",
    "\n",
    "# Trennung in des Dataset in Frauen und Männer\n",
    "data_m = dataset[dataset['Geschlecht'] == 0]\n",
    "\n",
    "data_f = dataset[dataset['Geschlecht'] == 1]"
   ]
  },
  {
   "cell_type": "code",
   "execution_count": 70,
   "metadata": {},
   "outputs": [
    {
     "data": {
      "text/html": [
       "<div>\n",
       "<style scoped>\n",
       "    .dataframe tbody tr th:only-of-type {\n",
       "        vertical-align: middle;\n",
       "    }\n",
       "\n",
       "    .dataframe tbody tr th {\n",
       "        vertical-align: top;\n",
       "    }\n",
       "\n",
       "    .dataframe thead th {\n",
       "        text-align: right;\n",
       "    }\n",
       "</style>\n",
       "<table border=\"1\" class=\"dataframe\">\n",
       "  <thead>\n",
       "    <tr style=\"text-align: right;\">\n",
       "      <th></th>\n",
       "      <th>Unnamed: 0</th>\n",
       "      <th>Geschlecht</th>\n",
       "      <th>Alter</th>\n",
       "      <th>Größe</th>\n",
       "      <th>Gewicht</th>\n",
       "      <th>Hüftumfang</th>\n",
       "      <th>Nüchterner Blutzucker</th>\n",
       "      <th>Totale Cholesterin</th>\n",
       "      <th>HDL_Cholesterin</th>\n",
       "      <th>LDL_Cholesterin</th>\n",
       "      <th>...</th>\n",
       "      <th>BD_optimal</th>\n",
       "      <th>BD_normal</th>\n",
       "      <th>BD_Grenzwert_normal</th>\n",
       "      <th>BD_Hypertonie Grad 1</th>\n",
       "      <th>BD_Hypertonie Grad 2</th>\n",
       "      <th>BD_Hypertonie Grad 3</th>\n",
       "      <th>Raucher_nie</th>\n",
       "      <th>Raucher_ehem</th>\n",
       "      <th>Raucher_aktiv</th>\n",
       "      <th>Trinker</th>\n",
       "    </tr>\n",
       "  </thead>\n",
       "  <tbody>\n",
       "    <tr>\n",
       "      <th>0</th>\n",
       "      <td>0</td>\n",
       "      <td>0</td>\n",
       "      <td>35</td>\n",
       "      <td>170</td>\n",
       "      <td>75</td>\n",
       "      <td>90.0</td>\n",
       "      <td>99.0</td>\n",
       "      <td>193.0</td>\n",
       "      <td>48.0</td>\n",
       "      <td>126.0</td>\n",
       "      <td>...</td>\n",
       "      <td>0</td>\n",
       "      <td>1</td>\n",
       "      <td>0</td>\n",
       "      <td>0</td>\n",
       "      <td>0</td>\n",
       "      <td>0</td>\n",
       "      <td>1</td>\n",
       "      <td>0</td>\n",
       "      <td>0</td>\n",
       "      <td>1</td>\n",
       "    </tr>\n",
       "    <tr>\n",
       "      <th>1</th>\n",
       "      <td>1</td>\n",
       "      <td>0</td>\n",
       "      <td>30</td>\n",
       "      <td>180</td>\n",
       "      <td>80</td>\n",
       "      <td>89.0</td>\n",
       "      <td>106.0</td>\n",
       "      <td>228.0</td>\n",
       "      <td>55.0</td>\n",
       "      <td>148.0</td>\n",
       "      <td>...</td>\n",
       "      <td>0</td>\n",
       "      <td>1</td>\n",
       "      <td>0</td>\n",
       "      <td>0</td>\n",
       "      <td>0</td>\n",
       "      <td>0</td>\n",
       "      <td>0</td>\n",
       "      <td>0</td>\n",
       "      <td>1</td>\n",
       "      <td>0</td>\n",
       "    </tr>\n",
       "    <tr>\n",
       "      <th>2</th>\n",
       "      <td>2</td>\n",
       "      <td>0</td>\n",
       "      <td>40</td>\n",
       "      <td>165</td>\n",
       "      <td>75</td>\n",
       "      <td>91.0</td>\n",
       "      <td>98.0</td>\n",
       "      <td>136.0</td>\n",
       "      <td>41.0</td>\n",
       "      <td>74.0</td>\n",
       "      <td>...</td>\n",
       "      <td>1</td>\n",
       "      <td>0</td>\n",
       "      <td>0</td>\n",
       "      <td>0</td>\n",
       "      <td>0</td>\n",
       "      <td>0</td>\n",
       "      <td>1</td>\n",
       "      <td>0</td>\n",
       "      <td>0</td>\n",
       "      <td>0</td>\n",
       "    </tr>\n",
       "    <tr>\n",
       "      <th>3</th>\n",
       "      <td>3</td>\n",
       "      <td>0</td>\n",
       "      <td>50</td>\n",
       "      <td>175</td>\n",
       "      <td>80</td>\n",
       "      <td>91.0</td>\n",
       "      <td>95.0</td>\n",
       "      <td>201.0</td>\n",
       "      <td>76.0</td>\n",
       "      <td>104.0</td>\n",
       "      <td>...</td>\n",
       "      <td>0</td>\n",
       "      <td>0</td>\n",
       "      <td>0</td>\n",
       "      <td>1</td>\n",
       "      <td>0</td>\n",
       "      <td>0</td>\n",
       "      <td>1</td>\n",
       "      <td>0</td>\n",
       "      <td>0</td>\n",
       "      <td>0</td>\n",
       "    </tr>\n",
       "    <tr>\n",
       "      <th>4</th>\n",
       "      <td>4</td>\n",
       "      <td>0</td>\n",
       "      <td>50</td>\n",
       "      <td>165</td>\n",
       "      <td>60</td>\n",
       "      <td>80.0</td>\n",
       "      <td>101.0</td>\n",
       "      <td>199.0</td>\n",
       "      <td>61.0</td>\n",
       "      <td>117.0</td>\n",
       "      <td>...</td>\n",
       "      <td>0</td>\n",
       "      <td>0</td>\n",
       "      <td>1</td>\n",
       "      <td>0</td>\n",
       "      <td>0</td>\n",
       "      <td>0</td>\n",
       "      <td>1</td>\n",
       "      <td>0</td>\n",
       "      <td>0</td>\n",
       "      <td>0</td>\n",
       "    </tr>\n",
       "  </tbody>\n",
       "</table>\n",
       "<p>5 rows × 26 columns</p>\n",
       "</div>"
      ],
      "text/plain": [
       "   Unnamed: 0  Geschlecht  Alter  Größe  Gewicht  Hüftumfang  \\\n",
       "0           0           0     35    170       75        90.0   \n",
       "1           1           0     30    180       80        89.0   \n",
       "2           2           0     40    165       75        91.0   \n",
       "3           3           0     50    175       80        91.0   \n",
       "4           4           0     50    165       60        80.0   \n",
       "\n",
       "   Nüchterner Blutzucker  Totale Cholesterin  HDL_Cholesterin  \\\n",
       "0                   99.0               193.0             48.0   \n",
       "1                  106.0               228.0             55.0   \n",
       "2                   98.0               136.0             41.0   \n",
       "3                   95.0               201.0             76.0   \n",
       "4                  101.0               199.0             61.0   \n",
       "\n",
       "   LDL_Cholesterin  ...  BD_optimal  BD_normal  BD_Grenzwert_normal  \\\n",
       "0            126.0  ...           0          1                    0   \n",
       "1            148.0  ...           0          1                    0   \n",
       "2             74.0  ...           1          0                    0   \n",
       "3            104.0  ...           0          0                    0   \n",
       "4            117.0  ...           0          0                    1   \n",
       "\n",
       "   BD_Hypertonie Grad 1  BD_Hypertonie Grad 2  BD_Hypertonie Grad 3  \\\n",
       "0                     0                     0                     0   \n",
       "1                     0                     0                     0   \n",
       "2                     0                     0                     0   \n",
       "3                     1                     0                     0   \n",
       "4                     0                     0                     0   \n",
       "\n",
       "   Raucher_nie  Raucher_ehem  Raucher_aktiv  Trinker  \n",
       "0            1             0              0        1  \n",
       "1            0             0              1        0  \n",
       "2            1             0              0        0  \n",
       "3            1             0              0        0  \n",
       "4            1             0              0        0  \n",
       "\n",
       "[5 rows x 26 columns]"
      ]
     },
     "execution_count": 70,
     "metadata": {},
     "output_type": "execute_result"
    }
   ],
   "source": [
    "data_m.head()\n",
    "# data_m.info()"
   ]
  },
  {
   "cell_type": "markdown",
   "metadata": {},
   "source": [
    "# Anforderungen 8: Regression\n",
    "\n",
    "Entscheiden Sie, ob Sie mit der linearen Regression modellieren, prädizieren, oder beides erreichen wollen."
   ]
  },
  {
   "cell_type": "code",
   "execution_count": 71,
   "metadata": {},
   "outputs": [],
   "source": [
    "# Für dieses Notebook wird der Ansatz der Modellierung gewählt, da in vorherigen Notebook eine Softmax Regression durchgeführt wurde, die in  \n",
    "# Teilen bereits prädiziert und keine befriedigenden Ergebnisse geliefert hat. Durch Modellierung wird versucht neue und tiefgreifendere Erkentnisse \n",
    "# zu gewinnen. Ziel wäre es beispielsweise Aussagen treffen zu können wie: \"Personen mit dem Merkmal X neigen dazu an Hypertonie erkrankt zu sein\". \n",
    "\n",
    "# Als Zielvariable wird das Feature \"Gewicht\" gewählt, da es sich dabei um einen numerischen Wert handelt und das Feature auch ohne spezifisches Fachwissen verstanden werden kann. "
   ]
  },
  {
   "cell_type": "markdown",
   "metadata": {},
   "source": [
    "Führen Sie die entsprechende(n) Analyse(n) methodisch sauber durch und berichten Sie entsprechend der    eingeführten Kriterien und Evaluationsmaße das Ergebnis."
   ]
  },
  {
   "cell_type": "code",
   "execution_count": 72,
   "metadata": {},
   "outputs": [
    {
     "name": "stdout",
     "output_type": "stream",
     "text": [
      "                            OLS Regression Results                            \n",
      "==============================================================================\n",
      "Dep. Variable:                Gewicht   R-squared:                       0.590\n",
      "Model:                            OLS   Adj. R-squared:                  0.590\n",
      "Method:                 Least Squares   F-statistic:                 7.581e+05\n",
      "Date:                Wed, 13 Dec 2023   Prob (F-statistic):               0.00\n",
      "Time:                        10:01:24   Log-Likelihood:            -1.7842e+06\n",
      "No. Observations:              526415   AIC:                         3.568e+06\n",
      "Df Residuals:                  526413   BIC:                         3.568e+06\n",
      "Df Model:                           1                                         \n",
      "Covariance Type:            nonrobust                                         \n",
      "==============================================================================\n",
      "                 coef    std err          t      P>|t|      [0.025      0.975]\n",
      "------------------------------------------------------------------------------\n",
      "Intercept    -19.1470      0.103   -185.885      0.000     -19.349     -18.945\n",
      "Hüftumfang     1.0494      0.001    870.703      0.000       1.047       1.052\n",
      "==============================================================================\n",
      "Omnibus:                     3588.480   Durbin-Watson:                   2.000\n",
      "Prob(Omnibus):                  0.000   Jarque-Bera (JB):             4904.245\n",
      "Skew:                           0.093   Prob(JB):                         0.00\n",
      "Kurtosis:                       3.434   Cond. No.                         890.\n",
      "==============================================================================\n",
      "\n",
      "Notes:\n",
      "[1] Standard Errors assume that the covariance matrix of the errors is correctly specified.\n"
     ]
    }
   ],
   "source": [
    "# Zunächst wird nur der Vergleich zwischen Gewicht und Hüftumfang angeschaut, hierbei werden die Analysen für Männer und Frauen getrennt voneinander durchgeführt. \n",
    "# Männer \n",
    "gewicht_1m= ols(\"Gewicht ~ Hüftumfang\", data_m).fit()\n",
    "\n",
    "print(gewicht_1m.summary())"
   ]
  },
  {
   "cell_type": "code",
   "execution_count": 73,
   "metadata": {},
   "outputs": [],
   "source": [
    "# Das Modell versucht, die Beziehung zwischen der abängige Variable (Gewicht) und der unabhängigen Variablen \n",
    "# (Hüftumfang) zu modellieren, um zu verstehen, wie diese Variable das Gewicht beeinflussen könnte.\n",
    "\n",
    "# Das Bestimmtheitsmaß erzielt einen Wert von 59%. Nachdem redizieren erhält man eine Korrelation von 0.77 für den Datensatz der \n",
    "# Männer. "
   ]
  },
  {
   "cell_type": "code",
   "execution_count": 74,
   "metadata": {},
   "outputs": [
    {
     "name": "stdout",
     "output_type": "stream",
     "text": [
      "                            OLS Regression Results                            \n",
      "==============================================================================\n",
      "Dep. Variable:                Gewicht   R-squared:                       0.503\n",
      "Model:                            OLS   Adj. R-squared:                  0.503\n",
      "Method:                 Least Squares   F-statistic:                 4.699e+05\n",
      "Date:                Wed, 13 Dec 2023   Prob (F-statistic):               0.00\n",
      "Time:                        10:01:24   Log-Likelihood:            -1.5121e+06\n",
      "No. Observations:              464874   AIC:                         3.024e+06\n",
      "Df Residuals:                  464872   BIC:                         3.024e+06\n",
      "Df Model:                           1                                         \n",
      "Covariance Type:            nonrobust                                         \n",
      "==============================================================================\n",
      "                 coef    std err          t      P>|t|      [0.025      0.975]\n",
      "------------------------------------------------------------------------------\n",
      "Intercept      2.6440      0.078     34.028      0.000       2.492       2.796\n",
      "Hüftumfang     0.6890      0.001    685.523      0.000       0.687       0.691\n",
      "==============================================================================\n",
      "Omnibus:                    12004.258   Durbin-Watson:                   2.001\n",
      "Prob(Omnibus):                  0.000   Jarque-Bera (JB):            21679.571\n",
      "Skew:                           0.212   Prob(JB):                         0.00\n",
      "Kurtosis:                       3.969   Cond. No.                         655.\n",
      "==============================================================================\n",
      "\n",
      "Notes:\n",
      "[1] Standard Errors assume that the covariance matrix of the errors is correctly specified.\n"
     ]
    }
   ],
   "source": [
    "# Frauen \n",
    "gewicht_1f= ols(\"Gewicht ~ Hüftumfang\", data_f).fit()\n",
    "\n",
    "print(gewicht_1f.summary())"
   ]
  },
  {
   "cell_type": "code",
   "execution_count": 75,
   "metadata": {},
   "outputs": [],
   "source": [
    "# Das Bestimmtheitsmaß erzielt einen Wert von 50,3%. Nachdem redizieren erhält man eine Korrelation von 0.71 für den Datensatz der \n",
    "# Frauen. \n",
    "\n",
    "# Es zeigt sich, dass trotz selber Parameter die Korrelation bei den Männern etwas höher ist als bei den Frauen."
   ]
  },
  {
   "cell_type": "code",
   "execution_count": 76,
   "metadata": {},
   "outputs": [
    {
     "name": "stdout",
     "output_type": "stream",
     "text": [
      "                            OLS Regression Results                            \n",
      "==============================================================================\n",
      "Dep. Variable:                Gewicht   R-squared:                       0.787\n",
      "Model:                            OLS   Adj. R-squared:                  0.787\n",
      "Method:                 Least Squares   F-statistic:                 4.872e+05\n",
      "Date:                Wed, 13 Dec 2023   Prob (F-statistic):               0.00\n",
      "Time:                        10:01:25   Log-Likelihood:            -1.6116e+06\n",
      "No. Observations:              526415   AIC:                         3.223e+06\n",
      "Df Residuals:                  526410   BIC:                         3.223e+06\n",
      "Df Model:                           4                                         \n",
      "Covariance Type:            nonrobust                                         \n",
      "===================================================================================\n",
      "                      coef    std err          t      P>|t|      [0.025      0.975]\n",
      "-----------------------------------------------------------------------------------\n",
      "Intercept         -99.0429      0.223   -443.626      0.000     -99.480     -98.605\n",
      "Hüftumfang          0.9883      0.001   1102.854      0.000       0.987       0.990\n",
      "Größe               0.5444      0.001    431.276      0.000       0.542       0.547\n",
      "Alter              -0.1595      0.001   -270.958      0.000      -0.161      -0.158\n",
      "LDL_Cholesterin     0.0066      0.000     32.758      0.000       0.006       0.007\n",
      "==============================================================================\n",
      "Omnibus:                    13520.563   Durbin-Watson:                   2.000\n",
      "Prob(Omnibus):                  0.000   Jarque-Bera (JB):            25741.139\n",
      "Skew:                           0.192   Prob(JB):                         0.00\n",
      "Kurtosis:                       4.013   Cond. No.                     7.07e+03\n",
      "==============================================================================\n",
      "\n",
      "Notes:\n",
      "[1] Standard Errors assume that the covariance matrix of the errors is correctly specified.\n",
      "[2] The condition number is large, 7.07e+03. This might indicate that there are\n",
      "strong multicollinearity or other numerical problems.\n"
     ]
    }
   ],
   "source": [
    "# In einem nächsten Schritt werden zunächst einmal intuitiv weitere Features hinzugenommen um zu untersuchen, wie sich diese auswirken: \n",
    "\n",
    "#Männer \n",
    "gewicht_full_m= ols(\"Gewicht ~ Hüftumfang + Größe + Alter + LDL_Cholesterin\", data_m).fit()\n",
    "\n",
    "print(gewicht_full_m.summary())"
   ]
  },
  {
   "cell_type": "code",
   "execution_count": 77,
   "metadata": {},
   "outputs": [],
   "source": [
    "# Das Bestimmtheitsmaß erzielt einen Wert von 78,7%. Nachdem redizieren erhält man eine Korrelation von 0.89 für den Datensatz der \n",
    "# Männer. "
   ]
  },
  {
   "cell_type": "code",
   "execution_count": 78,
   "metadata": {},
   "outputs": [
    {
     "name": "stdout",
     "output_type": "stream",
     "text": [
      "                            OLS Regression Results                            \n",
      "==============================================================================\n",
      "Dep. Variable:                Gewicht   R-squared:                       0.683\n",
      "Model:                            OLS   Adj. R-squared:                  0.683\n",
      "Method:                 Least Squares   F-statistic:                 2.508e+05\n",
      "Date:                Wed, 13 Dec 2023   Prob (F-statistic):               0.00\n",
      "Time:                        10:01:25   Log-Likelihood:            -1.4072e+06\n",
      "No. Observations:              464874   AIC:                         2.814e+06\n",
      "Df Residuals:                  464869   BIC:                         2.814e+06\n",
      "Df Model:                           4                                         \n",
      "Covariance Type:            nonrobust                                         \n",
      "===================================================================================\n",
      "                      coef    std err          t      P>|t|      [0.025      0.975]\n",
      "-----------------------------------------------------------------------------------\n",
      "Intercept         -74.8863      0.233   -321.014      0.000     -75.344     -74.429\n",
      "Hüftumfang          0.7868      0.001    902.421      0.000       0.785       0.789\n",
      "Größe               0.4754      0.001    345.391      0.000       0.473       0.478\n",
      "Alter              -0.0963      0.001   -149.527      0.000      -0.098      -0.095\n",
      "LDL_Cholesterin     0.0087      0.000     42.449      0.000       0.008       0.009\n",
      "==============================================================================\n",
      "Omnibus:                    12448.590   Durbin-Watson:                   1.998\n",
      "Prob(Omnibus):                  0.000   Jarque-Bera (JB):            23401.377\n",
      "Skew:                           0.207   Prob(JB):                         0.00\n",
      "Kurtosis:                       4.018   Cond. No.                     6.80e+03\n",
      "==============================================================================\n",
      "\n",
      "Notes:\n",
      "[1] Standard Errors assume that the covariance matrix of the errors is correctly specified.\n",
      "[2] The condition number is large, 6.8e+03. This might indicate that there are\n",
      "strong multicollinearity or other numerical problems.\n"
     ]
    }
   ],
   "source": [
    "# Frauen \n",
    "gewicht_full_f= ols(\"Gewicht ~ Hüftumfang + Größe + Alter + LDL_Cholesterin\", data_f).fit()\n",
    "\n",
    "print(gewicht_full_f.summary())"
   ]
  },
  {
   "cell_type": "code",
   "execution_count": 79,
   "metadata": {},
   "outputs": [],
   "source": [
    "# Das Bestimmtheitsmaß erzielt einen Wert von 68,3%. Nachdem redizieren erhält man eine Korrelation von 0.83 für den Datensatz der \n",
    "# Frauen. "
   ]
  },
  {
   "cell_type": "code",
   "execution_count": 80,
   "metadata": {},
   "outputs": [
    {
     "name": "stdout",
     "output_type": "stream",
     "text": [
      "\n",
      "ANOVA results\n",
      "   df_resid           ssr  df_diff       ss_diff              F  Pr(>F)\n",
      "0  526413.0  2.709126e+07      0.0           NaN            NaN     NaN\n",
      "1  526410.0  1.405955e+07      3.0  1.303171e+07  162642.104067     0.0\n"
     ]
    }
   ],
   "source": [
    "# Modellvergleich mit ANOVA \n",
    "\n",
    "anova_results = anova_lm(gewicht_1m, gewicht_full_m)\n",
    "\n",
    "print('\\nANOVA results')\n",
    "print(anova_results)"
   ]
  },
  {
   "cell_type": "code",
   "execution_count": 81,
   "metadata": {},
   "outputs": [],
   "source": [
    "# In dieser Analyse werden die beiden Auswertungen gewicht_1m und gewicht_full_m untersucht um festzustellen, ob die Hinzunahme von mereren Features wirklich eine höhere Aussagekraft liefert. "
   ]
  },
  {
   "cell_type": "markdown",
   "metadata": {},
   "source": [
    "Wenn Sie sowohl modellieren als auch prädizieren wollen, führen Sie die Modellierung nur auf den Trainingsdaten durch, um zu vermeiden, dass Sie ungewollt aus Ihren Testdaten lernen. Trainieren Sie das Prädiktionsmodell im zweiten Schritt aufgrund der Erkenntnisse der Modellierung."
   ]
  },
  {
   "cell_type": "code",
   "execution_count": 82,
   "metadata": {},
   "outputs": [],
   "source": [
    "# In einem nächsten Schritt geht es darum, einen Fachexperten aus dem medizimnischen Kontext zu befragen, welche Features sich für weitere Untersuhungen eignen würden. "
   ]
  },
  {
   "cell_type": "code",
   "execution_count": 83,
   "metadata": {},
   "outputs": [],
   "source": [
    "\n",
    "# coef erklärt die gewichtung also z.b wenn man trinker ist steigt der hüftumfang um faktor 1,5. wenn man raucher war sinkt er um 0,8 "
   ]
  }
 ],
 "metadata": {
  "kernelspec": {
   "display_name": "base",
   "language": "python",
   "name": "python3"
  },
  "language_info": {
   "codemirror_mode": {
    "name": "ipython",
    "version": 3
   },
   "file_extension": ".py",
   "mimetype": "text/x-python",
   "name": "python",
   "nbconvert_exporter": "python",
   "pygments_lexer": "ipython3",
   "version": "3.11.5"
  }
 },
 "nbformat": 4,
 "nbformat_minor": 2
}
