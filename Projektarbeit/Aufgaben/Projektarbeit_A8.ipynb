{
 "cells": [
  {
   "cell_type": "markdown",
   "metadata": {},
   "source": [
    "# Projektarbeit Gruppe 2: Gesundheitsdaten"
   ]
  },
  {
   "cell_type": "markdown",
   "metadata": {},
   "source": [
    "https://www.kaggle.com/datasets/sooyoungher/smoking-drinking-dataset"
   ]
  },
  {
   "cell_type": "code",
   "execution_count": 19,
   "metadata": {},
   "outputs": [],
   "source": [
    "# Import der benötigten Bibliotheken\n",
    "\n",
    "import pandas as pd\n",
    "import numpy as np\n",
    "import os\n",
    "import matplotlib.pyplot as plt\n",
    "import seaborn as sns\n",
    "from sklearn.decomposition import PCA\n",
    "from sklearn.preprocessing import StandardScaler\n",
    "import matplotlib.pyplot as plt\n",
    "from sklearn.pipeline import Pipeline\n",
    "from sklearn.linear_model import LogisticRegression\n",
    "from sklearn.model_selection import train_test_split\n",
    "\n",
    "import statsmodels.api as sm\n",
    "\n",
    "from statsmodels.formula.api import ols\n",
    "\n",
    "from statsmodels.stats.anova import anova_lm"
   ]
  },
  {
   "cell_type": "code",
   "execution_count": 10,
   "metadata": {},
   "outputs": [],
   "source": [
    "# Neuer Datensatz\n",
    "path = str(os.getcwd()).replace(\"\\Projektarbeit\\Aufgaben\", \"\")\n",
    "\n",
    "# Lesen der CSV Datei:\n",
    "dataset = pd.read_csv(path + '\\dataset_custom.csv')\n",
    "\n",
    "# Trennung in des Dataset in Frauen und Männer\n",
    "data_m = dataset[dataset['Geschlecht'] == 0]\n",
    "\n",
    "data_f = dataset[dataset['Geschlecht'] == 1]"
   ]
  },
  {
   "cell_type": "code",
   "execution_count": 7,
   "metadata": {},
   "outputs": [],
   "source": [
    "# Um die Sample zahl zu erhöhren werden die alle BD-Spalten zusammen gefasst.\n",
    "#ANstelle der feinen unterscheidung die simplere darstellung um hoffentlich bessere Ergebnisse zu bekommen.\n",
    "\n",
    "def summerize_col(data, neueSpalte, Spalte1, Spalte2, Spalte3):\n",
    "        data[neueSpalte] = data[[Spalte1, Spalte2, Spalte3]].any(axis=1).astype(int)\n",
    "        data = data.drop(columns=[Spalte1, Spalte2, Spalte3])\n",
    "        return data"
   ]
  },
  {
   "cell_type": "code",
   "execution_count": 12,
   "metadata": {},
   "outputs": [
    {
     "name": "stderr",
     "output_type": "stream",
     "text": [
      "C:\\Users\\imanu\\AppData\\Local\\Temp\\ipykernel_27184\\2465580812.py:4: SettingWithCopyWarning: \n",
      "A value is trying to be set on a copy of a slice from a DataFrame.\n",
      "Try using .loc[row_indexer,col_indexer] = value instead\n",
      "\n",
      "See the caveats in the documentation: https://pandas.pydata.org/pandas-docs/stable/user_guide/indexing.html#returning-a-view-versus-a-copy\n",
      "  data[neueSpalte] = data[[Spalte1, Spalte2, Spalte3]].any(axis=1).astype(int)\n",
      "C:\\Users\\imanu\\AppData\\Local\\Temp\\ipykernel_27184\\2465580812.py:4: SettingWithCopyWarning: \n",
      "A value is trying to be set on a copy of a slice from a DataFrame.\n",
      "Try using .loc[row_indexer,col_indexer] = value instead\n",
      "\n",
      "See the caveats in the documentation: https://pandas.pydata.org/pandas-docs/stable/user_guide/indexing.html#returning-a-view-versus-a-copy\n",
      "  data[neueSpalte] = data[[Spalte1, Spalte2, Spalte3]].any(axis=1).astype(int)\n"
     ]
    }
   ],
   "source": [
    "data_m = summerize_col(data_m, 'Hypertonie', 'BD_Hypertonie Grad 1', 'BD_Hypertonie Grad 2', 'BD_Hypertonie Grad 3')\n",
    "data_f = summerize_col(data_f, 'Hypertonie', 'BD_Hypertonie Grad 1', 'BD_Hypertonie Grad 2', 'BD_Hypertonie Grad 3')\n",
    "\n",
    "data_m = summerize_col(data_m, 'BD_unkritisch', 'BD_optimal', 'BD_normal', 'BD_Grenzwert_normal')\n",
    "data_f = summerize_col(data_f, 'BD_unkritisch', 'BD_optimal', 'BD_normal', 'BD_Grenzwert_normal')"
   ]
  },
  {
   "cell_type": "code",
   "execution_count": 13,
   "metadata": {},
   "outputs": [
    {
     "data": {
      "text/html": [
       "<div>\n",
       "<style scoped>\n",
       "    .dataframe tbody tr th:only-of-type {\n",
       "        vertical-align: middle;\n",
       "    }\n",
       "\n",
       "    .dataframe tbody tr th {\n",
       "        vertical-align: top;\n",
       "    }\n",
       "\n",
       "    .dataframe thead th {\n",
       "        text-align: right;\n",
       "    }\n",
       "</style>\n",
       "<table border=\"1\" class=\"dataframe\">\n",
       "  <thead>\n",
       "    <tr style=\"text-align: right;\">\n",
       "      <th></th>\n",
       "      <th>Unnamed: 0</th>\n",
       "      <th>Geschlecht</th>\n",
       "      <th>Alter</th>\n",
       "      <th>Größe</th>\n",
       "      <th>Gewicht</th>\n",
       "      <th>Hüftumfang</th>\n",
       "      <th>Nüchterner Blutzucker</th>\n",
       "      <th>Totale Cholesterin</th>\n",
       "      <th>HDL_Cholesterin</th>\n",
       "      <th>LDL_Cholesterin</th>\n",
       "      <th>...</th>\n",
       "      <th>SGOT_AST</th>\n",
       "      <th>SGOT_ALT</th>\n",
       "      <th>gamma_GTP</th>\n",
       "      <th>Body-Mass-Index</th>\n",
       "      <th>Raucher_nie</th>\n",
       "      <th>Raucher_ehem</th>\n",
       "      <th>Raucher_aktiv</th>\n",
       "      <th>Trinker</th>\n",
       "      <th>Hypertonie</th>\n",
       "      <th>BD_unkritisch</th>\n",
       "    </tr>\n",
       "  </thead>\n",
       "  <tbody>\n",
       "    <tr>\n",
       "      <th>0</th>\n",
       "      <td>0</td>\n",
       "      <td>0</td>\n",
       "      <td>35</td>\n",
       "      <td>170</td>\n",
       "      <td>75</td>\n",
       "      <td>90.0</td>\n",
       "      <td>99.0</td>\n",
       "      <td>193.0</td>\n",
       "      <td>48.0</td>\n",
       "      <td>126.0</td>\n",
       "      <td>...</td>\n",
       "      <td>21.0</td>\n",
       "      <td>35.0</td>\n",
       "      <td>40.0</td>\n",
       "      <td>25.95</td>\n",
       "      <td>1</td>\n",
       "      <td>0</td>\n",
       "      <td>0</td>\n",
       "      <td>1</td>\n",
       "      <td>0</td>\n",
       "      <td>1</td>\n",
       "    </tr>\n",
       "    <tr>\n",
       "      <th>1</th>\n",
       "      <td>1</td>\n",
       "      <td>0</td>\n",
       "      <td>30</td>\n",
       "      <td>180</td>\n",
       "      <td>80</td>\n",
       "      <td>89.0</td>\n",
       "      <td>106.0</td>\n",
       "      <td>228.0</td>\n",
       "      <td>55.0</td>\n",
       "      <td>148.0</td>\n",
       "      <td>...</td>\n",
       "      <td>20.0</td>\n",
       "      <td>36.0</td>\n",
       "      <td>27.0</td>\n",
       "      <td>24.69</td>\n",
       "      <td>0</td>\n",
       "      <td>0</td>\n",
       "      <td>1</td>\n",
       "      <td>0</td>\n",
       "      <td>0</td>\n",
       "      <td>1</td>\n",
       "    </tr>\n",
       "    <tr>\n",
       "      <th>2</th>\n",
       "      <td>2</td>\n",
       "      <td>0</td>\n",
       "      <td>40</td>\n",
       "      <td>165</td>\n",
       "      <td>75</td>\n",
       "      <td>91.0</td>\n",
       "      <td>98.0</td>\n",
       "      <td>136.0</td>\n",
       "      <td>41.0</td>\n",
       "      <td>74.0</td>\n",
       "      <td>...</td>\n",
       "      <td>47.0</td>\n",
       "      <td>32.0</td>\n",
       "      <td>68.0</td>\n",
       "      <td>27.55</td>\n",
       "      <td>1</td>\n",
       "      <td>0</td>\n",
       "      <td>0</td>\n",
       "      <td>0</td>\n",
       "      <td>0</td>\n",
       "      <td>1</td>\n",
       "    </tr>\n",
       "    <tr>\n",
       "      <th>3</th>\n",
       "      <td>3</td>\n",
       "      <td>0</td>\n",
       "      <td>50</td>\n",
       "      <td>175</td>\n",
       "      <td>80</td>\n",
       "      <td>91.0</td>\n",
       "      <td>95.0</td>\n",
       "      <td>201.0</td>\n",
       "      <td>76.0</td>\n",
       "      <td>104.0</td>\n",
       "      <td>...</td>\n",
       "      <td>29.0</td>\n",
       "      <td>34.0</td>\n",
       "      <td>18.0</td>\n",
       "      <td>26.12</td>\n",
       "      <td>1</td>\n",
       "      <td>0</td>\n",
       "      <td>0</td>\n",
       "      <td>0</td>\n",
       "      <td>1</td>\n",
       "      <td>0</td>\n",
       "    </tr>\n",
       "    <tr>\n",
       "      <th>4</th>\n",
       "      <td>4</td>\n",
       "      <td>0</td>\n",
       "      <td>50</td>\n",
       "      <td>165</td>\n",
       "      <td>60</td>\n",
       "      <td>80.0</td>\n",
       "      <td>101.0</td>\n",
       "      <td>199.0</td>\n",
       "      <td>61.0</td>\n",
       "      <td>117.0</td>\n",
       "      <td>...</td>\n",
       "      <td>19.0</td>\n",
       "      <td>12.0</td>\n",
       "      <td>25.0</td>\n",
       "      <td>22.04</td>\n",
       "      <td>1</td>\n",
       "      <td>0</td>\n",
       "      <td>0</td>\n",
       "      <td>0</td>\n",
       "      <td>0</td>\n",
       "      <td>1</td>\n",
       "    </tr>\n",
       "  </tbody>\n",
       "</table>\n",
       "<p>5 rows × 22 columns</p>\n",
       "</div>"
      ],
      "text/plain": [
       "   Unnamed: 0  Geschlecht  Alter  Größe  Gewicht  Hüftumfang  \\\n",
       "0           0           0     35    170       75        90.0   \n",
       "1           1           0     30    180       80        89.0   \n",
       "2           2           0     40    165       75        91.0   \n",
       "3           3           0     50    175       80        91.0   \n",
       "4           4           0     50    165       60        80.0   \n",
       "\n",
       "   Nüchterner Blutzucker  Totale Cholesterin  HDL_Cholesterin  \\\n",
       "0                   99.0               193.0             48.0   \n",
       "1                  106.0               228.0             55.0   \n",
       "2                   98.0               136.0             41.0   \n",
       "3                   95.0               201.0             76.0   \n",
       "4                  101.0               199.0             61.0   \n",
       "\n",
       "   LDL_Cholesterin  ...  SGOT_AST  SGOT_ALT  gamma_GTP  Body-Mass-Index  \\\n",
       "0            126.0  ...      21.0      35.0       40.0            25.95   \n",
       "1            148.0  ...      20.0      36.0       27.0            24.69   \n",
       "2             74.0  ...      47.0      32.0       68.0            27.55   \n",
       "3            104.0  ...      29.0      34.0       18.0            26.12   \n",
       "4            117.0  ...      19.0      12.0       25.0            22.04   \n",
       "\n",
       "   Raucher_nie  Raucher_ehem  Raucher_aktiv  Trinker  Hypertonie  \\\n",
       "0            1             0              0        1           0   \n",
       "1            0             0              1        0           0   \n",
       "2            1             0              0        0           0   \n",
       "3            1             0              0        0           1   \n",
       "4            1             0              0        0           0   \n",
       "\n",
       "   BD_unkritisch  \n",
       "0              1  \n",
       "1              1  \n",
       "2              1  \n",
       "3              0  \n",
       "4              1  \n",
       "\n",
       "[5 rows x 22 columns]"
      ]
     },
     "execution_count": 13,
     "metadata": {},
     "output_type": "execute_result"
    }
   ],
   "source": [
    "data_m.head()"
   ]
  },
  {
   "cell_type": "markdown",
   "metadata": {},
   "source": [
    "# Anforderungen 8: Regression\n",
    "\n",
    "Entscheiden Sie, ob Sie mit der linearen Regression modellieren, prädizieren, oder beides erreichen wollen."
   ]
  },
  {
   "cell_type": "markdown",
   "metadata": {},
   "source": [
    "Vorerst modellieren, da prädizieren schon mit der Softmax Regression nicht befriedigend war. \n",
    "Evtl. können durch modellieren weitere Erkenntnisse gewonnen werden. Erfreulich wäre so etwas wie: \"Personen mit den Merkmalen X neigen dazu an Hypertonie zu leiden.\""
   ]
  },
  {
   "cell_type": "markdown",
   "metadata": {},
   "source": [
    "Führen Sie die entsprechende(n) Analyse(n) methodisch sauber durch und berichten Sie entsprechend der    eingeführten Kriterien und Evaluationsmaße das Ergebnis."
   ]
  },
  {
   "cell_type": "markdown",
   "metadata": {},
   "source": [
    "## @Sebi und Josh: Die im folgenden beschriebenen Korrelationen errechenn sich aus der Wurzel des \"R-squared\"-Wertes (oben rechts beim Output des summarys). Siehe auch Skript meine Mäuse :*"
   ]
  },
  {
   "cell_type": "code",
   "execution_count": 22,
   "metadata": {},
   "outputs": [
    {
     "name": "stdout",
     "output_type": "stream",
     "text": [
      "                            OLS Regression Results                            \n",
      "==============================================================================\n",
      "Dep. Variable:             Hypertonie   R-squared:                       0.006\n",
      "Model:                            OLS   Adj. R-squared:                  0.006\n",
      "Method:                 Least Squares   F-statistic:                     527.8\n",
      "Date:                Fri, 08 Dec 2023   Prob (F-statistic):               0.00\n",
      "Time:                        17:21:06   Log-Likelihood:            -2.0750e+05\n",
      "No. Observations:              526415   AIC:                         4.150e+05\n",
      "Df Residuals:                  526408   BIC:                         4.151e+05\n",
      "Df Model:                           6                                         \n",
      "Covariance Type:            nonrobust                                         \n",
      "===================================================================================\n",
      "                      coef    std err          t      P>|t|      [0.025      0.975]\n",
      "-----------------------------------------------------------------------------------\n",
      "Intercept          -0.1005      0.007    -14.628      0.000      -0.114      -0.087\n",
      "HDL_Cholesterin    -0.0004    3.7e-05    -10.090      0.000      -0.000      -0.000\n",
      "LDL_Cholesterin -9.726e-06   1.41e-05     -0.687      0.492   -3.75e-05     1.8e-05\n",
      "Trinker             0.0317      0.001     28.885      0.000       0.030       0.034\n",
      "Raucher_aktiv      -0.0150      0.001    -12.227      0.000      -0.017      -0.013\n",
      "Raucher_ehem        0.0182      0.001     14.437      0.000       0.016       0.021\n",
      "Hämoglobin          0.0166      0.000     38.422      0.000       0.016       0.017\n",
      "==============================================================================\n",
      "Omnibus:                   167367.943   Durbin-Watson:                   2.000\n",
      "Prob(Omnibus):                  0.000   Jarque-Bera (JB):           383829.734\n",
      "Skew:                           1.911   Prob(JB):                         0.00\n",
      "Kurtosis:                       4.699   Cond. No.                     1.80e+03\n",
      "==============================================================================\n",
      "\n",
      "Notes:\n",
      "[1] Standard Errors assume that the covariance matrix of the errors is correctly specified.\n",
      "[2] The condition number is large, 1.8e+03. This might indicate that there are\n",
      "strong multicollinearity or other numerical problems.\n"
     ]
    }
   ],
   "source": [
    "# Syntax für die Regressionsgleichung: Zielwert ~ Feature 1 + Feature 2 + ...\n",
    "hypertonie_1= ols(\"Hypertonie ~ HDL_Cholesterin + LDL_Cholesterin + Trinker + Raucher_aktiv + Raucher_ehem + Hämoglobin\", data_m).fit()\n",
    "\n",
    "print(hypertonie_1.summary())"
   ]
  },
  {
   "cell_type": "markdown",
   "metadata": {},
   "source": [
    "### Erstes Ergebnis bei Männer nur 7% Korrelation"
   ]
  },
  {
   "cell_type": "code",
   "execution_count": 24,
   "metadata": {},
   "outputs": [
    {
     "name": "stdout",
     "output_type": "stream",
     "text": [
      "                            OLS Regression Results                            \n",
      "==============================================================================\n",
      "Dep. Variable:             Hypertonie   R-squared:                       0.011\n",
      "Model:                            OLS   Adj. R-squared:                  0.011\n",
      "Method:                 Least Squares   F-statistic:                     833.3\n",
      "Date:                Fri, 08 Dec 2023   Prob (F-statistic):               0.00\n",
      "Time:                        17:21:32   Log-Likelihood:                -99323.\n",
      "No. Observations:              464874   AIC:                         1.987e+05\n",
      "Df Residuals:                  464867   BIC:                         1.987e+05\n",
      "Df Model:                           6                                         \n",
      "Covariance Type:            nonrobust                                         \n",
      "===================================================================================\n",
      "                      coef    std err          t      P>|t|      [0.025      0.975]\n",
      "-----------------------------------------------------------------------------------\n",
      "Intercept          -0.0835      0.005    -16.217      0.000      -0.094      -0.073\n",
      "HDL_Cholesterin    -0.0007   2.28e-05    -32.294      0.000      -0.001      -0.001\n",
      "LDL_Cholesterin     0.0002   1.23e-05     20.239      0.000       0.000       0.000\n",
      "Trinker            -0.0306      0.001    -31.043      0.000      -0.033      -0.029\n",
      "Raucher_aktiv      -0.0144      0.002     -5.948      0.000      -0.019      -0.010\n",
      "Raucher_ehem       -0.0167      0.003     -5.713      0.000      -0.022      -0.011\n",
      "Hämoglobin          0.0162      0.000     42.806      0.000       0.015       0.017\n",
      "==============================================================================\n",
      "Omnibus:                   233784.531   Durbin-Watson:                   2.002\n",
      "Prob(Omnibus):                  0.000   Jarque-Bera (JB):          1019017.795\n",
      "Skew:                           2.615   Prob(JB):                         0.00\n",
      "Kurtosis:                       8.025   Cond. No.                     1.57e+03\n",
      "==============================================================================\n",
      "\n",
      "Notes:\n",
      "[1] Standard Errors assume that the covariance matrix of the errors is correctly specified.\n",
      "[2] The condition number is large, 1.57e+03. This might indicate that there are\n",
      "strong multicollinearity or other numerical problems.\n"
     ]
    }
   ],
   "source": [
    "# Syntax für die Regressionsgleichung: Zielwert ~ Feature 1 + Feature 2 + ...\n",
    "hypertonie_1f= ols(\"Hypertonie ~ HDL_Cholesterin + LDL_Cholesterin + Trinker + Raucher_aktiv + Raucher_ehem + Hämoglobin\", data_f).fit()\n",
    "\n",
    "print(hypertonie_1f.summary())"
   ]
  },
  {
   "cell_type": "markdown",
   "metadata": {},
   "source": [
    "### Zweites Ergebnis bei Frauen 10% Korrelation. Trotz gleicher PAramter höhere Korrelation"
   ]
  },
  {
   "cell_type": "code",
   "execution_count": 28,
   "metadata": {},
   "outputs": [
    {
     "name": "stdout",
     "output_type": "stream",
     "text": [
      "                            OLS Regression Results                            \n",
      "==============================================================================\n",
      "Dep. Variable:             Hypertonie   R-squared:                       0.053\n",
      "Model:                            OLS   Adj. R-squared:                  0.053\n",
      "Method:                 Least Squares   F-statistic:                     2264.\n",
      "Date:                Fri, 08 Dec 2023   Prob (F-statistic):               0.00\n",
      "Time:                        17:26:08   Log-Likelihood:            -1.9476e+05\n",
      "No. Observations:              526415   AIC:                         3.896e+05\n",
      "Df Residuals:                  526401   BIC:                         3.897e+05\n",
      "Df Model:                          13                                         \n",
      "Covariance Type:            nonrobust                                         \n",
      "===================================================================================\n",
      "                      coef    std err          t      P>|t|      [0.025      0.975]\n",
      "-----------------------------------------------------------------------------------\n",
      "Intercept          -0.1886      0.019     -9.838      0.000      -0.226      -0.151\n",
      "Triglycerid         0.0002   4.44e-06     51.849      0.000       0.000       0.000\n",
      "Alter               0.0035   4.53e-05     78.094      0.000       0.003       0.004\n",
      "SGOT_AST            0.0002   2.17e-05      8.195      0.000       0.000       0.000\n",
      "SGOT_ALT            0.0001   2.21e-05      4.533      0.000    5.69e-05       0.000\n",
      "Größe              -0.0041      0.000    -41.256      0.000      -0.004      -0.004\n",
      "Gewicht             0.0044   9.43e-05     46.900      0.000       0.004       0.005\n",
      "Hüftumfang          0.0019      0.000     17.446      0.000       0.002       0.002\n",
      "HDL_Cholesterin     0.0016   3.92e-05     40.502      0.000       0.002       0.002\n",
      "LDL_Cholesterin -2.045e-05   1.39e-05     -1.474      0.140   -4.77e-05    6.74e-06\n",
      "Trinker             0.0333      0.001     30.397      0.000       0.031       0.035\n",
      "Raucher_aktiv      -0.0119      0.001     -9.825      0.000      -0.014      -0.009\n",
      "Raucher_ehem       -0.0072      0.001     -5.790      0.000      -0.010      -0.005\n",
      "Hämoglobin          0.0170      0.000     37.954      0.000       0.016       0.018\n",
      "==============================================================================\n",
      "Omnibus:                   151970.235   Durbin-Watson:                   2.001\n",
      "Prob(Omnibus):                  0.000   Jarque-Bera (JB):           325178.722\n",
      "Skew:                           1.768   Prob(JB):                         0.00\n",
      "Kurtosis:                       4.522   Cond. No.                     1.18e+04\n",
      "==============================================================================\n",
      "\n",
      "Notes:\n",
      "[1] Standard Errors assume that the covariance matrix of the errors is correctly specified.\n",
      "[2] The condition number is large, 1.18e+04. This might indicate that there are\n",
      "strong multicollinearity or other numerical problems.\n"
     ]
    }
   ],
   "source": [
    "hypertonie_2m= ols(\"Hypertonie ~ Triglycerid + Alter + SGOT_AST + SGOT_ALT + Größe + Gewicht + Hüftumfang  + HDL_Cholesterin + LDL_Cholesterin + Trinker + Raucher_aktiv + Raucher_ehem + Hämoglobin\", data_m).fit()\n",
    "\n",
    "print(hypertonie_2m.summary())"
   ]
  },
  {
   "cell_type": "markdown",
   "metadata": {},
   "source": [
    "### Mit allen Paramter eine 23% Korrelation"
   ]
  },
  {
   "cell_type": "code",
   "execution_count": 29,
   "metadata": {},
   "outputs": [
    {
     "name": "stdout",
     "output_type": "stream",
     "text": [
      "                            OLS Regression Results                            \n",
      "==============================================================================\n",
      "Dep. Variable:             Hypertonie   R-squared:                       0.067\n",
      "Model:                            OLS   Adj. R-squared:                  0.067\n",
      "Method:                 Least Squares   F-statistic:                     2588.\n",
      "Date:                Fri, 08 Dec 2023   Prob (F-statistic):               0.00\n",
      "Time:                        17:27:06   Log-Likelihood:                -85568.\n",
      "No. Observations:              464874   AIC:                         1.712e+05\n",
      "Df Residuals:                  464860   BIC:                         1.713e+05\n",
      "Df Model:                          13                                         \n",
      "Covariance Type:            nonrobust                                         \n",
      "===================================================================================\n",
      "                      coef    std err          t      P>|t|      [0.025      0.975]\n",
      "-----------------------------------------------------------------------------------\n",
      "Intercept          -0.0866      0.016     -5.487      0.000      -0.117      -0.056\n",
      "Triglycerid         0.0002   6.39e-06     30.734      0.000       0.000       0.000\n",
      "Alter               0.0032   4.06e-05     77.843      0.000       0.003       0.003\n",
      "SGOT_AST            0.0002   3.99e-05      4.012      0.000    8.18e-05       0.000\n",
      "SGOT_ALT         2.758e-05   2.98e-05      0.926      0.354   -3.08e-05    8.59e-05\n",
      "Größe              -0.0030   9.03e-05    -32.813      0.000      -0.003      -0.003\n",
      "Gewicht             0.0029    8.6e-05     33.491      0.000       0.003       0.003\n",
      "Hüftumfang          0.0019   8.49e-05     22.631      0.000       0.002       0.002\n",
      "HDL_Cholesterin     0.0002    2.3e-05      8.943      0.000       0.000       0.000\n",
      "LDL_Cholesterin -7.995e-05   1.21e-05     -6.599      0.000      -0.000   -5.62e-05\n",
      "Trinker             0.0128      0.001     12.609      0.000       0.011       0.015\n",
      "Raucher_aktiv      -0.0087      0.002     -3.706      0.000      -0.013      -0.004\n",
      "Raucher_ehem       -0.0098      0.003     -3.458      0.001      -0.015      -0.004\n",
      "Hämoglobin          0.0116      0.000     31.334      0.000       0.011       0.012\n",
      "==============================================================================\n",
      "Omnibus:                   209548.514   Durbin-Watson:                   2.003\n",
      "Prob(Omnibus):                  0.000   Jarque-Bera (JB):           790451.868\n",
      "Skew:                           2.363   Prob(JB):                         0.00\n",
      "Kurtosis:                       7.298   Cond. No.                     9.54e+03\n",
      "==============================================================================\n",
      "\n",
      "Notes:\n",
      "[1] Standard Errors assume that the covariance matrix of the errors is correctly specified.\n",
      "[2] The condition number is large, 9.54e+03. This might indicate that there are\n",
      "strong multicollinearity or other numerical problems.\n"
     ]
    }
   ],
   "source": [
    "hypertonie_2f= ols(\"Hypertonie ~ Triglycerid + Alter + SGOT_AST + SGOT_ALT + Größe + Gewicht + Hüftumfang  + HDL_Cholesterin + LDL_Cholesterin + Trinker + Raucher_aktiv + Raucher_ehem + Hämoglobin\", data_f).fit()\n",
    "\n",
    "print(hypertonie_2f.summary())"
   ]
  },
  {
   "cell_type": "markdown",
   "metadata": {},
   "source": [
    "### Mit allen Paramter  eine 25% Korrelation für Frauen."
   ]
  },
  {
   "cell_type": "markdown",
   "metadata": {},
   "source": [
    "Interessanter weise ist keines der einzelnen Paramter für sich relveant. (abzulesen an der Spalte \"coef\", unterer Teil des Summary-outputs).\n",
    "Vllt könnt ihr mal Frau Pado fragen warum und was das bedeutet. \n",
    "Da kein Paramter besonderns heraussticht, weiß ich vorerst nicht so richtig wie ich weiter machen soll oder wie ich die PAramter andere Modelle trainieren soll (wäre random).\n",
    "\n",
    "An sich steht ja alles hier in der Mappe, vllt könnt ihr ja noch paar Regression nach verschiedener Paramter durchführen (Nach Trinker, BMI o.ä.)"
   ]
  },
  {
   "cell_type": "markdown",
   "metadata": {},
   "source": [
    "Wenn Sie sowohl modellieren als auch prädizieren wollen, führen Sie die Modellierung nur auf den Trainingsdaten durch, um zu vermeiden, dass Sie ungewollt aus Ihren Testdaten lernen. Trainieren Sie das Prädiktionsmodell im zweiten Schritt aufgrund der Erkenntnisse der Modellierung."
   ]
  },
  {
   "cell_type": "code",
   "execution_count": null,
   "metadata": {},
   "outputs": [],
   "source": []
  }
 ],
 "metadata": {
  "kernelspec": {
   "display_name": "base",
   "language": "python",
   "name": "python3"
  },
  "language_info": {
   "codemirror_mode": {
    "name": "ipython",
    "version": 3
   },
   "file_extension": ".py",
   "mimetype": "text/x-python",
   "name": "python",
   "nbconvert_exporter": "python",
   "pygments_lexer": "ipython3",
   "version": "3.10.9"
  }
 },
 "nbformat": 4,
 "nbformat_minor": 2
}
