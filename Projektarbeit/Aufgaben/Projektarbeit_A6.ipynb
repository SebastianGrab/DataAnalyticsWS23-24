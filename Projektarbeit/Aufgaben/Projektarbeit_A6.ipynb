{
 "cells": [
  {
   "cell_type": "markdown",
   "metadata": {},
   "source": [
    "# Projektarbeit Gruppe 2: Gesundheitsdaten"
   ]
  },
  {
   "cell_type": "markdown",
   "metadata": {},
   "source": [
    "https://www.kaggle.com/datasets/sooyoungher/smoking-drinking-dataset"
   ]
  },
  {
   "cell_type": "code",
   "execution_count": 1,
   "metadata": {},
   "outputs": [],
   "source": [
    "# Import der benötigten Bibliotheken\n",
    "\n",
    "import pandas as pd\n",
    "import numpy as np\n",
    "import os\n",
    "import matplotlib.pyplot as plt\n",
    "import seaborn as sns\n",
    "from sklearn.model_selection import train_test_split\n",
    "from sklearn.feature_selection import SelectFromModel\n",
    "from sklearn.linear_model import LogisticRegression\n",
    "from sklearn.metrics import confusion_matrix, accuracy_score\n",
    "import joblib\n",
    "from sklearn.metrics import precision_score\n",
    "from sklearn.metrics import recall_score\n",
    "from sklearn.metrics import f1_score\n"
   ]
  },
  {
   "cell_type": "code",
   "execution_count": 2,
   "metadata": {},
   "outputs": [],
   "source": [
    "# Neuer Datensatz\n",
    "path = str(os.getcwd()).replace(\"\\Projektarbeit\\Aufgaben\", \"\")\n",
    "\n",
    "# Lesen der CSV Datei:\n",
    "dataset = pd.read_csv(path + '\\dataset_custom.csv')"
   ]
  },
  {
   "cell_type": "code",
   "execution_count": 3,
   "metadata": {},
   "outputs": [],
   "source": [
    "# Erstellung einer Zielvariablen-Spalte aus den Raucher-Features (Zusammenführen):\n",
    "\n",
    "def create_raucher_ziel(row):\n",
    "    if row['Raucher_nie'] == 1:\n",
    "        return 1\n",
    "    elif row['Raucher_ehem'] == 1:\n",
    "        return 2\n",
    "    elif row['Raucher_aktiv'] == 1:\n",
    "        return 3\n",
    "    else:\n",
    "        return None  # Oder einen Standardwert, je nach Anforderungen\n",
    "\n",
    "# Neue Zielspalte erstellen:\n",
    "\n",
    "dataset['Raucher_Ziel'] = dataset.apply(create_raucher_ziel, axis=1)\n",
    "\n",
    "data = dataset.drop(columns=['Raucher_nie', 'Raucher_ehem', 'Raucher_aktiv'])"
   ]
  },
  {
   "cell_type": "markdown",
   "metadata": {},
   "source": [
    "# Anforderungen 6: Klassifikation\n",
    "\n",
    "Führen Sie mit dem Algorithmus Ihrer Wahl eine Klassifikationsaufgabe auf Ihren Daten durch.\n",
    "\n",
    "Teilen Sie dazu zunächst die Daten auf, um Overfitting beim Trainieren des Algorithmus und bei der Parameterauswahl zu vermeiden. Erklären Sie die gewählte Strategie und die Größenverhältnisse."
   ]
  },
  {
   "cell_type": "code",
   "execution_count": 5,
   "metadata": {},
   "outputs": [
    {
     "data": {
      "text/html": [
       "<div>\n",
       "<style scoped>\n",
       "    .dataframe tbody tr th:only-of-type {\n",
       "        vertical-align: middle;\n",
       "    }\n",
       "\n",
       "    .dataframe tbody tr th {\n",
       "        vertical-align: top;\n",
       "    }\n",
       "\n",
       "    .dataframe thead th {\n",
       "        text-align: right;\n",
       "    }\n",
       "</style>\n",
       "<table border=\"1\" class=\"dataframe\">\n",
       "  <thead>\n",
       "    <tr style=\"text-align: right;\">\n",
       "      <th></th>\n",
       "      <th>Unnamed: 0</th>\n",
       "      <th>Geschlecht</th>\n",
       "      <th>Alter</th>\n",
       "      <th>Größe</th>\n",
       "      <th>Gewicht</th>\n",
       "      <th>Hüftumfang</th>\n",
       "      <th>Nüchterner Blutzucker</th>\n",
       "      <th>Totale Cholesterin</th>\n",
       "      <th>HDL_Cholesterin</th>\n",
       "      <th>LDL_Cholesterin</th>\n",
       "      <th>...</th>\n",
       "      <th>SGOT_ALT</th>\n",
       "      <th>gamma_GTP</th>\n",
       "      <th>Body-Mass-Index</th>\n",
       "      <th>BD_optimal</th>\n",
       "      <th>BD_normal</th>\n",
       "      <th>BD_Grenzwert_normal</th>\n",
       "      <th>BD_Hypertonie Grad 1</th>\n",
       "      <th>BD_Hypertonie Grad 2</th>\n",
       "      <th>BD_Hypertonie Grad 3</th>\n",
       "      <th>Trinker</th>\n",
       "    </tr>\n",
       "  </thead>\n",
       "  <tbody>\n",
       "    <tr>\n",
       "      <th>113922</th>\n",
       "      <td>113928</td>\n",
       "      <td>0</td>\n",
       "      <td>55</td>\n",
       "      <td>170</td>\n",
       "      <td>75</td>\n",
       "      <td>89.0</td>\n",
       "      <td>94.0</td>\n",
       "      <td>274.0</td>\n",
       "      <td>44.0</td>\n",
       "      <td>191.0</td>\n",
       "      <td>...</td>\n",
       "      <td>29.0</td>\n",
       "      <td>33.0</td>\n",
       "      <td>25.95</td>\n",
       "      <td>1</td>\n",
       "      <td>0</td>\n",
       "      <td>0</td>\n",
       "      <td>0</td>\n",
       "      <td>0</td>\n",
       "      <td>0</td>\n",
       "      <td>1</td>\n",
       "    </tr>\n",
       "    <tr>\n",
       "      <th>511548</th>\n",
       "      <td>511574</td>\n",
       "      <td>1</td>\n",
       "      <td>45</td>\n",
       "      <td>155</td>\n",
       "      <td>50</td>\n",
       "      <td>76.0</td>\n",
       "      <td>87.0</td>\n",
       "      <td>182.0</td>\n",
       "      <td>41.0</td>\n",
       "      <td>126.0</td>\n",
       "      <td>...</td>\n",
       "      <td>10.0</td>\n",
       "      <td>11.0</td>\n",
       "      <td>20.81</td>\n",
       "      <td>1</td>\n",
       "      <td>0</td>\n",
       "      <td>0</td>\n",
       "      <td>0</td>\n",
       "      <td>0</td>\n",
       "      <td>0</td>\n",
       "      <td>0</td>\n",
       "    </tr>\n",
       "    <tr>\n",
       "      <th>880869</th>\n",
       "      <td>880921</td>\n",
       "      <td>1</td>\n",
       "      <td>55</td>\n",
       "      <td>150</td>\n",
       "      <td>55</td>\n",
       "      <td>88.8</td>\n",
       "      <td>82.0</td>\n",
       "      <td>240.0</td>\n",
       "      <td>63.0</td>\n",
       "      <td>161.0</td>\n",
       "      <td>...</td>\n",
       "      <td>34.0</td>\n",
       "      <td>27.0</td>\n",
       "      <td>24.44</td>\n",
       "      <td>0</td>\n",
       "      <td>0</td>\n",
       "      <td>0</td>\n",
       "      <td>1</td>\n",
       "      <td>0</td>\n",
       "      <td>0</td>\n",
       "      <td>0</td>\n",
       "    </tr>\n",
       "    <tr>\n",
       "      <th>818187</th>\n",
       "      <td>818234</td>\n",
       "      <td>1</td>\n",
       "      <td>20</td>\n",
       "      <td>150</td>\n",
       "      <td>50</td>\n",
       "      <td>67.5</td>\n",
       "      <td>92.0</td>\n",
       "      <td>208.0</td>\n",
       "      <td>62.0</td>\n",
       "      <td>129.0</td>\n",
       "      <td>...</td>\n",
       "      <td>10.0</td>\n",
       "      <td>16.0</td>\n",
       "      <td>22.22</td>\n",
       "      <td>0</td>\n",
       "      <td>1</td>\n",
       "      <td>0</td>\n",
       "      <td>0</td>\n",
       "      <td>0</td>\n",
       "      <td>0</td>\n",
       "      <td>1</td>\n",
       "    </tr>\n",
       "    <tr>\n",
       "      <th>109157</th>\n",
       "      <td>109163</td>\n",
       "      <td>0</td>\n",
       "      <td>30</td>\n",
       "      <td>165</td>\n",
       "      <td>60</td>\n",
       "      <td>82.0</td>\n",
       "      <td>85.0</td>\n",
       "      <td>199.0</td>\n",
       "      <td>61.0</td>\n",
       "      <td>101.0</td>\n",
       "      <td>...</td>\n",
       "      <td>21.0</td>\n",
       "      <td>21.0</td>\n",
       "      <td>22.04</td>\n",
       "      <td>1</td>\n",
       "      <td>0</td>\n",
       "      <td>0</td>\n",
       "      <td>0</td>\n",
       "      <td>0</td>\n",
       "      <td>0</td>\n",
       "      <td>1</td>\n",
       "    </tr>\n",
       "    <tr>\n",
       "      <th>...</th>\n",
       "      <td>...</td>\n",
       "      <td>...</td>\n",
       "      <td>...</td>\n",
       "      <td>...</td>\n",
       "      <td>...</td>\n",
       "      <td>...</td>\n",
       "      <td>...</td>\n",
       "      <td>...</td>\n",
       "      <td>...</td>\n",
       "      <td>...</td>\n",
       "      <td>...</td>\n",
       "      <td>...</td>\n",
       "      <td>...</td>\n",
       "      <td>...</td>\n",
       "      <td>...</td>\n",
       "      <td>...</td>\n",
       "      <td>...</td>\n",
       "      <td>...</td>\n",
       "      <td>...</td>\n",
       "      <td>...</td>\n",
       "      <td>...</td>\n",
       "    </tr>\n",
       "    <tr>\n",
       "      <th>259178</th>\n",
       "      <td>259197</td>\n",
       "      <td>1</td>\n",
       "      <td>45</td>\n",
       "      <td>160</td>\n",
       "      <td>50</td>\n",
       "      <td>74.0</td>\n",
       "      <td>86.0</td>\n",
       "      <td>192.0</td>\n",
       "      <td>57.0</td>\n",
       "      <td>111.0</td>\n",
       "      <td>...</td>\n",
       "      <td>12.0</td>\n",
       "      <td>9.0</td>\n",
       "      <td>19.53</td>\n",
       "      <td>1</td>\n",
       "      <td>0</td>\n",
       "      <td>0</td>\n",
       "      <td>0</td>\n",
       "      <td>0</td>\n",
       "      <td>0</td>\n",
       "      <td>0</td>\n",
       "    </tr>\n",
       "    <tr>\n",
       "      <th>365838</th>\n",
       "      <td>365861</td>\n",
       "      <td>1</td>\n",
       "      <td>40</td>\n",
       "      <td>155</td>\n",
       "      <td>65</td>\n",
       "      <td>86.0</td>\n",
       "      <td>101.0</td>\n",
       "      <td>241.0</td>\n",
       "      <td>73.0</td>\n",
       "      <td>149.0</td>\n",
       "      <td>...</td>\n",
       "      <td>12.0</td>\n",
       "      <td>12.0</td>\n",
       "      <td>27.06</td>\n",
       "      <td>0</td>\n",
       "      <td>1</td>\n",
       "      <td>0</td>\n",
       "      <td>0</td>\n",
       "      <td>0</td>\n",
       "      <td>0</td>\n",
       "      <td>0</td>\n",
       "    </tr>\n",
       "    <tr>\n",
       "      <th>131932</th>\n",
       "      <td>131941</td>\n",
       "      <td>1</td>\n",
       "      <td>35</td>\n",
       "      <td>155</td>\n",
       "      <td>60</td>\n",
       "      <td>83.0</td>\n",
       "      <td>84.0</td>\n",
       "      <td>233.0</td>\n",
       "      <td>62.0</td>\n",
       "      <td>134.0</td>\n",
       "      <td>...</td>\n",
       "      <td>20.0</td>\n",
       "      <td>21.0</td>\n",
       "      <td>24.97</td>\n",
       "      <td>0</td>\n",
       "      <td>0</td>\n",
       "      <td>1</td>\n",
       "      <td>0</td>\n",
       "      <td>0</td>\n",
       "      <td>0</td>\n",
       "      <td>0</td>\n",
       "    </tr>\n",
       "    <tr>\n",
       "      <th>671155</th>\n",
       "      <td>671195</td>\n",
       "      <td>0</td>\n",
       "      <td>70</td>\n",
       "      <td>170</td>\n",
       "      <td>80</td>\n",
       "      <td>92.0</td>\n",
       "      <td>91.0</td>\n",
       "      <td>131.0</td>\n",
       "      <td>66.0</td>\n",
       "      <td>59.0</td>\n",
       "      <td>...</td>\n",
       "      <td>24.0</td>\n",
       "      <td>23.0</td>\n",
       "      <td>27.68</td>\n",
       "      <td>0</td>\n",
       "      <td>0</td>\n",
       "      <td>0</td>\n",
       "      <td>1</td>\n",
       "      <td>0</td>\n",
       "      <td>0</td>\n",
       "      <td>0</td>\n",
       "    </tr>\n",
       "    <tr>\n",
       "      <th>121958</th>\n",
       "      <td>121966</td>\n",
       "      <td>0</td>\n",
       "      <td>65</td>\n",
       "      <td>160</td>\n",
       "      <td>50</td>\n",
       "      <td>70.8</td>\n",
       "      <td>83.0</td>\n",
       "      <td>196.0</td>\n",
       "      <td>55.0</td>\n",
       "      <td>135.0</td>\n",
       "      <td>...</td>\n",
       "      <td>12.0</td>\n",
       "      <td>18.0</td>\n",
       "      <td>19.53</td>\n",
       "      <td>1</td>\n",
       "      <td>0</td>\n",
       "      <td>0</td>\n",
       "      <td>0</td>\n",
       "      <td>0</td>\n",
       "      <td>0</td>\n",
       "      <td>1</td>\n",
       "    </tr>\n",
       "  </tbody>\n",
       "</table>\n",
       "<p>793031 rows × 23 columns</p>\n",
       "</div>"
      ],
      "text/plain": [
       "        Unnamed: 0  Geschlecht  Alter  Größe  Gewicht  Hüftumfang  \\\n",
       "113922      113928           0     55    170       75        89.0   \n",
       "511548      511574           1     45    155       50        76.0   \n",
       "880869      880921           1     55    150       55        88.8   \n",
       "818187      818234           1     20    150       50        67.5   \n",
       "109157      109163           0     30    165       60        82.0   \n",
       "...            ...         ...    ...    ...      ...         ...   \n",
       "259178      259197           1     45    160       50        74.0   \n",
       "365838      365861           1     40    155       65        86.0   \n",
       "131932      131941           1     35    155       60        83.0   \n",
       "671155      671195           0     70    170       80        92.0   \n",
       "121958      121966           0     65    160       50        70.8   \n",
       "\n",
       "        Nüchterner Blutzucker  Totale Cholesterin  HDL_Cholesterin  \\\n",
       "113922                   94.0               274.0             44.0   \n",
       "511548                   87.0               182.0             41.0   \n",
       "880869                   82.0               240.0             63.0   \n",
       "818187                   92.0               208.0             62.0   \n",
       "109157                   85.0               199.0             61.0   \n",
       "...                       ...                 ...              ...   \n",
       "259178                   86.0               192.0             57.0   \n",
       "365838                  101.0               241.0             73.0   \n",
       "131932                   84.0               233.0             62.0   \n",
       "671155                   91.0               131.0             66.0   \n",
       "121958                   83.0               196.0             55.0   \n",
       "\n",
       "        LDL_Cholesterin  ...  SGOT_ALT  gamma_GTP  Body-Mass-Index  \\\n",
       "113922            191.0  ...      29.0       33.0            25.95   \n",
       "511548            126.0  ...      10.0       11.0            20.81   \n",
       "880869            161.0  ...      34.0       27.0            24.44   \n",
       "818187            129.0  ...      10.0       16.0            22.22   \n",
       "109157            101.0  ...      21.0       21.0            22.04   \n",
       "...                 ...  ...       ...        ...              ...   \n",
       "259178            111.0  ...      12.0        9.0            19.53   \n",
       "365838            149.0  ...      12.0       12.0            27.06   \n",
       "131932            134.0  ...      20.0       21.0            24.97   \n",
       "671155             59.0  ...      24.0       23.0            27.68   \n",
       "121958            135.0  ...      12.0       18.0            19.53   \n",
       "\n",
       "        BD_optimal  BD_normal  BD_Grenzwert_normal  BD_Hypertonie Grad 1  \\\n",
       "113922           1          0                    0                     0   \n",
       "511548           1          0                    0                     0   \n",
       "880869           0          0                    0                     1   \n",
       "818187           0          1                    0                     0   \n",
       "109157           1          0                    0                     0   \n",
       "...            ...        ...                  ...                   ...   \n",
       "259178           1          0                    0                     0   \n",
       "365838           0          1                    0                     0   \n",
       "131932           0          0                    1                     0   \n",
       "671155           0          0                    0                     1   \n",
       "121958           1          0                    0                     0   \n",
       "\n",
       "        BD_Hypertonie Grad 2  BD_Hypertonie Grad 3  Trinker  \n",
       "113922                     0                     0        1  \n",
       "511548                     0                     0        0  \n",
       "880869                     0                     0        0  \n",
       "818187                     0                     0        1  \n",
       "109157                     0                     0        1  \n",
       "...                      ...                   ...      ...  \n",
       "259178                     0                     0        0  \n",
       "365838                     0                     0        0  \n",
       "131932                     0                     0        0  \n",
       "671155                     0                     0        0  \n",
       "121958                     0                     0        1  \n",
       "\n",
       "[793031 rows x 23 columns]"
      ]
     },
     "execution_count": 5,
     "metadata": {},
     "output_type": "execute_result"
    }
   ],
   "source": [
    "# Teilen der Daten mithilfe der \"train_test_split\"-Funktion, da der Datensatz nach Alter sortiert ist \n",
    "# und er so in random Trainings- und Testdatensätze zerteilt wird. \n",
    "# Somit wird eine Durchmischung der Daten gewährleistet.\n",
    "\n",
    "# Aufgrund eines ausreicehnd großen Datensatzes wird erstmal keine Aufteilung nach CrossValidation (CV) benötigt.\n",
    "# Außerdem ist CV rechenintensiver. Um anfänglich schneller auf Ergebniss zu kommen, wird darauf verzichtet.\n",
    "# Bei nicht zufriedenstellenden Ergebnissen, würde dann jedoch rückwirkend auf CV zurückgergiffen werden.\n",
    "\n",
    "# Da genügend Daten im Datensatz vorhanden sind (rund 1 mio. Zeilen), können wir die Trainingsdaten auf 20 % des Gesamtumfangs festlegen.\n",
    "\n",
    "X_train, X_test, y_train, y_test = train_test_split(data.drop(columns=['Raucher_Ziel']), data['Raucher_Ziel'], test_size=0.2, random_state=42)\n",
    "\n",
    "X_train"
   ]
  },
  {
   "cell_type": "code",
   "execution_count": 6,
   "metadata": {},
   "outputs": [
    {
     "name": "stdout",
     "output_type": "stream",
     "text": [
      "20 85\n",
      "20 85\n"
     ]
    }
   ],
   "source": [
    "# Überprüfung der Altersverteilung der Trainingsdaten:\n",
    "\n",
    "print(X_train['Alter'].min(), X_train['Alter'].max())\n",
    "\n",
    "\n",
    "# Überprüfung der Altersverteilung der Testdaten:\n",
    "\n",
    "print(X_test['Alter'].min(), X_test['Alter'].max())"
   ]
  },
  {
   "cell_type": "code",
   "execution_count": 7,
   "metadata": {},
   "outputs": [
    {
     "name": "stdout",
     "output_type": "stream",
     "text": [
      "793031\n",
      "198258\n"
     ]
    }
   ],
   "source": [
    "# Überprüfung der Größe der Trainingsdaten:\n",
    "\n",
    "print(len(X_train['Alter']))\n",
    "\n",
    "\n",
    "# Überprüfung der Größe der Testdaten:\n",
    "\n",
    "print(len(X_test['Alter']))"
   ]
  },
  {
   "cell_type": "code",
   "execution_count": 7,
   "metadata": {},
   "outputs": [],
   "source": [
    "# Hier zeigt sich, dass die Trainingsdaten etwa 20 % des Gesamtdatensatzes entsprechen. "
   ]
  },
  {
   "cell_type": "markdown",
   "metadata": {},
   "source": [
    "Wählen Sie geeignete Features aus und setzen Sie die Parameter des Algorithmus. Beschreiben Sie das gewälhte Vorgehen für die Auswahl der Features und Parameter. Berichten Sie den Parameterraum und die final gewählten Parameter. Geben Sie die Performanz auf den Trainingsdaten (bzw. Entwicklungsdaten, falls verwendet) an."
   ]
  },
  {
   "cell_type": "code",
   "execution_count": 8,
   "metadata": {},
   "outputs": [],
   "source": [
    "# Ansatz: Wir wählen die Features durch eine logitische Regression (Korrelation) und mit Hilfe der SelectFromModel-Klasse \n",
    "# der feature_selection Library aus, um jeweils unterschiedliche Ansätze versuchen zu können."
   ]
  },
  {
   "cell_type": "code",
   "execution_count": 9,
   "metadata": {},
   "outputs": [],
   "source": [
    "# Regressionsverfahren:\n",
    "\n",
    "# softmax_model = LogisticRegression(multi_class='multinomial', solver='saga', penalty='l1', max_iter=1000)\n",
    "# softmax_model.fit(X_train, y_train)"
   ]
  },
  {
   "cell_type": "code",
   "execution_count": 10,
   "metadata": {},
   "outputs": [
    {
     "name": "stderr",
     "output_type": "stream",
     "text": [
      "c:\\Users\\SebastianGrab\\AppData\\Local\\Programs\\Python\\Python39\\lib\\site-packages\\sklearn\\base.py:348: InconsistentVersionWarning: Trying to unpickle estimator LogisticRegression from version 1.2.1 when using version 1.3.2. This might lead to breaking code or invalid results. Use at your own risk. For more info please refer to:\n",
      "https://scikit-learn.org/stable/model_persistence.html#security-maintainability-limitations\n",
      "  warnings.warn(\n"
     ]
    }
   ],
   "source": [
    "# Speichern:\n",
    "\n",
    "# joblib.dump(softmax_model, 'Modelle/softmax_model_1_A6.joblib')\n",
    "\n",
    "# Laden:\n",
    "\n",
    "loaded_softmax_model = joblib.load('Modelle/softmax_model_1_A6.joblib')"
   ]
  },
  {
   "cell_type": "code",
   "execution_count": 11,
   "metadata": {},
   "outputs": [],
   "source": [
    "# SelectFromModel Ansatz:\n",
    "\n",
    "# feature_selection = SelectFromModel(loaded_softmax_model, threshold='mean')\n",
    "# feature_selection.fit(X_train, y_train)\n",
    "\n",
    "# feature_selection.feature_names_in_\n",
    "\n",
    "# feature_selection.get_feature_names_out()\n",
    "\n",
    "# print(feature_selection)"
   ]
  },
  {
   "cell_type": "code",
   "execution_count": 12,
   "metadata": {},
   "outputs": [
    {
     "name": "stdout",
     "output_type": "stream",
     "text": [
      "Feature_names_out: ['Alter' 'Gewicht' 'Nüchterner Blutzucker' 'Totale Cholesterin'\n",
      " 'HDL_Cholesterin' 'LDL_Cholesterin' 'Triglycerid' 'SGOT_ALT' 'gamma_GTP']\n",
      "Feature_names_in: ['Unnamed: 0' 'Geschlecht' 'Alter' 'Größe' 'Gewicht' 'Hüftumfang'\n",
      " 'Nüchterner Blutzucker' 'Totale Cholesterin' 'HDL_Cholesterin'\n",
      " 'LDL_Cholesterin' 'Triglycerid' 'Hämoglobin' 'SGOT_AST' 'SGOT_ALT'\n",
      " 'gamma_GTP' 'Body-Mass-Index' 'BD_optimal' 'BD_normal'\n",
      " 'BD_Grenzwert_normal' 'BD_Hypertonie Grad 1' 'BD_Hypertonie Grad 2'\n",
      " 'BD_Hypertonie Grad 3' 'Trinker']\n",
      "Model: SelectFromModel(estimator=LogisticRegression(max_iter=1000,\n",
      "                                             multi_class='multinomial',\n",
      "                                             penalty='l1', solver='saga'),\n",
      "                threshold='mean')\n"
     ]
    },
    {
     "name": "stderr",
     "output_type": "stream",
     "text": [
      "c:\\Users\\SebastianGrab\\AppData\\Local\\Programs\\Python\\Python39\\lib\\site-packages\\sklearn\\base.py:348: InconsistentVersionWarning: Trying to unpickle estimator LogisticRegression from version 1.2.1 when using version 1.3.2. This might lead to breaking code or invalid results. Use at your own risk. For more info please refer to:\n",
      "https://scikit-learn.org/stable/model_persistence.html#security-maintainability-limitations\n",
      "  warnings.warn(\n",
      "c:\\Users\\SebastianGrab\\AppData\\Local\\Programs\\Python\\Python39\\lib\\site-packages\\sklearn\\base.py:348: InconsistentVersionWarning: Trying to unpickle estimator SelectFromModel from version 1.2.1 when using version 1.3.2. This might lead to breaking code or invalid results. Use at your own risk. For more info please refer to:\n",
      "https://scikit-learn.org/stable/model_persistence.html#security-maintainability-limitations\n",
      "  warnings.warn(\n"
     ]
    }
   ],
   "source": [
    "# Speichern:\n",
    "\n",
    "# joblib.dump(feature_selection, 'Modelle/feature_selection_A6.joblib')\n",
    "\n",
    "\n",
    "# Laden:\n",
    "\n",
    "loaded_feature_model = joblib.load('Modelle/feature_selection_A6.joblib')\n",
    "\n",
    "\n",
    "# Parameter ausgeben:\n",
    "\n",
    "print('Feature_names_out: ' + str(loaded_feature_model.get_feature_names_out()))\n",
    "\n",
    "print('Feature_names_in: ' + str(loaded_feature_model.feature_names_in_))\n",
    "\n",
    "print('Model: ' + str(loaded_feature_model))"
   ]
  },
  {
   "cell_type": "code",
   "execution_count": 13,
   "metadata": {},
   "outputs": [],
   "source": [
    "X_train_selected = loaded_feature_model.transform(X_train)\n",
    "X_test_selected = loaded_feature_model.transform(X_test)"
   ]
  },
  {
   "cell_type": "code",
   "execution_count": null,
   "metadata": {},
   "outputs": [],
   "source": [
    "# Untersuchung der Korrelation aller Features in einer Heatmap:\n",
    "\n",
    "plt.figure(figsize=(24, 24))\n",
    "heatmap = sns.heatmap(data.corr(), annot=True, cmap=\"coolwarm\")\n",
    "\n",
    "plt.title('Heatmap über alle Features')\n",
    "plt.show()\n",
    "\n",
    "# Auswahl aller Features, die mit 'Raucher_Ziel' stärker korrelieren als 0,2 bzw. -0,2:\n",
    "\n",
    "# 'Geschlecht', 'Alter', 'Größe', 'Gewicht', 'Hüftumfang', 'Hämoglobin', 'gamma_GTP', 'Trinker'"
   ]
  },
  {
   "cell_type": "code",
   "execution_count": 14,
   "metadata": {},
   "outputs": [],
   "source": [
    "# Features Selektieren nach den Ausgaben des Select-Models und der Regression/Korrelation:\n",
    "\n",
    "# Select-Model: \n",
    "sf_model = X_train[['Alter', 'Gewicht', 'Nüchterner Blutzucker', 'Totale Cholesterin',\n",
    "       'HDL_Cholesterin', 'LDL_Cholesterin', 'Triglycerid', 'SGOT_ALT',\n",
    "       'gamma_GTP']]\n",
    "\n",
    "\n",
    "sf_model_test = X_test[['Alter', 'Gewicht', 'Nüchterner Blutzucker', 'Totale Cholesterin',\n",
    "       'HDL_Cholesterin', 'LDL_Cholesterin', 'Triglycerid', 'SGOT_ALT',\n",
    "       'gamma_GTP']]\n",
    "\n",
    "\n",
    "\n",
    "# Corr Model 1:\n",
    "sf_corr = X_train[['Geschlecht', 'Alter', 'Größe', \n",
    "                   'Gewicht', 'Hüftumfang', 'Hämoglobin', 'gamma_GTP', 'Trinker']]\n",
    "\n",
    "sf_corr_test = X_test[['Geschlecht', 'Alter', 'Größe', \n",
    "                       'Gewicht', 'Hüftumfang', 'Hämoglobin', 'gamma_GTP', 'Trinker']]\n",
    "\n",
    "# Corr Model 2:\n",
    "sf_corr2 = X_train[['Geschlecht', 'Alter', 'Gewicht',\n",
    "       'HDL_Cholesterin', 'Triglycerid',\n",
    "       'gamma_GTP', 'Hämoglobin', 'Trinker']]\n",
    "\n",
    "\n",
    "sf_corr2_test = X_test[['Geschlecht', 'Alter', 'Gewicht',\n",
    "       'HDL_Cholesterin', 'Triglycerid',\n",
    "       'gamma_GTP', 'Hämoglobin', 'Trinker']]\n",
    "\n",
    "# Corr Model 3:\n",
    "sf_corr3 = X_train[['Geschlecht', 'Alter', 'Gewicht', \n",
    "                    'HDL_Cholesterin', 'Triglycerid', \n",
    "                    'gamma_GTP', 'Hämoglobin', 'Trinker']]\n",
    "\n",
    "sf_corr3_test = X_test[['Geschlecht', 'Alter', 'Gewicht', \n",
    "                        'HDL_Cholesterin', 'Triglycerid', \n",
    "                        'gamma_GTP', 'Hämoglobin', 'Trinker']]"
   ]
  },
  {
   "cell_type": "code",
   "execution_count": null,
   "metadata": {},
   "outputs": [],
   "source": [
    "# Der Datensatz konnte auf die für die Klassifikation als relevant bestimmten Features limitiert werden. Dies war nötig, \n",
    "# da die Trainingszeit für mehrere Verfahren ansonsten zu lange gewesen wäre. "
   ]
  },
  {
   "cell_type": "markdown",
   "metadata": {},
   "source": [
    "Evaluieren Sie die Klassifikation auf den ungesehenen Testdaten. Betrachten Sie Precision und Recall sowie den F-Wert. Welches Maß ist für Ihre Anwendung wichtiger? Bewerten Sie Ihr Ergebnis. Ist es in der Praxis voraussichtlich zufriedenstellend?"
   ]
  },
  {
   "cell_type": "code",
   "execution_count": 15,
   "metadata": {},
   "outputs": [
    {
     "data": {
      "text/html": [
       "<style>#sk-container-id-1 {color: black;}#sk-container-id-1 pre{padding: 0;}#sk-container-id-1 div.sk-toggleable {background-color: white;}#sk-container-id-1 label.sk-toggleable__label {cursor: pointer;display: block;width: 100%;margin-bottom: 0;padding: 0.3em;box-sizing: border-box;text-align: center;}#sk-container-id-1 label.sk-toggleable__label-arrow:before {content: \"▸\";float: left;margin-right: 0.25em;color: #696969;}#sk-container-id-1 label.sk-toggleable__label-arrow:hover:before {color: black;}#sk-container-id-1 div.sk-estimator:hover label.sk-toggleable__label-arrow:before {color: black;}#sk-container-id-1 div.sk-toggleable__content {max-height: 0;max-width: 0;overflow: hidden;text-align: left;background-color: #f0f8ff;}#sk-container-id-1 div.sk-toggleable__content pre {margin: 0.2em;color: black;border-radius: 0.25em;background-color: #f0f8ff;}#sk-container-id-1 input.sk-toggleable__control:checked~div.sk-toggleable__content {max-height: 200px;max-width: 100%;overflow: auto;}#sk-container-id-1 input.sk-toggleable__control:checked~label.sk-toggleable__label-arrow:before {content: \"▾\";}#sk-container-id-1 div.sk-estimator input.sk-toggleable__control:checked~label.sk-toggleable__label {background-color: #d4ebff;}#sk-container-id-1 div.sk-label input.sk-toggleable__control:checked~label.sk-toggleable__label {background-color: #d4ebff;}#sk-container-id-1 input.sk-hidden--visually {border: 0;clip: rect(1px 1px 1px 1px);clip: rect(1px, 1px, 1px, 1px);height: 1px;margin: -1px;overflow: hidden;padding: 0;position: absolute;width: 1px;}#sk-container-id-1 div.sk-estimator {font-family: monospace;background-color: #f0f8ff;border: 1px dotted black;border-radius: 0.25em;box-sizing: border-box;margin-bottom: 0.5em;}#sk-container-id-1 div.sk-estimator:hover {background-color: #d4ebff;}#sk-container-id-1 div.sk-parallel-item::after {content: \"\";width: 100%;border-bottom: 1px solid gray;flex-grow: 1;}#sk-container-id-1 div.sk-label:hover label.sk-toggleable__label {background-color: #d4ebff;}#sk-container-id-1 div.sk-serial::before {content: \"\";position: absolute;border-left: 1px solid gray;box-sizing: border-box;top: 0;bottom: 0;left: 50%;z-index: 0;}#sk-container-id-1 div.sk-serial {display: flex;flex-direction: column;align-items: center;background-color: white;padding-right: 0.2em;padding-left: 0.2em;position: relative;}#sk-container-id-1 div.sk-item {position: relative;z-index: 1;}#sk-container-id-1 div.sk-parallel {display: flex;align-items: stretch;justify-content: center;background-color: white;position: relative;}#sk-container-id-1 div.sk-item::before, #sk-container-id-1 div.sk-parallel-item::before {content: \"\";position: absolute;border-left: 1px solid gray;box-sizing: border-box;top: 0;bottom: 0;left: 50%;z-index: -1;}#sk-container-id-1 div.sk-parallel-item {display: flex;flex-direction: column;z-index: 1;position: relative;background-color: white;}#sk-container-id-1 div.sk-parallel-item:first-child::after {align-self: flex-end;width: 50%;}#sk-container-id-1 div.sk-parallel-item:last-child::after {align-self: flex-start;width: 50%;}#sk-container-id-1 div.sk-parallel-item:only-child::after {width: 0;}#sk-container-id-1 div.sk-dashed-wrapped {border: 1px dashed gray;margin: 0 0.4em 0.5em 0.4em;box-sizing: border-box;padding-bottom: 0.4em;background-color: white;}#sk-container-id-1 div.sk-label label {font-family: monospace;font-weight: bold;display: inline-block;line-height: 1.2em;}#sk-container-id-1 div.sk-label-container {text-align: center;}#sk-container-id-1 div.sk-container {/* jupyter's `normalize.less` sets `[hidden] { display: none; }` but bootstrap.min.css set `[hidden] { display: none !important; }` so we also need the `!important` here to be able to override the default hidden behavior on the sphinx rendered scikit-learn.org. See: https://github.com/scikit-learn/scikit-learn/issues/21755 */display: inline-block !important;position: relative;}#sk-container-id-1 div.sk-text-repr-fallback {display: none;}</style><div id=\"sk-container-id-1\" class=\"sk-top-container\"><div class=\"sk-text-repr-fallback\"><pre>LogisticRegression(max_iter=1000, multi_class=&#x27;multinomial&#x27;, solver=&#x27;saga&#x27;)</pre><b>In a Jupyter environment, please rerun this cell to show the HTML representation or trust the notebook. <br />On GitHub, the HTML representation is unable to render, please try loading this page with nbviewer.org.</b></div><div class=\"sk-container\" hidden><div class=\"sk-item\"><div class=\"sk-estimator sk-toggleable\"><input class=\"sk-toggleable__control sk-hidden--visually\" id=\"sk-estimator-id-1\" type=\"checkbox\" checked><label for=\"sk-estimator-id-1\" class=\"sk-toggleable__label sk-toggleable__label-arrow\">LogisticRegression</label><div class=\"sk-toggleable__content\"><pre>LogisticRegression(max_iter=1000, multi_class=&#x27;multinomial&#x27;, solver=&#x27;saga&#x27;)</pre></div></div></div></div></div>"
      ],
      "text/plain": [
       "LogisticRegression(max_iter=1000, multi_class='multinomial', solver='saga')"
      ]
     },
     "execution_count": 15,
     "metadata": {},
     "output_type": "execute_result"
    }
   ],
   "source": [
    "# Erstes Modell:\n",
    "\n",
    "# Der multi_class - Wert wird als multinomial festgelegt, da wir mehr als 2 Zielklassen haben.\n",
    "# Der Solver \"saga\" wird für multinomiale lineare Regressionen empfohlen und ist für große Datasets geeignet.\n",
    "# (Nach der Scikit Dokumentation ist saga oftmals der beste Solver)\n",
    "# Hierfür verwenden wir zunächst einen max_iterator von 1000:\n",
    "\n",
    "loaded_softmax_model = LogisticRegression(multi_class='multinomial', solver='saga', max_iter=1000)\n",
    "loaded_softmax_model.fit(sf_model, y_train)"
   ]
  },
  {
   "cell_type": "code",
   "execution_count": 24,
   "metadata": {},
   "outputs": [
    {
     "name": "stdout",
     "output_type": "stream",
     "text": [
      "Accuracy: 0.64\n"
     ]
    },
    {
     "data": {
      "image/png": "[encoded data removed]",
      "text/plain": [
       "<Figure size 1500x1500 with 2 Axes>"
      ]
     },
     "metadata": {},
     "output_type": "display_data"
    }
   ],
   "source": [
    "# Vorhersagen auf dem Testset machen (nur für die selektierten Features)\n",
    "\n",
    "y_pred_model = loaded_softmax_model.predict(sf_model_test)\n",
    "\n",
    "# Validierung\n",
    "accuracy = accuracy_score(y_test, y_pred_model)\n",
    "print(f'Accuracy: {accuracy:.2f}')\n",
    "\n",
    "# Confusion Matrix erstellen und anzeigen\n",
    "cm = confusion_matrix(y_test, y_pred_model)\n",
    "plt.figure(figsize=(15, 15))\n",
    "sns.heatmap(cm, annot=True, fmt='d', cmap='Blues', xticklabels=data['Raucher_Ziel'].unique() , yticklabels=data['Raucher_Ziel'].unique())\n",
    "plt.xlabel('Predicted')\n",
    "plt.ylabel('True')\n",
    "plt.title('Confusion Matrix')\n",
    "plt.show()"
   ]
  },
  {
   "cell_type": "code",
   "execution_count": 25,
   "metadata": {},
   "outputs": [
    {
     "name": "stdout",
     "output_type": "stream",
     "text": [
      "Precision: 0.58\n",
      "Recall weighted: 0.64\n",
      "F1 score: 0.57\n"
     ]
    }
   ],
   "source": [
    "# Precision berechnen:\n",
    "\n",
    "precision = precision_score(y_test, y_pred_model, average='weighted')\n",
    "print(f'Precision: {precision:.2f}')\n",
    "\n",
    "# Recall berechnen:\n",
    "\n",
    "recall = recall_score(y_test, y_pred_model, average='weighted')\n",
    "print(f'Recall weighted: {recall:.2f}')\n",
    "\n",
    "# F1 Score berechnen:\n",
    "\n",
    "f1 = f1_score(y_test, y_pred_model, average='weighted')\n",
    "print(f'F1 score: {f1:.2f}')"
   ]
  },
  {
   "cell_type": "code",
   "execution_count": null,
   "metadata": {},
   "outputs": [],
   "source": [
    "# Die Precision der Klassifikation basierend auf den Features der SelectModel-Klassen Methode liegt lediglich bei 0.58 \n",
    "# und der Recall bei 0.64. Diese Werte wollen wir verbessern und versuchen es deshalb nun mit den Features der Regressionsauswahl.\n",
    "# Auch der F1 Score mit 0.57 ist niedrig.\n",
    "\n",
    "# In unserem Fall wäre neben der Precision vor allem auch der Recall sehr wichtig, da wir mit den Nichtrauchern eine sehr \n",
    "# große Klassifikationsklasse haben."
   ]
  },
  {
   "cell_type": "code",
   "execution_count": 21,
   "metadata": {},
   "outputs": [
    {
     "data": {
      "text/html": [
       "<style>#sk-container-id-2 {color: black;}#sk-container-id-2 pre{padding: 0;}#sk-container-id-2 div.sk-toggleable {background-color: white;}#sk-container-id-2 label.sk-toggleable__label {cursor: pointer;display: block;width: 100%;margin-bottom: 0;padding: 0.3em;box-sizing: border-box;text-align: center;}#sk-container-id-2 label.sk-toggleable__label-arrow:before {content: \"▸\";float: left;margin-right: 0.25em;color: #696969;}#sk-container-id-2 label.sk-toggleable__label-arrow:hover:before {color: black;}#sk-container-id-2 div.sk-estimator:hover label.sk-toggleable__label-arrow:before {color: black;}#sk-container-id-2 div.sk-toggleable__content {max-height: 0;max-width: 0;overflow: hidden;text-align: left;background-color: #f0f8ff;}#sk-container-id-2 div.sk-toggleable__content pre {margin: 0.2em;color: black;border-radius: 0.25em;background-color: #f0f8ff;}#sk-container-id-2 input.sk-toggleable__control:checked~div.sk-toggleable__content {max-height: 200px;max-width: 100%;overflow: auto;}#sk-container-id-2 input.sk-toggleable__control:checked~label.sk-toggleable__label-arrow:before {content: \"▾\";}#sk-container-id-2 div.sk-estimator input.sk-toggleable__control:checked~label.sk-toggleable__label {background-color: #d4ebff;}#sk-container-id-2 div.sk-label input.sk-toggleable__control:checked~label.sk-toggleable__label {background-color: #d4ebff;}#sk-container-id-2 input.sk-hidden--visually {border: 0;clip: rect(1px 1px 1px 1px);clip: rect(1px, 1px, 1px, 1px);height: 1px;margin: -1px;overflow: hidden;padding: 0;position: absolute;width: 1px;}#sk-container-id-2 div.sk-estimator {font-family: monospace;background-color: #f0f8ff;border: 1px dotted black;border-radius: 0.25em;box-sizing: border-box;margin-bottom: 0.5em;}#sk-container-id-2 div.sk-estimator:hover {background-color: #d4ebff;}#sk-container-id-2 div.sk-parallel-item::after {content: \"\";width: 100%;border-bottom: 1px solid gray;flex-grow: 1;}#sk-container-id-2 div.sk-label:hover label.sk-toggleable__label {background-color: #d4ebff;}#sk-container-id-2 div.sk-serial::before {content: \"\";position: absolute;border-left: 1px solid gray;box-sizing: border-box;top: 0;bottom: 0;left: 50%;z-index: 0;}#sk-container-id-2 div.sk-serial {display: flex;flex-direction: column;align-items: center;background-color: white;padding-right: 0.2em;padding-left: 0.2em;position: relative;}#sk-container-id-2 div.sk-item {position: relative;z-index: 1;}#sk-container-id-2 div.sk-parallel {display: flex;align-items: stretch;justify-content: center;background-color: white;position: relative;}#sk-container-id-2 div.sk-item::before, #sk-container-id-2 div.sk-parallel-item::before {content: \"\";position: absolute;border-left: 1px solid gray;box-sizing: border-box;top: 0;bottom: 0;left: 50%;z-index: -1;}#sk-container-id-2 div.sk-parallel-item {display: flex;flex-direction: column;z-index: 1;position: relative;background-color: white;}#sk-container-id-2 div.sk-parallel-item:first-child::after {align-self: flex-end;width: 50%;}#sk-container-id-2 div.sk-parallel-item:last-child::after {align-self: flex-start;width: 50%;}#sk-container-id-2 div.sk-parallel-item:only-child::after {width: 0;}#sk-container-id-2 div.sk-dashed-wrapped {border: 1px dashed gray;margin: 0 0.4em 0.5em 0.4em;box-sizing: border-box;padding-bottom: 0.4em;background-color: white;}#sk-container-id-2 div.sk-label label {font-family: monospace;font-weight: bold;display: inline-block;line-height: 1.2em;}#sk-container-id-2 div.sk-label-container {text-align: center;}#sk-container-id-2 div.sk-container {/* jupyter's `normalize.less` sets `[hidden] { display: none; }` but bootstrap.min.css set `[hidden] { display: none !important; }` so we also need the `!important` here to be able to override the default hidden behavior on the sphinx rendered scikit-learn.org. See: https://github.com/scikit-learn/scikit-learn/issues/21755 */display: inline-block !important;position: relative;}#sk-container-id-2 div.sk-text-repr-fallback {display: none;}</style><div id=\"sk-container-id-2\" class=\"sk-top-container\"><div class=\"sk-text-repr-fallback\"><pre>LogisticRegression(max_iter=1000, multi_class=&#x27;multinomial&#x27;, solver=&#x27;saga&#x27;)</pre><b>In a Jupyter environment, please rerun this cell to show the HTML representation or trust the notebook. <br />On GitHub, the HTML representation is unable to render, please try loading this page with nbviewer.org.</b></div><div class=\"sk-container\" hidden><div class=\"sk-item\"><div class=\"sk-estimator sk-toggleable\"><input class=\"sk-toggleable__control sk-hidden--visually\" id=\"sk-estimator-id-2\" type=\"checkbox\" checked><label for=\"sk-estimator-id-2\" class=\"sk-toggleable__label sk-toggleable__label-arrow\">LogisticRegression</label><div class=\"sk-toggleable__content\"><pre>LogisticRegression(max_iter=1000, multi_class=&#x27;multinomial&#x27;, solver=&#x27;saga&#x27;)</pre></div></div></div></div></div>"
      ],
      "text/plain": [
       "LogisticRegression(max_iter=1000, multi_class='multinomial', solver='saga')"
      ]
     },
     "execution_count": 21,
     "metadata": {},
     "output_type": "execute_result"
    }
   ],
   "source": [
    "# Zweites Modell mit anderen Features (Regressions-/Korrelationsselektion) und dem selben max_iterator Wert:\n",
    "\n",
    "softmax_model_corr = LogisticRegression(multi_class='multinomial', solver='saga', max_iter=1000)\n",
    "softmax_model_corr.fit(sf_corr, y_train)"
   ]
  },
  {
   "cell_type": "code",
   "execution_count": 26,
   "metadata": {},
   "outputs": [
    {
     "name": "stdout",
     "output_type": "stream",
     "text": [
      "Accuracy: 0.67\n"
     ]
    },
    {
     "data": {
      "image/png": "[encoded data removed]",
      "text/plain": [
       "<Figure size 1500x1500 with 2 Axes>"
      ]
     },
     "metadata": {},
     "output_type": "display_data"
    }
   ],
   "source": [
    "# Vorhersagen auf dem Testset machen (nur für die selektierten Features):\n",
    "\n",
    "y_pred_corr = softmax_model_corr.predict(sf_corr_test)\n",
    "\n",
    "# Validierung\n",
    "accuracy = accuracy_score(y_test, y_pred_corr)\n",
    "print(f'Accuracy: {accuracy:.2f}')\n",
    "\n",
    "# Confusion Matrix erstellen und anzeigen\n",
    "cm = confusion_matrix(y_test, y_pred_corr)\n",
    "plt.figure(figsize=(15, 15))\n",
    "sns.heatmap(cm, annot=True, fmt='d', cmap='Blues', xticklabels=data['Raucher_Ziel'].unique() , yticklabels=data['Raucher_Ziel'].unique())\n",
    "plt.xlabel('Predicted')\n",
    "plt.ylabel('True')\n",
    "plt.title('Confusion Matrix')\n",
    "plt.show()"
   ]
  },
  {
   "cell_type": "code",
   "execution_count": 27,
   "metadata": {},
   "outputs": [
    {
     "name": "stdout",
     "output_type": "stream",
     "text": [
      "Precision: 0.70\n",
      "Recall: 0.67\n",
      "F1 score: 0.57\n"
     ]
    }
   ],
   "source": [
    "# Precision berechnen:\n",
    "\n",
    "precision = precision_score(y_test, y_pred_corr, average='weighted')\n",
    "print(f'Precision: {precision:.2f}')\n",
    "\n",
    "# Recall berechnen:\n",
    "\n",
    "recall = recall_score(y_test, y_pred_corr, average='weighted')  # Du kannst 'micro', 'macro', oder 'weighted' auswählen\n",
    "print(f'Recall: {recall:.2f}')\n",
    "\n",
    "# F1 Score berechnen:\n",
    "\n",
    "f1 = f1_score(y_test, y_pred_model, average='weighted')\n",
    "print(f'F1 score: {f1:.2f}')"
   ]
  },
  {
   "cell_type": "code",
   "execution_count": 20,
   "metadata": {},
   "outputs": [
    {
     "name": "stderr",
     "output_type": "stream",
     "text": [
      "c:\\Users\\SebastianGrab\\AppData\\Local\\Programs\\Python\\Python39\\lib\\site-packages\\sklearn\\linear_model\\_sag.py:350: ConvergenceWarning: The max_iter was reached which means the coef_ did not converge\n",
      "  warnings.warn(\n"
     ]
    },
    {
     "data": {
      "text/html": [
       "<style>#sk-container-id-3 {color: black;}#sk-container-id-3 pre{padding: 0;}#sk-container-id-3 div.sk-toggleable {background-color: white;}#sk-container-id-3 label.sk-toggleable__label {cursor: pointer;display: block;width: 100%;margin-bottom: 0;padding: 0.3em;box-sizing: border-box;text-align: center;}#sk-container-id-3 label.sk-toggleable__label-arrow:before {content: \"▸\";float: left;margin-right: 0.25em;color: #696969;}#sk-container-id-3 label.sk-toggleable__label-arrow:hover:before {color: black;}#sk-container-id-3 div.sk-estimator:hover label.sk-toggleable__label-arrow:before {color: black;}#sk-container-id-3 div.sk-toggleable__content {max-height: 0;max-width: 0;overflow: hidden;text-align: left;background-color: #f0f8ff;}#sk-container-id-3 div.sk-toggleable__content pre {margin: 0.2em;color: black;border-radius: 0.25em;background-color: #f0f8ff;}#sk-container-id-3 input.sk-toggleable__control:checked~div.sk-toggleable__content {max-height: 200px;max-width: 100%;overflow: auto;}#sk-container-id-3 input.sk-toggleable__control:checked~label.sk-toggleable__label-arrow:before {content: \"▾\";}#sk-container-id-3 div.sk-estimator input.sk-toggleable__control:checked~label.sk-toggleable__label {background-color: #d4ebff;}#sk-container-id-3 div.sk-label input.sk-toggleable__control:checked~label.sk-toggleable__label {background-color: #d4ebff;}#sk-container-id-3 input.sk-hidden--visually {border: 0;clip: rect(1px 1px 1px 1px);clip: rect(1px, 1px, 1px, 1px);height: 1px;margin: -1px;overflow: hidden;padding: 0;position: absolute;width: 1px;}#sk-container-id-3 div.sk-estimator {font-family: monospace;background-color: #f0f8ff;border: 1px dotted black;border-radius: 0.25em;box-sizing: border-box;margin-bottom: 0.5em;}#sk-container-id-3 div.sk-estimator:hover {background-color: #d4ebff;}#sk-container-id-3 div.sk-parallel-item::after {content: \"\";width: 100%;border-bottom: 1px solid gray;flex-grow: 1;}#sk-container-id-3 div.sk-label:hover label.sk-toggleable__label {background-color: #d4ebff;}#sk-container-id-3 div.sk-serial::before {content: \"\";position: absolute;border-left: 1px solid gray;box-sizing: border-box;top: 0;bottom: 0;left: 50%;z-index: 0;}#sk-container-id-3 div.sk-serial {display: flex;flex-direction: column;align-items: center;background-color: white;padding-right: 0.2em;padding-left: 0.2em;position: relative;}#sk-container-id-3 div.sk-item {position: relative;z-index: 1;}#sk-container-id-3 div.sk-parallel {display: flex;align-items: stretch;justify-content: center;background-color: white;position: relative;}#sk-container-id-3 div.sk-item::before, #sk-container-id-3 div.sk-parallel-item::before {content: \"\";position: absolute;border-left: 1px solid gray;box-sizing: border-box;top: 0;bottom: 0;left: 50%;z-index: -1;}#sk-container-id-3 div.sk-parallel-item {display: flex;flex-direction: column;z-index: 1;position: relative;background-color: white;}#sk-container-id-3 div.sk-parallel-item:first-child::after {align-self: flex-end;width: 50%;}#sk-container-id-3 div.sk-parallel-item:last-child::after {align-self: flex-start;width: 50%;}#sk-container-id-3 div.sk-parallel-item:only-child::after {width: 0;}#sk-container-id-3 div.sk-dashed-wrapped {border: 1px dashed gray;margin: 0 0.4em 0.5em 0.4em;box-sizing: border-box;padding-bottom: 0.4em;background-color: white;}#sk-container-id-3 div.sk-label label {font-family: monospace;font-weight: bold;display: inline-block;line-height: 1.2em;}#sk-container-id-3 div.sk-label-container {text-align: center;}#sk-container-id-3 div.sk-container {/* jupyter's `normalize.less` sets `[hidden] { display: none; }` but bootstrap.min.css set `[hidden] { display: none !important; }` so we also need the `!important` here to be able to override the default hidden behavior on the sphinx rendered scikit-learn.org. See: https://github.com/scikit-learn/scikit-learn/issues/21755 */display: inline-block !important;position: relative;}#sk-container-id-3 div.sk-text-repr-fallback {display: none;}</style><div id=\"sk-container-id-3\" class=\"sk-top-container\"><div class=\"sk-text-repr-fallback\"><pre>LogisticRegression(max_iter=2000, multi_class=&#x27;multinomial&#x27;, solver=&#x27;saga&#x27;)</pre><b>In a Jupyter environment, please rerun this cell to show the HTML representation or trust the notebook. <br />On GitHub, the HTML representation is unable to render, please try loading this page with nbviewer.org.</b></div><div class=\"sk-container\" hidden><div class=\"sk-item\"><div class=\"sk-estimator sk-toggleable\"><input class=\"sk-toggleable__control sk-hidden--visually\" id=\"sk-estimator-id-3\" type=\"checkbox\" checked><label for=\"sk-estimator-id-3\" class=\"sk-toggleable__label sk-toggleable__label-arrow\">LogisticRegression</label><div class=\"sk-toggleable__content\"><pre>LogisticRegression(max_iter=2000, multi_class=&#x27;multinomial&#x27;, solver=&#x27;saga&#x27;)</pre></div></div></div></div></div>"
      ],
      "text/plain": [
       "LogisticRegression(max_iter=2000, multi_class='multinomial', solver='saga')"
      ]
     },
     "execution_count": 20,
     "metadata": {},
     "output_type": "execute_result"
    }
   ],
   "source": [
    "# Versuch das dritte Modell zu trainieren (mit mehr Iterationen):\n",
    "# Hier ist die Feature-Zusammensetzung aber komplexer als zuvor deshalb kein echtes Ergebnis.\n",
    "\n",
    "\n",
    "# softmax_model_corr_2 = LogisticRegression(multi_class='multinomial', solver='saga', max_iter=2000)\n",
    "# softmax_model_corr_2.fit(sf_corr2, y_train)"
   ]
  },
  {
   "cell_type": "code",
   "execution_count": null,
   "metadata": {},
   "outputs": [],
   "source": [
    "# Eine weitere Feature-Selektion aus dem korrelierenden und SelectedFeature-Alg mit einem max_iterator = 2000 dauert ungewöhnlich lange \n",
    "# zu trainieren, weshalb wir diese auslassen und es erneut mit 1500 Iterationen versuchen."
   ]
  },
  {
   "cell_type": "code",
   "execution_count": null,
   "metadata": {},
   "outputs": [],
   "source": [
    "softmax_model_corr_3 = LogisticRegression(multi_class='multinomial', solver='saga', max_iter=1500)\n",
    "softmax_model_corr_3.fit(sf_corr3, y_train)"
   ]
  },
  {
   "cell_type": "code",
   "execution_count": null,
   "metadata": {},
   "outputs": [],
   "source": [
    "# Vorhersagen auf dem Testdatensatz machen (nur für die selektierten Features):\n",
    "\n",
    "y_pred_corr_3 = softmax_model_corr_3.predict(sf_corr3_test)\n",
    "\n",
    "# Validierung\n",
    "accuracy_3 = accuracy_score(y_test, y_pred_corr_3)\n",
    "print(f'Accuracy: {accuracy_3:.2f}')\n",
    "\n",
    "# Confusion Matrix erstellen und anzeigen\n",
    "cm = confusion_matrix(y_test, y_pred_corr_3)\n",
    "plt.figure(figsize=(15, 15))\n",
    "sns.heatmap(cm, annot=True, fmt='d', cmap='Blues', xticklabels=data['Raucher_Ziel'].unique() , yticklabels=data['Raucher_Ziel'].unique())\n",
    "plt.xlabel('Predicted')\n",
    "plt.ylabel('True')\n",
    "plt.title('Confusion Matrix')\n",
    "plt.show()"
   ]
  },
  {
   "cell_type": "code",
   "execution_count": null,
   "metadata": {},
   "outputs": [],
   "source": [
    "# Korrelierenden Features führen zu einem besseren Ergebnis.\n",
    "\n",
    "# Dennoch ist eine Precision von 70 % nicht sehr hoch. Deshalb werden wir zudem ein resampling der Daten durchführen, sodass die\n",
    "# Klassen etwa gleich verteilt sind. Das Ziel ist es, eine höhere Precision zu erreichen.\n",
    "\n",
    "# Es muss jedoch auch gesagt werden, dass es von den gesundheitlichen Faktoren schwer ist, Raucher von ehemaligen \n",
    "# Rauchern zu unterscheiden. Für die Versicherung ist dies jedoch nur sekundär, da ehemalige Raucher auch anfälliger für\n",
    "# Raucherkrankheiten sind."
   ]
  },
  {
   "cell_type": "code",
   "execution_count": 4,
   "metadata": {},
   "outputs": [
    {
     "data": {
      "image/png": "[encoded data removed]",
      "text/plain": [
       "<Figure size 1000x600 with 1 Axes>"
      ]
     },
     "metadata": {},
     "output_type": "display_data"
    }
   ],
   "source": [
    "# Berechne relative Häufigkeit der Zielwerte in Prozent \n",
    "\n",
    "frequency = (dataset['Raucher_Ziel'].sort_values().value_counts(sort=False) / len(dataset)) * 100 \n",
    "\n",
    "# Balkendiagramm über die Verteilung \n",
    "\n",
    "plt.figure(figsize=(10, 6)) \n",
    "frequency.plot(kind='bar') \n",
    "plt.xlabel('Raucherstatus') \n",
    "plt.ylabel('Prozentuale Häufigkeit') \n",
    "plt.title('Häufigkeit in Prozent') \n",
    "plt.grid(axis='y') \n",
    "plt.show()"
   ]
  },
  {
   "cell_type": "code",
   "execution_count": 5,
   "metadata": {},
   "outputs": [
    {
     "name": "stdout",
     "output_type": "stream",
     "text": [
      "Random under-sampling:\n",
      "Raucher_Ziel\n",
      "1    388903\n",
      "2    388903\n",
      "Name: count, dtype: int64\n"
     ]
    },
    {
     "data": {
      "text/plain": [
       "<Axes: title={'center': 'Anzahl je Raucher_Ziel'}, xlabel='Raucher_Ziel'>"
      ]
     },
     "execution_count": 5,
     "metadata": {},
     "output_type": "execute_result"
    },
    {
     "data": {
      "image/png": "[encoded data removed]",
      "text/plain": [
       "<Figure size 640x480 with 1 Axes>"
      ]
     },
     "metadata": {},
     "output_type": "display_data"
    }
   ],
   "source": [
    "# Ein Resampling der Daten könnte das Ergebnis verbessern. \n",
    "\n",
    "# In diesem Fall verwenden wir Undersampling, da wir bereits einen großen Datensatz haben. \n",
    "# Bei Oversampling würde zudem das Rauschen verstärkt werden.\n",
    "\n",
    "# Zudem legen wir die Raucherstati 2 (ehem. Raucher) und 3 (aktive Raucher) zusammen, da sie aus der gesundheitlichen Perspektive starke Gemeinsamkeiten aufweisen, \n",
    "# wie es auch die bisherigen Klassifikationsverfahren gezeigt haben.\n",
    "\n",
    "# Quelle: https://www.kaggle.com/code/rafjaa/resampling-strategies-for-imbalanced-datasets\n",
    "\n",
    "data['Raucher_Ziel'] = data['Raucher_Ziel'].replace(3,2)\n",
    "\n",
    "count_class_0, count_class_1 = data['Raucher_Ziel'].sort_values().value_counts()\n",
    "\n",
    "# Aufteilen in Zielklassen\n",
    "\n",
    "class_0 = data[data['Raucher_Ziel'] == 1]\n",
    "class_1 = data[data['Raucher_Ziel'] == 2]\n",
    "\n",
    "\n",
    "class_0_under = class_0.sample(count_class_1)\n",
    "data_under = pd.concat([class_0_under, class_1], axis=0)\n",
    "\n",
    "print('Random under-sampling:')\n",
    "print(data_under['Raucher_Ziel'].value_counts())\n",
    "\n",
    "data_under['Raucher_Ziel'].value_counts().plot(kind='bar', title='Anzahl je Raucher_Ziel')"
   ]
  },
  {
   "cell_type": "code",
   "execution_count": 6,
   "metadata": {},
   "outputs": [
    {
     "data": {
      "text/html": [
       "<div>\n",
       "<style scoped>\n",
       "    .dataframe tbody tr th:only-of-type {\n",
       "        vertical-align: middle;\n",
       "    }\n",
       "\n",
       "    .dataframe tbody tr th {\n",
       "        vertical-align: top;\n",
       "    }\n",
       "\n",
       "    .dataframe thead th {\n",
       "        text-align: right;\n",
       "    }\n",
       "</style>\n",
       "<table border=\"1\" class=\"dataframe\">\n",
       "  <thead>\n",
       "    <tr style=\"text-align: right;\">\n",
       "      <th></th>\n",
       "      <th>Unnamed: 0</th>\n",
       "      <th>Geschlecht</th>\n",
       "      <th>Alter</th>\n",
       "      <th>Größe</th>\n",
       "      <th>Gewicht</th>\n",
       "      <th>Hüftumfang</th>\n",
       "      <th>Nüchterner Blutzucker</th>\n",
       "      <th>Totale Cholesterin</th>\n",
       "      <th>HDL_Cholesterin</th>\n",
       "      <th>LDL_Cholesterin</th>\n",
       "      <th>...</th>\n",
       "      <th>SGOT_ALT</th>\n",
       "      <th>gamma_GTP</th>\n",
       "      <th>Body-Mass-Index</th>\n",
       "      <th>BD_optimal</th>\n",
       "      <th>BD_normal</th>\n",
       "      <th>BD_Grenzwert_normal</th>\n",
       "      <th>BD_Hypertonie Grad 1</th>\n",
       "      <th>BD_Hypertonie Grad 2</th>\n",
       "      <th>BD_Hypertonie Grad 3</th>\n",
       "      <th>Trinker</th>\n",
       "    </tr>\n",
       "  </thead>\n",
       "  <tbody>\n",
       "    <tr>\n",
       "      <th>846928</th>\n",
       "      <td>846978</td>\n",
       "      <td>0</td>\n",
       "      <td>40</td>\n",
       "      <td>170</td>\n",
       "      <td>65</td>\n",
       "      <td>81.0</td>\n",
       "      <td>90.0</td>\n",
       "      <td>196.0</td>\n",
       "      <td>67.0</td>\n",
       "      <td>98.0</td>\n",
       "      <td>...</td>\n",
       "      <td>12.0</td>\n",
       "      <td>16.0</td>\n",
       "      <td>22.49</td>\n",
       "      <td>0</td>\n",
       "      <td>1</td>\n",
       "      <td>0</td>\n",
       "      <td>0</td>\n",
       "      <td>0</td>\n",
       "      <td>0</td>\n",
       "      <td>1</td>\n",
       "    </tr>\n",
       "    <tr>\n",
       "      <th>917163</th>\n",
       "      <td>917216</td>\n",
       "      <td>0</td>\n",
       "      <td>50</td>\n",
       "      <td>170</td>\n",
       "      <td>85</td>\n",
       "      <td>97.1</td>\n",
       "      <td>144.0</td>\n",
       "      <td>122.0</td>\n",
       "      <td>47.0</td>\n",
       "      <td>58.0</td>\n",
       "      <td>...</td>\n",
       "      <td>34.0</td>\n",
       "      <td>26.0</td>\n",
       "      <td>29.41</td>\n",
       "      <td>1</td>\n",
       "      <td>0</td>\n",
       "      <td>0</td>\n",
       "      <td>0</td>\n",
       "      <td>0</td>\n",
       "      <td>0</td>\n",
       "      <td>0</td>\n",
       "    </tr>\n",
       "    <tr>\n",
       "      <th>763619</th>\n",
       "      <td>763662</td>\n",
       "      <td>0</td>\n",
       "      <td>65</td>\n",
       "      <td>165</td>\n",
       "      <td>60</td>\n",
       "      <td>80.0</td>\n",
       "      <td>120.0</td>\n",
       "      <td>275.0</td>\n",
       "      <td>61.0</td>\n",
       "      <td>186.0</td>\n",
       "      <td>...</td>\n",
       "      <td>25.0</td>\n",
       "      <td>57.0</td>\n",
       "      <td>22.04</td>\n",
       "      <td>0</td>\n",
       "      <td>1</td>\n",
       "      <td>0</td>\n",
       "      <td>0</td>\n",
       "      <td>0</td>\n",
       "      <td>0</td>\n",
       "      <td>0</td>\n",
       "    </tr>\n",
       "    <tr>\n",
       "      <th>660651</th>\n",
       "      <td>660690</td>\n",
       "      <td>0</td>\n",
       "      <td>40</td>\n",
       "      <td>180</td>\n",
       "      <td>80</td>\n",
       "      <td>83.0</td>\n",
       "      <td>102.0</td>\n",
       "      <td>250.0</td>\n",
       "      <td>46.0</td>\n",
       "      <td>137.0</td>\n",
       "      <td>...</td>\n",
       "      <td>33.0</td>\n",
       "      <td>27.0</td>\n",
       "      <td>24.69</td>\n",
       "      <td>1</td>\n",
       "      <td>0</td>\n",
       "      <td>0</td>\n",
       "      <td>0</td>\n",
       "      <td>0</td>\n",
       "      <td>0</td>\n",
       "      <td>0</td>\n",
       "    </tr>\n",
       "    <tr>\n",
       "      <th>6939</th>\n",
       "      <td>6939</td>\n",
       "      <td>1</td>\n",
       "      <td>40</td>\n",
       "      <td>150</td>\n",
       "      <td>60</td>\n",
       "      <td>73.0</td>\n",
       "      <td>86.0</td>\n",
       "      <td>207.0</td>\n",
       "      <td>55.0</td>\n",
       "      <td>134.0</td>\n",
       "      <td>...</td>\n",
       "      <td>8.0</td>\n",
       "      <td>14.0</td>\n",
       "      <td>26.67</td>\n",
       "      <td>1</td>\n",
       "      <td>0</td>\n",
       "      <td>0</td>\n",
       "      <td>0</td>\n",
       "      <td>0</td>\n",
       "      <td>0</td>\n",
       "      <td>0</td>\n",
       "    </tr>\n",
       "    <tr>\n",
       "      <th>...</th>\n",
       "      <td>...</td>\n",
       "      <td>...</td>\n",
       "      <td>...</td>\n",
       "      <td>...</td>\n",
       "      <td>...</td>\n",
       "      <td>...</td>\n",
       "      <td>...</td>\n",
       "      <td>...</td>\n",
       "      <td>...</td>\n",
       "      <td>...</td>\n",
       "      <td>...</td>\n",
       "      <td>...</td>\n",
       "      <td>...</td>\n",
       "      <td>...</td>\n",
       "      <td>...</td>\n",
       "      <td>...</td>\n",
       "      <td>...</td>\n",
       "      <td>...</td>\n",
       "      <td>...</td>\n",
       "      <td>...</td>\n",
       "      <td>...</td>\n",
       "    </tr>\n",
       "    <tr>\n",
       "      <th>438524</th>\n",
       "      <td>438549</td>\n",
       "      <td>1</td>\n",
       "      <td>45</td>\n",
       "      <td>155</td>\n",
       "      <td>75</td>\n",
       "      <td>89.0</td>\n",
       "      <td>86.0</td>\n",
       "      <td>173.0</td>\n",
       "      <td>41.0</td>\n",
       "      <td>89.0</td>\n",
       "      <td>...</td>\n",
       "      <td>38.0</td>\n",
       "      <td>23.0</td>\n",
       "      <td>31.22</td>\n",
       "      <td>1</td>\n",
       "      <td>0</td>\n",
       "      <td>0</td>\n",
       "      <td>0</td>\n",
       "      <td>0</td>\n",
       "      <td>0</td>\n",
       "      <td>0</td>\n",
       "    </tr>\n",
       "    <tr>\n",
       "      <th>709857</th>\n",
       "      <td>709899</td>\n",
       "      <td>1</td>\n",
       "      <td>60</td>\n",
       "      <td>155</td>\n",
       "      <td>55</td>\n",
       "      <td>79.0</td>\n",
       "      <td>127.0</td>\n",
       "      <td>203.0</td>\n",
       "      <td>58.0</td>\n",
       "      <td>134.0</td>\n",
       "      <td>...</td>\n",
       "      <td>26.0</td>\n",
       "      <td>17.0</td>\n",
       "      <td>22.89</td>\n",
       "      <td>0</td>\n",
       "      <td>1</td>\n",
       "      <td>0</td>\n",
       "      <td>0</td>\n",
       "      <td>0</td>\n",
       "      <td>0</td>\n",
       "      <td>0</td>\n",
       "    </tr>\n",
       "    <tr>\n",
       "      <th>272733</th>\n",
       "      <td>272752</td>\n",
       "      <td>0</td>\n",
       "      <td>20</td>\n",
       "      <td>170</td>\n",
       "      <td>75</td>\n",
       "      <td>85.0</td>\n",
       "      <td>88.0</td>\n",
       "      <td>208.0</td>\n",
       "      <td>43.0</td>\n",
       "      <td>138.0</td>\n",
       "      <td>...</td>\n",
       "      <td>21.0</td>\n",
       "      <td>19.0</td>\n",
       "      <td>25.95</td>\n",
       "      <td>1</td>\n",
       "      <td>0</td>\n",
       "      <td>0</td>\n",
       "      <td>0</td>\n",
       "      <td>0</td>\n",
       "      <td>0</td>\n",
       "      <td>0</td>\n",
       "    </tr>\n",
       "    <tr>\n",
       "      <th>719149</th>\n",
       "      <td>719191</td>\n",
       "      <td>0</td>\n",
       "      <td>55</td>\n",
       "      <td>165</td>\n",
       "      <td>65</td>\n",
       "      <td>78.0</td>\n",
       "      <td>147.0</td>\n",
       "      <td>190.0</td>\n",
       "      <td>48.0</td>\n",
       "      <td>121.0</td>\n",
       "      <td>...</td>\n",
       "      <td>18.0</td>\n",
       "      <td>82.0</td>\n",
       "      <td>23.88</td>\n",
       "      <td>0</td>\n",
       "      <td>0</td>\n",
       "      <td>1</td>\n",
       "      <td>0</td>\n",
       "      <td>0</td>\n",
       "      <td>0</td>\n",
       "      <td>1</td>\n",
       "    </tr>\n",
       "    <tr>\n",
       "      <th>38685</th>\n",
       "      <td>38688</td>\n",
       "      <td>1</td>\n",
       "      <td>45</td>\n",
       "      <td>165</td>\n",
       "      <td>50</td>\n",
       "      <td>69.5</td>\n",
       "      <td>84.0</td>\n",
       "      <td>228.0</td>\n",
       "      <td>89.0</td>\n",
       "      <td>126.0</td>\n",
       "      <td>...</td>\n",
       "      <td>20.0</td>\n",
       "      <td>16.0</td>\n",
       "      <td>18.37</td>\n",
       "      <td>1</td>\n",
       "      <td>0</td>\n",
       "      <td>0</td>\n",
       "      <td>0</td>\n",
       "      <td>0</td>\n",
       "      <td>0</td>\n",
       "      <td>0</td>\n",
       "    </tr>\n",
       "  </tbody>\n",
       "</table>\n",
       "<p>622244 rows × 23 columns</p>\n",
       "</div>"
      ],
      "text/plain": [
       "        Unnamed: 0  Geschlecht  Alter  Größe  Gewicht  Hüftumfang  \\\n",
       "846928      846978           0     40    170       65        81.0   \n",
       "917163      917216           0     50    170       85        97.1   \n",
       "763619      763662           0     65    165       60        80.0   \n",
       "660651      660690           0     40    180       80        83.0   \n",
       "6939          6939           1     40    150       60        73.0   \n",
       "...            ...         ...    ...    ...      ...         ...   \n",
       "438524      438549           1     45    155       75        89.0   \n",
       "709857      709899           1     60    155       55        79.0   \n",
       "272733      272752           0     20    170       75        85.0   \n",
       "719149      719191           0     55    165       65        78.0   \n",
       "38685        38688           1     45    165       50        69.5   \n",
       "\n",
       "        Nüchterner Blutzucker  Totale Cholesterin  HDL_Cholesterin  \\\n",
       "846928                   90.0               196.0             67.0   \n",
       "917163                  144.0               122.0             47.0   \n",
       "763619                  120.0               275.0             61.0   \n",
       "660651                  102.0               250.0             46.0   \n",
       "6939                     86.0               207.0             55.0   \n",
       "...                       ...                 ...              ...   \n",
       "438524                   86.0               173.0             41.0   \n",
       "709857                  127.0               203.0             58.0   \n",
       "272733                   88.0               208.0             43.0   \n",
       "719149                  147.0               190.0             48.0   \n",
       "38685                    84.0               228.0             89.0   \n",
       "\n",
       "        LDL_Cholesterin  ...  SGOT_ALT  gamma_GTP  Body-Mass-Index  \\\n",
       "846928             98.0  ...      12.0       16.0            22.49   \n",
       "917163             58.0  ...      34.0       26.0            29.41   \n",
       "763619            186.0  ...      25.0       57.0            22.04   \n",
       "660651            137.0  ...      33.0       27.0            24.69   \n",
       "6939              134.0  ...       8.0       14.0            26.67   \n",
       "...                 ...  ...       ...        ...              ...   \n",
       "438524             89.0  ...      38.0       23.0            31.22   \n",
       "709857            134.0  ...      26.0       17.0            22.89   \n",
       "272733            138.0  ...      21.0       19.0            25.95   \n",
       "719149            121.0  ...      18.0       82.0            23.88   \n",
       "38685             126.0  ...      20.0       16.0            18.37   \n",
       "\n",
       "        BD_optimal  BD_normal  BD_Grenzwert_normal  BD_Hypertonie Grad 1  \\\n",
       "846928           0          1                    0                     0   \n",
       "917163           1          0                    0                     0   \n",
       "763619           0          1                    0                     0   \n",
       "660651           1          0                    0                     0   \n",
       "6939             1          0                    0                     0   \n",
       "...            ...        ...                  ...                   ...   \n",
       "438524           1          0                    0                     0   \n",
       "709857           0          1                    0                     0   \n",
       "272733           1          0                    0                     0   \n",
       "719149           0          0                    1                     0   \n",
       "38685            1          0                    0                     0   \n",
       "\n",
       "        BD_Hypertonie Grad 2  BD_Hypertonie Grad 3  Trinker  \n",
       "846928                     0                     0        1  \n",
       "917163                     0                     0        0  \n",
       "763619                     0                     0        0  \n",
       "660651                     0                     0        0  \n",
       "6939                       0                     0        0  \n",
       "...                      ...                   ...      ...  \n",
       "438524                     0                     0        0  \n",
       "709857                     0                     0        0  \n",
       "272733                     0                     0        0  \n",
       "719149                     0                     0        1  \n",
       "38685                      0                     0        0  \n",
       "\n",
       "[622244 rows x 23 columns]"
      ]
     },
     "execution_count": 6,
     "metadata": {},
     "output_type": "execute_result"
    }
   ],
   "source": [
    "X_train, X_test, y_train, y_test = train_test_split(data_under.drop(columns=['Raucher_Ziel']), data_under['Raucher_Ziel'], test_size=0.2, random_state=42)\n",
    "\n",
    "X_train"
   ]
  },
  {
   "cell_type": "code",
   "execution_count": 7,
   "metadata": {},
   "outputs": [],
   "source": [
    "# Features auswählen:\n",
    "\n",
    "undersampled = X_train[['Geschlecht', 'Alter', 'Größe', \n",
    "                   'Gewicht', 'Hüftumfang', 'Hämoglobin', 'gamma_GTP']]\n",
    "\n",
    "undersampled_test = X_test[['Geschlecht', 'Alter', 'Größe', \n",
    "                       'Gewicht', 'Hüftumfang', 'Hämoglobin', 'gamma_GTP']]"
   ]
  },
  {
   "cell_type": "code",
   "execution_count": 9,
   "metadata": {},
   "outputs": [
    {
     "data": {
      "text/html": [
       "<style>#sk-container-id-1 {color: black;}#sk-container-id-1 pre{padding: 0;}#sk-container-id-1 div.sk-toggleable {background-color: white;}#sk-container-id-1 label.sk-toggleable__label {cursor: pointer;display: block;width: 100%;margin-bottom: 0;padding: 0.3em;box-sizing: border-box;text-align: center;}#sk-container-id-1 label.sk-toggleable__label-arrow:before {content: \"▸\";float: left;margin-right: 0.25em;color: #696969;}#sk-container-id-1 label.sk-toggleable__label-arrow:hover:before {color: black;}#sk-container-id-1 div.sk-estimator:hover label.sk-toggleable__label-arrow:before {color: black;}#sk-container-id-1 div.sk-toggleable__content {max-height: 0;max-width: 0;overflow: hidden;text-align: left;background-color: #f0f8ff;}#sk-container-id-1 div.sk-toggleable__content pre {margin: 0.2em;color: black;border-radius: 0.25em;background-color: #f0f8ff;}#sk-container-id-1 input.sk-toggleable__control:checked~div.sk-toggleable__content {max-height: 200px;max-width: 100%;overflow: auto;}#sk-container-id-1 input.sk-toggleable__control:checked~label.sk-toggleable__label-arrow:before {content: \"▾\";}#sk-container-id-1 div.sk-estimator input.sk-toggleable__control:checked~label.sk-toggleable__label {background-color: #d4ebff;}#sk-container-id-1 div.sk-label input.sk-toggleable__control:checked~label.sk-toggleable__label {background-color: #d4ebff;}#sk-container-id-1 input.sk-hidden--visually {border: 0;clip: rect(1px 1px 1px 1px);clip: rect(1px, 1px, 1px, 1px);height: 1px;margin: -1px;overflow: hidden;padding: 0;position: absolute;width: 1px;}#sk-container-id-1 div.sk-estimator {font-family: monospace;background-color: #f0f8ff;border: 1px dotted black;border-radius: 0.25em;box-sizing: border-box;margin-bottom: 0.5em;}#sk-container-id-1 div.sk-estimator:hover {background-color: #d4ebff;}#sk-container-id-1 div.sk-parallel-item::after {content: \"\";width: 100%;border-bottom: 1px solid gray;flex-grow: 1;}#sk-container-id-1 div.sk-label:hover label.sk-toggleable__label {background-color: #d4ebff;}#sk-container-id-1 div.sk-serial::before {content: \"\";position: absolute;border-left: 1px solid gray;box-sizing: border-box;top: 0;bottom: 0;left: 50%;z-index: 0;}#sk-container-id-1 div.sk-serial {display: flex;flex-direction: column;align-items: center;background-color: white;padding-right: 0.2em;padding-left: 0.2em;position: relative;}#sk-container-id-1 div.sk-item {position: relative;z-index: 1;}#sk-container-id-1 div.sk-parallel {display: flex;align-items: stretch;justify-content: center;background-color: white;position: relative;}#sk-container-id-1 div.sk-item::before, #sk-container-id-1 div.sk-parallel-item::before {content: \"\";position: absolute;border-left: 1px solid gray;box-sizing: border-box;top: 0;bottom: 0;left: 50%;z-index: -1;}#sk-container-id-1 div.sk-parallel-item {display: flex;flex-direction: column;z-index: 1;position: relative;background-color: white;}#sk-container-id-1 div.sk-parallel-item:first-child::after {align-self: flex-end;width: 50%;}#sk-container-id-1 div.sk-parallel-item:last-child::after {align-self: flex-start;width: 50%;}#sk-container-id-1 div.sk-parallel-item:only-child::after {width: 0;}#sk-container-id-1 div.sk-dashed-wrapped {border: 1px dashed gray;margin: 0 0.4em 0.5em 0.4em;box-sizing: border-box;padding-bottom: 0.4em;background-color: white;}#sk-container-id-1 div.sk-label label {font-family: monospace;font-weight: bold;display: inline-block;line-height: 1.2em;}#sk-container-id-1 div.sk-label-container {text-align: center;}#sk-container-id-1 div.sk-container {/* jupyter's `normalize.less` sets `[hidden] { display: none; }` but bootstrap.min.css set `[hidden] { display: none !important; }` so we also need the `!important` here to be able to override the default hidden behavior on the sphinx rendered scikit-learn.org. See: https://github.com/scikit-learn/scikit-learn/issues/21755 */display: inline-block !important;position: relative;}#sk-container-id-1 div.sk-text-repr-fallback {display: none;}</style><div id=\"sk-container-id-1\" class=\"sk-top-container\"><div class=\"sk-text-repr-fallback\"><pre>LogisticRegression(max_iter=1000, multi_class=&#x27;multinomial&#x27;, solver=&#x27;saga&#x27;)</pre><b>In a Jupyter environment, please rerun this cell to show the HTML representation or trust the notebook. <br />On GitHub, the HTML representation is unable to render, please try loading this page with nbviewer.org.</b></div><div class=\"sk-container\" hidden><div class=\"sk-item\"><div class=\"sk-estimator sk-toggleable\"><input class=\"sk-toggleable__control sk-hidden--visually\" id=\"sk-estimator-id-1\" type=\"checkbox\" checked><label for=\"sk-estimator-id-1\" class=\"sk-toggleable__label sk-toggleable__label-arrow\">LogisticRegression</label><div class=\"sk-toggleable__content\"><pre>LogisticRegression(max_iter=1000, multi_class=&#x27;multinomial&#x27;, solver=&#x27;saga&#x27;)</pre></div></div></div></div></div>"
      ],
      "text/plain": [
       "LogisticRegression(max_iter=1000, multi_class='multinomial', solver='saga')"
      ]
     },
     "execution_count": 9,
     "metadata": {},
     "output_type": "execute_result"
    }
   ],
   "source": [
    "softmax_model = LogisticRegression(multi_class='multinomial', solver='saga', max_iter=1000)\n",
    "softmax_model.fit(undersampled, y_train)"
   ]
  },
  {
   "cell_type": "code",
   "execution_count": 10,
   "metadata": {},
   "outputs": [
    {
     "name": "stdout",
     "output_type": "stream",
     "text": [
      "Accuracy: 0.83\n"
     ]
    },
    {
     "data": {
      "image/png": "[encoded data removed]",
      "text/plain": [
       "<Figure size 1500x1500 with 2 Axes>"
      ]
     },
     "metadata": {},
     "output_type": "display_data"
    }
   ],
   "source": [
    "# Vorhersagen auf dem Testset machen (nur für die selektierten Features)\n",
    "\n",
    "y_pred_model = softmax_model.predict(undersampled_test)\n",
    "\n",
    "# Validierung\n",
    "accuracy = accuracy_score(y_test, y_pred_model)\n",
    "print(f'Accuracy: {accuracy:.2f}')\n",
    "\n",
    "# Confusion Matrix erstellen und anzeigen:\n",
    "\n",
    "cm = confusion_matrix(y_test, y_pred_model)\n",
    "plt.figure(figsize=(15, 15))\n",
    "sns.heatmap(cm, annot=True, fmt='d', cmap='Blues', xticklabels=data['Raucher_Ziel'].unique() , yticklabels=data['Raucher_Ziel'].unique())\n",
    "plt.xlabel('Predicted')\n",
    "plt.ylabel('True')\n",
    "plt.title('Confusion Matrix')\n",
    "plt.show()"
   ]
  },
  {
   "cell_type": "code",
   "execution_count": 11,
   "metadata": {},
   "outputs": [
    {
     "name": "stdout",
     "output_type": "stream",
     "text": [
      "Precision: 0.84\n",
      "Recall weighted: 0.83\n",
      "F1 score: 0.83\n"
     ]
    }
   ],
   "source": [
    "# Precision berechnen:\n",
    "\n",
    "precision = precision_score(y_test, y_pred_model, average='weighted')\n",
    "print(f'Precision: {precision:.2f}')\n",
    "\n",
    "# Recall berechnen:\n",
    "\n",
    "recall = recall_score(y_test, y_pred_model, average='weighted')\n",
    "print(f'Recall weighted: {recall:.2f}')\n",
    "\n",
    "# F1 Score berechnen:\n",
    "\n",
    "f1 = f1_score(y_test, y_pred_model, average='weighted')\n",
    "print(f'F1 score: {f1:.2f}')"
   ]
  },
  {
   "cell_type": "code",
   "execution_count": null,
   "metadata": {},
   "outputs": [],
   "source": [
    "# Das undersampelte Dataset gibt deutlich bessere Werte zurück als das die anderen Datensätze.\n",
    "\n",
    "# Dieses Modell könnte also deutlich besser zur Klassifikation verwendet werden."
   ]
  },
  {
   "cell_type": "code",
   "execution_count": null,
   "metadata": {},
   "outputs": [],
   "source": [
    "# Wenn wir die Parameter für die Classifikation an Hand des feature_selection Algorithmusses auswählen, \n",
    "# dann sind die Ergebnisse ungenauer als durch Korrelation\n",
    "\n",
    "# In der Praxis wären die Algorithmen der ungesampelten Datensätze nicht aussagekräftig genug, um sich alleine auf ihn zu verlassen.\n",
    "# Dennoch könnte er als Indikator dienen, um entscheiden zu können, um ein Proband / eine Probandin in Bezug auf den \n",
    "# Raucherstatus lügt. "
   ]
  }
 ],
 "metadata": {
  "kernelspec": {
   "display_name": "Python 3",
   "language": "python",
   "name": "python3"
  },
  "language_info": {
   "codemirror_mode": {
    "name": "ipython",
    "version": 3
   },
   "file_extension": ".py",
   "mimetype": "text/x-python",
   "name": "python",
   "nbconvert_exporter": "python",
   "pygments_lexer": "ipython3",
   "version": "3.9.13"
  }
 },
 "nbformat": 4,
 "nbformat_minor": 2
}
