{
 "cells": [
  {
   "cell_type": "markdown",
   "metadata": {},
   "source": [
    "# Projektarbeit Gruppe 2: Gesundheitsdaten"
   ]
  },
  {
   "cell_type": "markdown",
   "metadata": {},
   "source": [
    "https://www.kaggle.com/datasets/sooyoungher/smoking-drinking-dataset"
   ]
  },
  {
   "cell_type": "code",
   "execution_count": null,
   "metadata": {},
   "outputs": [],
   "source": [
    "# Import der benötigten Bibliotheken\n",
    "\n",
    "import pandas as pd\n",
    "import numpy as np"
   ]
  },
  {
   "cell_type": "markdown",
   "metadata": {},
   "source": [
    "# Anforderungen 1\n",
    "\n",
    "NumPy und pandas"
   ]
  },
  {
   "cell_type": "code",
   "execution_count": null,
   "metadata": {},
   "outputs": [],
   "source": [
    "# Dataset laden und die ersten 5 Zeilen ausgeben:\n",
    "\n",
    "dataset = pd.read_csv('./smoking_drinking_dataset_V0.csv')\n",
    "dataset.head()"
   ]
  },
  {
   "cell_type": "code",
   "execution_count": null,
   "metadata": {},
   "outputs": [],
   "source": [
    "# Ausgabe des Datasets als Numpy Array:\n",
    "\n",
    "dataset_nparray = np.array(dataset)\n",
    "print(dataset_nparray)"
   ]
  },
  {
   "cell_type": "code",
   "execution_count": null,
   "metadata": {},
   "outputs": [],
   "source": [
    "# Anwendung zweier Filterbedingungen\n",
    "# Alle männlichen Trinker: sex = 'Male' & DRK_YN = 'Y'\n",
    "\n",
    "filter_args = (dataset_nparray[:,0] == 'Male') & (dataset_nparray[:,23] == 'Y')\n",
    "filtered_data = dataset_nparray[filter_args]\n",
    "\n",
    "print(filtered_data)"
   ]
  },
  {
   "cell_type": "code",
   "execution_count": null,
   "metadata": {},
   "outputs": [],
   "source": [
    "# Berechnung zweier Statistiken basierend auf zwei Arrays:\n",
    "\n",
    "# 1. Anzahl der männlichen Trinker gesamt:\n",
    "\n",
    "male_drinker = filtered_data.shape[0]\n",
    "print('Anzahl der männlichen Trinker: ' + str(male_drinker))\n",
    "\n",
    "# 2. Durchschnittsalter aller Personen (gerundet auf 2 Dezimalstellen):\n",
    "\n",
    "age = dataset_nparray[:,1]\n",
    "average_age = np.average(age)\n",
    "average_age_clean = np.round(average_age, 2)\n",
    "print('Durchschnittsalter aller Personen: ' + str(average_age_clean))\n",
    "\n",
    "# 3. Mediangewicht aller Personen über 50:\n",
    "\n",
    "weight = dataset_nparray[:,3]\n",
    "filter_args = weight.astype(np.float64) > 50\n",
    "filtered_data = weight[filter_args]\n",
    "median_weight = np.median(filtered_data)\n",
    "print('Mediangewicht der Personen über 50: ' + str(median_weight))"
   ]
  },
  {
   "cell_type": "code",
   "execution_count": null,
   "metadata": {},
   "outputs": [],
   "source": [
    "# Dataset laden und die ersten 5 Zeilen ausgeben:\n",
    "\n",
    "dataset = pd.read_csv('smoking_driking_dataset_V0.csv')\n",
    "dataset.head()"
   ]
  },
  {
   "cell_type": "code",
   "execution_count": null,
   "metadata": {},
   "outputs": [],
   "source": [
    "# Neue berechnete Spalte hinzufügen:\n",
    "\n",
    "body_mass_index = dataset[\"weight\"].astype(np.float64) / ((dataset[\"height\"].astype(np.float64) / 100) * (dataset[\"height\"].astype(np.float64) / 100))\n",
    "\n",
    "dataset[\"BMI\"] = body_mass_index\n",
    "\n",
    "print(dataset[\"BMI\"])"
   ]
  },
  {
   "cell_type": "code",
   "execution_count": null,
   "metadata": {},
   "outputs": [],
   "source": [
    "# Ändern der Reihenfolge und Benamung der Spalten:\n",
    "\n",
    "dataset_renamed = dataset.rename(columns={'sex': 'Geschlecht', 'age': 'Alter', 'height': 'Größe', 'weight': 'Gewicht', 'waistline': 'Taille', 'sight_left': 'Sehkraft_links', 'sight_right': 'Sehkraft_rechts', 'hear_left': 'Hörkraft_links', 'hear_right': 'Hörkraft_rechts', 'SBP': 'Systolischer Blutdruck', 'DBP': 'Diastolischer Blutdrock', 'BLDS': 'Blutleckdetektor', 'tot_chole': 'Totale Cholesterin', 'HDL_chole': 'HDL_Cholesterin', 'LDL_chole': 'LDL_Cholesterin', 'triglyceride': 'Triglycerid', 'hemoglobin': 'Hemoglobin', 'urine_protein': 'Urin_Proteine', 'serum_creatinine': 'Serum_Kreatinin', 'SGOT_AST': 'SGOT_AST', 'SGOT_ALT': 'SGOT_ALT', 'gamma_GTP': 'gamma_GTP', 'SMK_stat_type_cd': 'Raucher_Status', 'DRK_YN': 'Trinker', 'BMI': 'Body-Mass-Index'})\n",
    "column_names = dataset_renamed.columns.values.tolist()\n",
    "print(column_names)\n",
    "\n",
    "dataset_redordered = dataset_renamed.sort_values(by=['Alter'], ascending=True)\n",
    "\n",
    "# dataset_redordered.head()"
   ]
  },
  {
   "cell_type": "code",
   "execution_count": null,
   "metadata": {},
   "outputs": [],
   "source": [
    "# Spalte löschen:\n",
    "\n",
    "dataset_redordered.drop('Body-Mass-Index', axis=1, inplace=True)\n",
    "\n",
    "dataset_redordered.head()"
   ]
  },
  {
   "cell_type": "code",
   "execution_count": null,
   "metadata": {},
   "outputs": [],
   "source": [
    "# Funktion aus dem str-Accessor (Harmonisierung der Trinker-Spalte):\n",
    "\n",
    "dataset[\"Trinker\"] = dataset_redordered[\"Trinker\"].str.replace('Y', '1').str.replace('N', '0')\n",
    "\n",
    "dataset.head()"
   ]
  },
  {
   "cell_type": "code",
   "execution_count": null,
   "metadata": {},
   "outputs": [],
   "source": [
    "# Speichern zu einer Datei:\n",
    "\n",
    "dataset_redordered.to_csv('smoking_drinking_dataset_V1.csv')"
   ]
  }
 ],
 "metadata": {
  "kernelspec": {
   "display_name": "Python 3",
   "language": "python",
   "name": "python3"
  },
  "language_info": {
   "codemirror_mode": {
    "name": "ipython",
    "version": 3
   },
   "file_extension": ".py",
   "mimetype": "text/x-python",
   "name": "python",
   "nbconvert_exporter": "python",
   "pygments_lexer": "ipython3",
   "version": "3.9.13"
  }
 },
 "nbformat": 4,
 "nbformat_minor": 2
}
