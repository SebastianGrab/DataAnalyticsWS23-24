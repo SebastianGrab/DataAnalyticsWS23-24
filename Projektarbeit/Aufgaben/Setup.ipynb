{
 "cells": [
  {
   "cell_type": "markdown",
   "metadata": {},
   "source": [
    "# Setup:"
   ]
  },
  {
   "cell_type": "code",
   "execution_count": null,
   "metadata": {},
   "outputs": [],
   "source": [
    "# Import der benötigten Bibliotheken\n",
    "\n",
    "import pandas as pd\n",
    "import numpy as np"
   ]
  },
  {
   "cell_type": "code",
   "execution_count": null,
   "metadata": {},
   "outputs": [],
   "source": [
    "# Dataset laden und die ersten 5 Zeilen ausgeben:\n",
    "\n",
    "dataset = pd.read_csv('smoking_drinking_dataset_V0.csv')\n",
    "dataset = dataset.rename(columns={'sex': 'Geschlecht', 'age': 'Alter', 'height': 'Größe', 'weight': 'Gewicht', 'waistline': 'Hüftumfang', 'sight_left': 'Sehkraft_links', 'sight_right': 'Sehkraft_rechts', 'hear_left': 'Hörkraft_links', 'hear_right': 'Hörkraft_rechts', 'SBP': 'Systolischer_Blutdruck', 'DBP': 'Diastolischer_Blutdrock', 'BLDS': 'Blutleckdetektor', 'tot_chole': 'Gesamt_Cholesterin', 'HDL_chole': 'HDL_Cholesterin', 'LDL_chole': 'LDL_Cholesterin', 'triglyceride': 'Triglycerid', 'hemoglobin': 'Hemoglobin', 'urine_protein': 'Urin_Proteine', 'serum_creatinine': 'Serum_Kreatinin', 'SGOT_AST': 'SGOT_AST', 'SGOT_ALT': 'SGOT_ALT', 'gamma_GTP': 'gamma_GTP', 'SMK_stat_type_cd': 'Raucher_Status', 'DRK_YN': 'Trinker_Status'})\n",
    "dataset.head()\n",
    "\n",
    "body_mass_index = dataset[\"Gewicht\"].astype(np.float64) / ((dataset[\"Größe\"].astype(np.float64) / 100) * (dataset[\"Größe\"].astype(np.float64) / 100))\n",
    "\n",
    "dataset[\"BMI\"] = body_mass_index\n",
    "\n",
    "dataset.to_csv('maindata.csv', index=False)"
   ]
  }
 ],
 "metadata": {
  "language_info": {
   "name": "python"
  }
 },
 "nbformat": 4,
 "nbformat_minor": 2
}
