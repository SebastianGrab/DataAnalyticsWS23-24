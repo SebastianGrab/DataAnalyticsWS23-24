{
 "cells": [
  {
   "cell_type": "markdown",
   "metadata": {},
   "source": [
    "# Projektarbeit Gruppe 2: Gesundheitsdaten"
   ]
  },
  {
   "cell_type": "markdown",
   "metadata": {},
   "source": [
    "https://www.kaggle.com/datasets/sooyoungher/smoking-drinking-dataset"
   ]
  },
  {
   "cell_type": "code",
   "execution_count": 39,
   "metadata": {},
   "outputs": [],
   "source": [
    "# Import der benötigten Bibliotheken\n",
    "\n",
    "import pandas as pd\n",
    "import numpy as np\n",
    "import os\n",
    "import matplotlib.pyplot as plt\n",
    "import seaborn as sns\n",
    "from sklearn.cluster import KMeans\n",
    "from sklearn.preprocessing import MinMaxScaler\n",
    "from sklearn import metrics\n",
    "import joblib"
   ]
  },
  {
   "cell_type": "code",
   "execution_count": 3,
   "metadata": {},
   "outputs": [],
   "source": [
    "# alter Datensatz\n",
    "# Lokaler Repository Pfad auslesen zum dynamischen Laden unabhängig des Nutzers:\n",
    "path = str(os.getcwd()).replace(\"\\Projektarbeit\\Aufgaben\", \"\")\n",
    "\n",
    "# Lesen der CSV Datei:\n",
    "dataset = pd.read_csv(path + '\\smoking_driking_dataset_Ver01.csv')\n",
    "\n",
    "# Umbenennen der Spalten:\n",
    "\n",
    "dataset = dataset.rename(columns={'sex': 'Geschlecht', 'age': 'Alter', 'height': 'Größe', 'weight': 'Gewicht', 'waistline': 'Hüftumfang', 'sight_left': 'Sehkraft_links', 'sight_right': 'Sehkraft_rechts', 'hear_left': 'Hörkraft_links', 'hear_right': 'Hörkraft_rechts', 'SBP': 'Systolischer Blutdruck', 'DBP': 'Diastolischer Blutdruck', 'BLDS': 'Nüchterner Blutzucker', 'tot_chole': 'Totale Cholesterin', 'HDL_chole': 'HDL_Cholesterin', 'LDL_chole': 'LDL_Cholesterin', 'triglyceride': 'Triglycerid', 'hemoglobin': 'Hämoglobin', 'urine_protein': 'Urin_Proteine', 'serum_creatinine': 'Serum_Kreatinin', 'SGOT_AST': 'SGOT_AST', 'SGOT_ALT': 'SGOT_ALT', 'gamma_GTP': 'gamma_GTP', 'SMK_stat_type_cd': 'Raucher_Status', 'DRK_YN': 'Trinker'})"
   ]
  },
  {
   "cell_type": "code",
   "execution_count": 2,
   "metadata": {},
   "outputs": [],
   "source": [
    "# Neuer Datensatz\n",
    "path = str(os.getcwd()).replace(\"\\Projektarbeit\\Aufgaben\", \"\")\n",
    "\n",
    "# Lesen der CSV Datei:\n",
    "dataset = pd.read_csv(path + '\\dataset_custom.csv')"
   ]
  },
  {
   "cell_type": "markdown",
   "metadata": {},
   "source": [
    "# Anforderungen 5: Clustering\n",
    "\n",
    "Führen Sie mit dem Algorithmus Ihrer Wahl eine Clusteranalyse auf Ihren Daten durch."
   ]
  },
  {
   "cell_type": "code",
   "execution_count": null,
   "metadata": {},
   "outputs": [],
   "source": [
    "# Limitierung der Größe des Datasets für das Clustering:\n",
    "\n",
    "dataset_clustering = dataset[['Gewicht', 'Hüftumfang', 'Systolischer Blutdruck', 'Diastolischer Blutdruck', 'Blutleckdetektor', 'Totale Cholesterin', 'HDL_Cholesterin', 'LDL_Cholesterin', 'Triglycerid', 'Hämoglobin', 'Urin_Proteine', 'Serum_Kreatinin', 'SGOT_ALT', 'gamma_GTP']]\n",
    "\n",
    "dataset_clustering.head()"
   ]
  },
  {
   "cell_type": "code",
   "execution_count": null,
   "metadata": {},
   "outputs": [],
   "source": [
    "kmeans = KMeans(n_clusters=5, random_state=0, n_init=1)\n",
    "dataset_clustering['Cluster'] = kmeans.fit_predict(dataset_clustering)"
   ]
  },
  {
   "cell_type": "code",
   "execution_count": 4,
   "metadata": {},
   "outputs": [],
   "source": [
    "dataset_clustering = dataset\n",
    "kmeans = KMeans(n_clusters=5, random_state=0, n_init=1)\n",
    "dataset_clustering['Cluster'] = kmeans.fit_predict(dataset_clustering)"
   ]
  },
  {
   "cell_type": "code",
   "execution_count": null,
   "metadata": {},
   "outputs": [
    {
     "name": "stdout",
     "output_type": "stream",
     "text": [
      "Name: 0 Größe:  346911\n",
      "Name: 1 Größe:  142706\n",
      "Name: 2 Größe:  8681\n",
      "Name: 3 Größe:  481984\n",
      "Name: 4 Größe:  11064\n"
     ]
    }
   ],
   "source": [
    "#Ausgabe mit altem Datensatz\n",
    "for i in range(0,5):\n",
    "    print(\"Name:\", i, \"Größe: \", list(kmeans.labels_).count(i))"
   ]
  },
  {
   "cell_type": "code",
   "execution_count": 5,
   "metadata": {},
   "outputs": [
    {
     "name": "stdout",
     "output_type": "stream",
     "text": [
      "Name: 0 Größe:  199969\n",
      "Name: 1 Größe:  197201\n",
      "Name: 2 Größe:  199324\n",
      "Name: 3 Größe:  196531\n",
      "Name: 4 Größe:  198264\n"
     ]
    }
   ],
   "source": [
    "# Ausgabe mit neuem Datensatz\n",
    "for i in range(0,5):\n",
    "    print(\"Name:\", i, \"Größe: \", list(kmeans.labels_).count(i))"
   ]
  },
  {
   "cell_type": "markdown",
   "metadata": {},
   "source": [
    "### Min Max Scaler Funktion"
   ]
  },
  {
   "cell_type": "code",
   "execution_count": 7,
   "metadata": {},
   "outputs": [],
   "source": [
    "def minmax_scale_columns(df):\n",
    "    # Kopie des ursprünglichen DataFrame erstellen, um das Original nicht zu ändern\n",
    "    df_scaled = df.copy()\n",
    "    \n",
    "    # MinMaxScaler erstellen\n",
    "    scaler = MinMaxScaler(feature_range=(0, 10))\n",
    "    \n",
    "    # Jede Spalte skalieren\n",
    "    for column in df.columns:\n",
    "        # Überprüfen, ob es sich um numerische Daten handelt (zum Beispiel nicht um Objekte wie Strings)\n",
    "        if pd.api.types.is_numeric_dtype(df[column]):\n",
    "            # Spalte skalieren\n",
    "            df_scaled[column] = scaler.fit_transform(df[[column]])\n",
    "    \n",
    "    return df_scaled"
   ]
  },
  {
   "cell_type": "code",
   "execution_count": 8,
   "metadata": {},
   "outputs": [],
   "source": [
    "data_clustering_scaled = minmax_scale_columns(dataset_clustering)\n"
   ]
  },
  {
   "cell_type": "code",
   "execution_count": 9,
   "metadata": {},
   "outputs": [],
   "source": [
    "KMeans_scaled = KMeans(n_clusters=5, random_state=0, n_init=1)\n",
    "data_clustering_scaled['Cluster'] = KMeans_scaled.fit_predict(data_clustering_scaled)"
   ]
  },
  {
   "cell_type": "code",
   "execution_count": 10,
   "metadata": {},
   "outputs": [
    {
     "name": "stdout",
     "output_type": "stream",
     "text": [
      "Name: 0 Größe:  348431\n",
      "Name: 1 Größe:  174950\n",
      "Name: 2 Größe:  163071\n",
      "Name: 3 Größe:  213950\n",
      "Name: 4 Größe:  90887\n"
     ]
    }
   ],
   "source": [
    "for i in range(0,5):\n",
    "    print(\"Name:\", i, \"Größe: \", list(KMeans_scaled.labels_).count(i))"
   ]
  },
  {
   "cell_type": "markdown",
   "metadata": {},
   "source": [
    "Setzen Sie die Parameter des Algorithmus mit Hilfe überwachter oder unüberwachter Evaluationsmethoden. Begründen Sie die Auswahl des Evaluationsalgorithmus."
   ]
  },
  {
   "cell_type": "code",
   "execution_count": 13,
   "metadata": {},
   "outputs": [],
   "source": [
    "def evaluate_clustering_metrics(dataset, kmeans_model):\n",
    "\n",
    "    # Clustering-Evaluierungsmetriken berechnen\n",
    "    hom = metrics.homogeneity_score(dataset['Cluster'], kmeans_model.labels_)\n",
    "    com = metrics.completeness_score(dataset['Cluster'], kmeans_model.labels_)\n",
    "    vmeasure = metrics.v_measure_score(dataset['Cluster'], kmeans_model.labels_)\n",
    "\n",
    "    # Ausgabe der Metriken\n",
    "    print(f\"Homogeneity Score: {hom}\")\n",
    "    print(f\"Completeness Score: {com}\")\n",
    "    print(f\"V-Measure Score: {vmeasure}\")"
   ]
  },
  {
   "cell_type": "code",
   "execution_count": 19,
   "metadata": {},
   "outputs": [],
   "source": [
    "def cluster_n_print(dataset, c, r, i):\n",
    "    kmeans = KMeans(n_clusters=c, random_state=r, n_init=i)\n",
    "    dataset['Cluster'] = kmeans.fit_predict(dataset)\n",
    "    print(\"-\" * 40)  # waagerechter Strich oben\n",
    "    print(f\"Inertia: {kmeans.inertia_}\\n\"\n",
    "          f\"n_clusters= {kmeans.n_clusters}\\n\"\n",
    "          f\"random_state= {kmeans.random_state}\\n\"\n",
    "          f\"n_init= {kmeans.n_init}\")\n",
    "    print(\"-\" * 40)  # waagerechter Strich unten\n"
   ]
  },
  {
   "cell_type": "code",
   "execution_count": 27,
   "metadata": {},
   "outputs": [],
   "source": [
    "def cluster_n_print_ver2(dataset, c, r, i):\n",
    "    kmeans = KMeans(n_clusters=c, random_state=r, n_init=i)\n",
    "    dataset['Cluster'] = kmeans.fit_predict(dataset)\n",
    "    print(\"-\" * 40)  # waagerechter Strich oben\n",
    "    print(\"\\n\")\n",
    "    print(f\"Inertia: {kmeans.inertia_}\\n\"\n",
    "          f\"n_clusters= {kmeans.n_clusters}\\n\"\n",
    "          f\"random_state= {kmeans.random_state}\\n\"\n",
    "          f\"n_init= {kmeans.n_init}\\n\")\n",
    "    print(\"Clustergrößen: \")\n",
    "    for j in range(0,c):\n",
    "      print(\"Name:\", j, \"Größe: \", list(kmeans.labels_).count(j))\n",
    "    print(\"\\n\")\n",
    "    print(\"-\" * 40)  # waagerechter Strich unten\n",
    "    return dataset, kmeans"
   ]
  },
  {
   "cell_type": "code",
   "execution_count": 34,
   "metadata": {},
   "outputs": [],
   "source": [
    "def cluster_n_print_ver3(dataset, c, r, i):\n",
    "    kmeans = KMeans(init=\"random\", n_clusters=c, random_state=r, n_init=i)\n",
    "    dataset['Cluster'] = kmeans.fit_predict(dataset)\n",
    "    print(\"-\" * 40)  # waagerechter Strich oben\n",
    "    print(\"\\n\")\n",
    "    print(f\"Inertia: {kmeans.inertia_}\\n\"\n",
    "          f\"n_clusters= {kmeans.n_clusters}\\n\"\n",
    "          f\"random_state= {kmeans.random_state}\\n\"\n",
    "          f\"n_init= {kmeans.n_init}\\n\"\n",
    "          f\"init= {kmeans.init}\\n\")\n",
    "    print(\"Clustergrößen: \")\n",
    "    for j in range(0,c):\n",
    "      print(\"Name:\", j, \"Größe: \", list(kmeans.labels_).count(j))\n",
    "    print(\"-\" * 40)  # waagerechter Strich unten\n",
    "    return dataset, kmeans"
   ]
  },
  {
   "cell_type": "code",
   "execution_count": 20,
   "metadata": {},
   "outputs": [],
   "source": [
    "data_2s = minmax_scale_columns(dataset)\n",
    "data_3s = minmax_scale_columns(dataset)\n",
    "data_4s = minmax_scale_columns(dataset)\n",
    "data_5s = minmax_scale_columns(dataset)\n",
    "data_6s = minmax_scale_columns(dataset)\n",
    "\n"
   ]
  },
  {
   "cell_type": "code",
   "execution_count": 14,
   "metadata": {},
   "outputs": [
    {
     "name": "stdout",
     "output_type": "stream",
     "text": [
      "Homogeneity Score: 1.0\n",
      "Completeness Score: 1.0\n",
      "V-Measure Score: 1.0\n"
     ]
    }
   ],
   "source": [
    "evaluate_clustering_metrics(dataset, kmeans)"
   ]
  },
  {
   "cell_type": "code",
   "execution_count": 21,
   "metadata": {},
   "outputs": [
    {
     "name": "stdout",
     "output_type": "stream",
     "text": [
      "----------------------------------------\n",
      "Inertia: 99826359.5985087\n",
      "n_clusters= 5\n",
      "random_state= 0\n",
      "n_init= 40\n",
      "----------------------------------------\n"
     ]
    }
   ],
   "source": [
    "cluster_n_print(data_2s, 5, 0, 40)"
   ]
  },
  {
   "cell_type": "markdown",
   "metadata": {},
   "source": [
    "### Ausgabe verschiedener random States.\n",
    "Erkenntnis: kaum Veränderungen"
   ]
  },
  {
   "cell_type": "code",
   "execution_count": 22,
   "metadata": {},
   "outputs": [
    {
     "name": "stdout",
     "output_type": "stream",
     "text": [
      "----------------------------------------\n",
      "Inertia: 99826359.53291523\n",
      "n_clusters= 5\n",
      "random_state= 10\n",
      "n_init= 40\n",
      "----------------------------------------\n",
      "----------------------------------------\n",
      "Inertia: 99826359.53035544\n",
      "n_clusters= 5\n",
      "random_state= 20\n",
      "n_init= 40\n",
      "----------------------------------------\n",
      "----------------------------------------\n",
      "Inertia: 99826359.53775859\n",
      "n_clusters= 5\n",
      "random_state= 30\n",
      "n_init= 40\n",
      "----------------------------------------\n",
      "----------------------------------------\n",
      "Inertia: 99826359.52732927\n",
      "n_clusters= 5\n",
      "random_state= 40\n",
      "n_init= 40\n",
      "----------------------------------------\n"
     ]
    }
   ],
   "source": [
    "cluster_n_print(data_3s, 5, 10, 40)\n",
    "cluster_n_print(data_4s, 5, 20, 40)\n",
    "cluster_n_print(data_5s, 5, 30, 40)\n",
    "cluster_n_print(data_6s, 5, 40, 40)"
   ]
  },
  {
   "cell_type": "code",
   "execution_count": 18,
   "metadata": {},
   "outputs": [
    {
     "name": "stdout",
     "output_type": "stream",
     "text": [
      "3247806048685082.0\n",
      "107380492.14014828\n"
     ]
    }
   ],
   "source": [
    "print_inertia(kmeans)\n",
    "print_inertia(KMeans_scaled)"
   ]
  },
  {
   "cell_type": "markdown",
   "metadata": {},
   "source": [
    "### Ausgabe verschiedener ramdon States (größere Schritte) und unterschiedliche Anzahl von Cluster.\n",
    "Erkenntnis: Höhere random States führen zu leicht schlechteren inertia-Werten.\n"
   ]
  },
  {
   "cell_type": "code",
   "execution_count": 25,
   "metadata": {},
   "outputs": [],
   "source": [
    "data_7s = minmax_scale_columns(dataset)\n",
    "data_8s = minmax_scale_columns(dataset)\n",
    "data_9s = minmax_scale_columns(dataset)\n",
    "data_10s = minmax_scale_columns(dataset)\n",
    "data_11s = minmax_scale_columns(dataset)"
   ]
  },
  {
   "cell_type": "code",
   "execution_count": 26,
   "metadata": {},
   "outputs": [
    {
     "name": "stdout",
     "output_type": "stream",
     "text": [
      "----------------------------------------\n",
      "----------------------------------------\n",
      "Inertia: 99826360.79521458\n",
      "n_clusters= 5\n",
      "random_state= 150\n",
      "n_init= 40\n",
      "\n",
      "----------------------------------------\n",
      "Name: 0 Größe:  136204\n",
      "Name: 1 Größe:  212872\n",
      "Name: 2 Größe:  174872\n",
      "Name: 3 Größe:  335897\n",
      "Name: 4 Größe:  131444\n",
      "----------------------------------------\n",
      "----------------------------------------\n",
      "----------------------------------------\n",
      "----------------------------------------\n",
      "Inertia: 99826360.22542998\n",
      "n_clusters= 5\n",
      "random_state= 1000\n",
      "n_init= 40\n",
      "\n",
      "----------------------------------------\n",
      "Name: 0 Größe:  212872\n",
      "Name: 1 Größe:  131444\n",
      "Name: 2 Größe:  174875\n",
      "Name: 3 Größe:  335897\n",
      "Name: 4 Größe:  136201\n",
      "----------------------------------------\n",
      "----------------------------------------\n",
      "----------------------------------------\n",
      "----------------------------------------\n",
      "Inertia: 91667530.20053414\n",
      "n_clusters= 6\n",
      "random_state= 0\n",
      "n_init= 40\n",
      "\n",
      "----------------------------------------\n",
      "Name: 0 Größe:  136203\n",
      "Name: 1 Größe:  174869\n",
      "Name: 2 Größe:  213706\n",
      "Name: 3 Größe:  212704\n",
      "Name: 4 Größe:  122377\n",
      "Name: 5 Größe:  131430\n",
      "----------------------------------------\n",
      "----------------------------------------\n",
      "----------------------------------------\n",
      "----------------------------------------\n",
      "Inertia: 109540923.83914171\n",
      "n_clusters= 4\n",
      "random_state= 0\n",
      "n_init= 40\n",
      "\n",
      "----------------------------------------\n",
      "Name: 0 Größe:  335897\n",
      "Name: 1 Größe:  213953\n",
      "Name: 2 Größe:  266489\n",
      "Name: 3 Größe:  174950\n",
      "----------------------------------------\n",
      "----------------------------------------\n",
      "----------------------------------------\n",
      "----------------------------------------\n",
      "Inertia: 128759988.98470455\n",
      "n_clusters= 3\n",
      "random_state= 0\n",
      "n_init= 40\n",
      "\n",
      "----------------------------------------\n",
      "Name: 0 Größe:  379404\n",
      "Name: 1 Größe:  342984\n",
      "Name: 2 Größe:  268901\n",
      "----------------------------------------\n",
      "----------------------------------------\n"
     ]
    }
   ],
   "source": [
    "data_7s, kmeans_7s = cluster_n_print_ver2(data_7s, 5, 150, 40)\n",
    "data_8s, kmeans_8s = cluster_n_print_ver2(data_8s, 5, 1000, 40)\n",
    "data_9s, kmeans_9s = cluster_n_print_ver2(data_9s, 6, 0, 40)\n",
    "data_10s, kmeans_10s = cluster_n_print_ver2(data_10s, 4, 0, 40)\n",
    "data_11s, kmeans_11s = cluster_n_print_ver2(data_11s, 3, 0, 40)"
   ]
  },
  {
   "cell_type": "code",
   "execution_count": 28,
   "metadata": {},
   "outputs": [],
   "source": [
    "data_12s = minmax_scale_columns(dataset)\n",
    "data_13s = minmax_scale_columns(dataset)\n",
    "data_14s = minmax_scale_columns(dataset)\n",
    "data_15s = minmax_scale_columns(dataset)\n",
    "data_16s = minmax_scale_columns(dataset)"
   ]
  },
  {
   "cell_type": "code",
   "execution_count": 29,
   "metadata": {},
   "outputs": [
    {
     "name": "stdout",
     "output_type": "stream",
     "text": [
      "----------------------------------------\n",
      "----------------------------------------\n",
      "Inertia: 91667530.10742143\n",
      "n_clusters= 6\n",
      "random_state= 20\n",
      "n_init= 40\n",
      "\n",
      "Clustergrößen: \n",
      "Name: 0 Größe:  212703\n",
      "Name: 1 Größe:  131430\n",
      "Name: 2 Größe:  136202\n",
      "Name: 3 Größe:  213707\n",
      "Name: 4 Größe:  174870\n",
      "Name: 5 Größe:  122377\n",
      "\n",
      "\n",
      "----------------------------------------\n",
      "----------------------------------------\n",
      "----------------------------------------\n",
      "Inertia: 84368412.96475229\n",
      "n_clusters= 7\n",
      "random_state= 20\n",
      "n_init= 40\n",
      "\n",
      "Clustergrößen: \n",
      "Name: 0 Größe:  99310\n",
      "Name: 1 Größe:  174917\n",
      "Name: 2 Größe:  213539\n",
      "Name: 3 Größe:  135124\n",
      "Name: 4 Größe:  122377\n",
      "Name: 5 Größe:  131385\n",
      "Name: 6 Größe:  114637\n",
      "\n",
      "\n",
      "----------------------------------------\n",
      "----------------------------------------\n",
      "----------------------------------------\n",
      "Inertia: 78589315.8901342\n",
      "n_clusters= 8\n",
      "random_state= 20\n",
      "n_init= 40\n",
      "\n",
      "Clustergrößen: \n",
      "Name: 0 Größe:  213534\n",
      "Name: 1 Größe:  114637\n",
      "Name: 2 Größe:  72726\n",
      "Name: 3 Größe:  99310\n",
      "Name: 4 Größe:  102224\n",
      "Name: 5 Größe:  135096\n",
      "Name: 6 Größe:  122377\n",
      "Name: 7 Größe:  131385\n",
      "\n",
      "\n",
      "----------------------------------------\n",
      "----------------------------------------\n",
      "----------------------------------------\n",
      "Inertia: 72519811.93576938\n",
      "n_clusters= 9\n",
      "random_state= 20\n",
      "n_init= 40\n",
      "\n",
      "Clustergrößen: \n",
      "Name: 0 Größe:  63935\n",
      "Name: 1 Größe:  216901\n",
      "Name: 2 Größe:  101567\n",
      "Name: 3 Größe:  124705\n",
      "Name: 4 Größe:  113796\n",
      "Name: 5 Größe:  99310\n",
      "Name: 6 Größe:  63245\n",
      "Name: 7 Größe:  72726\n",
      "Name: 8 Größe:  135104\n",
      "\n",
      "\n",
      "----------------------------------------\n",
      "----------------------------------------\n",
      "----------------------------------------\n",
      "Inertia: 55970856.010278754\n",
      "n_clusters= 10\n",
      "random_state= 20\n",
      "n_init= 40\n",
      "\n",
      "Clustergrößen: \n",
      "Name: 0 Größe:  216901\n",
      "Name: 1 Größe:  124705\n",
      "Name: 2 Größe:  99310\n",
      "Name: 3 Größe:  135097\n",
      "Name: 4 Größe:  101567\n",
      "Name: 5 Größe:  72726\n",
      "Name: 6 Größe:  57683\n",
      "Name: 7 Größe:  56388\n",
      "Name: 8 Größe:  63920\n",
      "Name: 9 Größe:  62992\n",
      "\n",
      "\n",
      "----------------------------------------\n"
     ]
    }
   ],
   "source": [
    "data_12s, kmeans_12s = cluster_n_print_ver2(data_12s, 6, 20, 40)\n",
    "data_13s, kmeans_13s = cluster_n_print_ver2(data_13s, 7, 20, 40)\n",
    "data_14s, kmeans_14s = cluster_n_print_ver2(data_14s, 8, 20, 40)\n",
    "data_15s, kmeans_17s = cluster_n_print_ver2(data_15s, 9, 20, 40)\n",
    "data_16s, kmeans_16s = cluster_n_print_ver2(data_15s, 10, 20, 40)"
   ]
  },
  {
   "cell_type": "code",
   "execution_count": 30,
   "metadata": {},
   "outputs": [],
   "source": [
    "data_17s = minmax_scale_columns(dataset)\n",
    "data_18s = minmax_scale_columns(dataset)\n",
    "data_19s = minmax_scale_columns(dataset)\n",
    "data_20s = minmax_scale_columns(dataset)\n",
    "data_21s = minmax_scale_columns(dataset)"
   ]
  },
  {
   "cell_type": "code",
   "execution_count": 35,
   "metadata": {},
   "outputs": [
    {
     "name": "stdout",
     "output_type": "stream",
     "text": [
      "----------------------------------------\n",
      "\n",
      "\n",
      "Inertia: 87409829.28286432\n",
      "n_clusters= 5\n",
      "random_state= 20\n",
      "n_init= 40\n",
      "init= random\n",
      "\n",
      "Clustergrößen: \n",
      "Name: 0 Größe:  131444\n",
      "Name: 1 Größe:  174867\n",
      "Name: 2 Größe:  212872\n",
      "Name: 3 Größe:  335897\n",
      "Name: 4 Größe:  136209\n",
      "----------------------------------------\n",
      "----------------------------------------\n",
      "\n",
      "\n",
      "Inertia: 99826361.65663448\n",
      "n_clusters= 5\n",
      "random_state= 20\n",
      "n_init= 40\n",
      "init= random\n",
      "\n",
      "Clustergrößen: \n",
      "Name: 0 Größe:  136209\n",
      "Name: 1 Größe:  174867\n",
      "Name: 2 Größe:  212872\n",
      "Name: 3 Größe:  131444\n",
      "Name: 4 Größe:  335897\n",
      "----------------------------------------\n",
      "----------------------------------------\n",
      "\n",
      "\n",
      "Inertia: 99826361.65663448\n",
      "n_clusters= 5\n",
      "random_state= 20\n",
      "n_init= 40\n",
      "init= random\n",
      "\n",
      "Clustergrößen: \n",
      "Name: 0 Größe:  136209\n",
      "Name: 1 Größe:  174867\n",
      "Name: 2 Größe:  212872\n",
      "Name: 3 Größe:  131444\n",
      "Name: 4 Größe:  335897\n",
      "----------------------------------------\n",
      "----------------------------------------\n",
      "\n",
      "\n",
      "Inertia: 99826361.65663448\n",
      "n_clusters= 5\n",
      "random_state= 20\n",
      "n_init= 40\n",
      "init= random\n",
      "\n",
      "Clustergrößen: \n",
      "Name: 0 Größe:  136209\n",
      "Name: 1 Größe:  174867\n",
      "Name: 2 Größe:  212872\n",
      "Name: 3 Größe:  131444\n",
      "Name: 4 Größe:  335897\n",
      "----------------------------------------\n",
      "----------------------------------------\n",
      "\n",
      "\n",
      "Inertia: 99826361.65663448\n",
      "n_clusters= 5\n",
      "random_state= 20\n",
      "n_init= 40\n",
      "init= random\n",
      "\n",
      "Clustergrößen: \n",
      "Name: 0 Größe:  136209\n",
      "Name: 1 Größe:  174867\n",
      "Name: 2 Größe:  212872\n",
      "Name: 3 Größe:  131444\n",
      "Name: 4 Größe:  335897\n",
      "----------------------------------------\n"
     ]
    }
   ],
   "source": [
    "data_17s, kmeans_17s = cluster_n_print_ver3(data_17s, 5, 20, 40)\n",
    "data_18s, kmeans_18s = cluster_n_print_ver3(data_18s, 5, 20, 40)\n",
    "data_19s, kmeans_19s = cluster_n_print_ver3(data_19s, 5, 20, 40)\n",
    "data_20s, kmeans_20s = cluster_n_print_ver3(data_20s, 5, 20, 40)\n",
    "data_21s, kmeans_21s = cluster_n_print_ver3(data_21s, 5, 20, 40)"
   ]
  },
  {
   "cell_type": "code",
   "execution_count": 41,
   "metadata": {},
   "outputs": [
    {
     "data": {
      "text/plain": [
       "['Modelle/kmeans_best_model.joblib']"
      ]
     },
     "execution_count": 41,
     "metadata": {},
     "output_type": "execute_result"
    }
   ],
   "source": [
    "joblib.dump(kmeans_17s, 'Modelle/kmeans_best_model.joblib')"
   ]
  },
  {
   "cell_type": "code",
   "execution_count": 42,
   "metadata": {},
   "outputs": [
    {
     "data": {
      "text/plain": [
       "87409829.28286432"
      ]
     },
     "execution_count": 42,
     "metadata": {},
     "output_type": "execute_result"
    }
   ],
   "source": [
    "loaded_kmeans_model = joblib.load('Modelle/kmeans_best_model.joblib')\n",
    "loaded_kmeans_model.inertia_"
   ]
  },
  {
   "cell_type": "markdown",
   "metadata": {},
   "source": [
    "### Punkt 3\n",
    "#### Betrachten Sie die gebildeten Cluster. Wie gut sind sie intuitiv? Welche Informationen über Ihren Datensatz ziehen Sie daraus? Leiten sich weitere Schritte der Datenbereinigung oder der Datenaufbereitung ab?"
   ]
  },
  {
   "cell_type": "markdown",
   "metadata": {},
   "source": [
    "Nicht intuiutiv. Zu viele Paramter. Die Cluster sind nicht zu interpretieren. PCA wird dringen benötigt. Außerdem sind einige Werte nicht detailliert genung um diese sinnvoll zu verwenden. (Siehe Confluence) Für sinnvolle Cluster sollte im Weiteren Datensatz in männlich/weiblich getrennt werden. "
   ]
  },
  {
   "cell_type": "markdown",
   "metadata": {},
   "source": [
    "### Punkt 4\n",
    "#### Können Sie in Ihrem Projektkontext Clustering noch für weitere Zwecke (z.B. Outlier Detection oder Profilerstellung) verwenden? (Dies ist nicht immer der Fall.) Skizzieren Sie ggf. kurz ein mögliches Vorgehen."
   ]
  },
  {
   "cell_type": "markdown",
   "metadata": {},
   "source": [
    "Evtl um Raucher anhand von Hämoglobin zu erkennen. Viele Werte erfolgen anhand von Messungen, Blutuntersuchugnen etc. Bei Abfragen wie Raucher oder Trinker besteht die Gefahr, dass ein Proband nicht wahrheitsgemäß atwortet um ggf. besser eingestuft zu werden. Anhand von Hämoglobin (korreliert mit Raucher_Status postiv, als auich mit nicht Raucherstatus negativ).\n",
    "\n",
    "Dazu alle korrelierenden Faktoren (Geschlecht, Gewicht, Größe, Hüftumfang, Hamoglobin) extrahieren und Clustern lassen. Dadurch wäre supervised learning möglich und man wäre unabhängig der Aussage eines Probanden."
   ]
  }
 ],
 "metadata": {
  "kernelspec": {
   "display_name": "Python 3",
   "language": "python",
   "name": "python3"
  },
  "language_info": {
   "codemirror_mode": {
    "name": "ipython",
    "version": 3
   },
   "file_extension": ".py",
   "mimetype": "text/x-python",
   "name": "python",
   "nbconvert_exporter": "python",
   "pygments_lexer": "ipython3",
   "version": "3.9.13"
  }
 },
 "nbformat": 4,
 "nbformat_minor": 2
}
