{
 "cells": [
  {
   "cell_type": "markdown",
   "metadata": {},
   "source": [
    "# Projektarbeit Gruppe 2: Gesundheitsdaten"
   ]
  },
  {
   "cell_type": "markdown",
   "metadata": {},
   "source": [
    "https://www.kaggle.com/datasets/sooyoungher/smoking-drinking-dataset"
   ]
  },
  {
   "cell_type": "code",
   "execution_count": 87,
   "metadata": {},
   "outputs": [],
   "source": [
    "# Import der benötigten Bibliotheken\n",
    "\n",
    "import pandas as pd\n",
    "import numpy as np\n",
    "import os\n",
    "import matplotlib.pyplot as plt\n",
    "import seaborn as sns\n",
    "from sklearn.cluster import KMeans\n",
    "from sklearn.preprocessing import MinMaxScaler\n",
    "from sklearn import metrics"
   ]
  },
  {
   "cell_type": "code",
   "execution_count": 88,
   "metadata": {},
   "outputs": [],
   "source": [
    "# Lokaler Repository Pfad auslesen zum dynamischen Laden unabhängig des Nutzers:\n",
    "path = str(os.getcwd()).replace(\"\\Projektarbeit\\Aufgaben\", \"\")\n",
    "\n",
    "# Lesen der CSV Datei:\n",
    "dataset = pd.read_csv(path + '\\smoking_drinking_dataset_Ver01.csv')\n",
    "\n",
    "# Umbenennen der Spalten:\n",
    "\n",
    "dataset = dataset.rename(columns={'sex': 'Geschlecht', 'age': 'Alter', 'height': 'Größe', 'weight': 'Gewicht', 'waistline': 'Hüftumfang', 'sight_left': 'Sehkraft_links', 'sight_right': 'Sehkraft_rechts', 'hear_left': 'Hörkraft_links', 'hear_right': 'Hörkraft_rechts', 'SBP': 'Systolischer Blutdruck', 'DBP': 'Diastolischer Blutdruck', 'BLDS': 'Blutleckdetektor', 'tot_chole': 'Totale Cholesterin', 'HDL_chole': 'HDL_Cholesterin', 'LDL_chole': 'LDL_Cholesterin', 'triglyceride': 'Triglycerid', 'hemoglobin': 'Hemoglobin', 'urine_protein': 'Urin_Proteine', 'serum_creatinine': 'Serum_Kreatinin', 'SGOT_AST': 'SGOT_AST', 'SGOT_ALT': 'SGOT_ALT', 'gamma_GTP': 'gamma_GTP', 'SMK_stat_type_cd': 'Raucher_Status', 'DRK_YN': 'Trinker'})"
   ]
  },
  {
   "cell_type": "code",
   "execution_count": 89,
   "metadata": {},
   "outputs": [
    {
     "data": {
      "text/html": [
       "<div>\n",
       "<style scoped>\n",
       "    .dataframe tbody tr th:only-of-type {\n",
       "        vertical-align: middle;\n",
       "    }\n",
       "\n",
       "    .dataframe tbody tr th {\n",
       "        vertical-align: top;\n",
       "    }\n",
       "\n",
       "    .dataframe thead th {\n",
       "        text-align: right;\n",
       "    }\n",
       "</style>\n",
       "<table border=\"1\" class=\"dataframe\">\n",
       "  <thead>\n",
       "    <tr style=\"text-align: right;\">\n",
       "      <th></th>\n",
       "      <th>Geschlecht</th>\n",
       "      <th>Alter</th>\n",
       "      <th>Größe</th>\n",
       "      <th>Gewicht</th>\n",
       "      <th>Hüftumfang</th>\n",
       "      <th>Sehkraft_links</th>\n",
       "      <th>Sehkraft_rechts</th>\n",
       "      <th>Hörkraft_links</th>\n",
       "      <th>Hörkraft_rechts</th>\n",
       "      <th>Systolischer Blutdruck</th>\n",
       "      <th>...</th>\n",
       "      <th>LDL_Cholesterin</th>\n",
       "      <th>Triglycerid</th>\n",
       "      <th>Hemoglobin</th>\n",
       "      <th>Urin_Proteine</th>\n",
       "      <th>Serum_Kreatinin</th>\n",
       "      <th>SGOT_AST</th>\n",
       "      <th>SGOT_ALT</th>\n",
       "      <th>gamma_GTP</th>\n",
       "      <th>Raucher_Status</th>\n",
       "      <th>Trinker</th>\n",
       "    </tr>\n",
       "  </thead>\n",
       "  <tbody>\n",
       "    <tr>\n",
       "      <th>0</th>\n",
       "      <td>Male</td>\n",
       "      <td>35</td>\n",
       "      <td>170</td>\n",
       "      <td>75</td>\n",
       "      <td>90.0</td>\n",
       "      <td>1.0</td>\n",
       "      <td>1.0</td>\n",
       "      <td>1.0</td>\n",
       "      <td>1.0</td>\n",
       "      <td>120.0</td>\n",
       "      <td>...</td>\n",
       "      <td>126.0</td>\n",
       "      <td>92.0</td>\n",
       "      <td>17.1</td>\n",
       "      <td>1.0</td>\n",
       "      <td>1.0</td>\n",
       "      <td>21.0</td>\n",
       "      <td>35.0</td>\n",
       "      <td>40.0</td>\n",
       "      <td>1.0</td>\n",
       "      <td>Y</td>\n",
       "    </tr>\n",
       "    <tr>\n",
       "      <th>1</th>\n",
       "      <td>Male</td>\n",
       "      <td>30</td>\n",
       "      <td>180</td>\n",
       "      <td>80</td>\n",
       "      <td>89.0</td>\n",
       "      <td>0.9</td>\n",
       "      <td>1.2</td>\n",
       "      <td>1.0</td>\n",
       "      <td>1.0</td>\n",
       "      <td>130.0</td>\n",
       "      <td>...</td>\n",
       "      <td>148.0</td>\n",
       "      <td>121.0</td>\n",
       "      <td>15.8</td>\n",
       "      <td>1.0</td>\n",
       "      <td>0.9</td>\n",
       "      <td>20.0</td>\n",
       "      <td>36.0</td>\n",
       "      <td>27.0</td>\n",
       "      <td>3.0</td>\n",
       "      <td>N</td>\n",
       "    </tr>\n",
       "    <tr>\n",
       "      <th>2</th>\n",
       "      <td>Male</td>\n",
       "      <td>40</td>\n",
       "      <td>165</td>\n",
       "      <td>75</td>\n",
       "      <td>91.0</td>\n",
       "      <td>1.2</td>\n",
       "      <td>1.5</td>\n",
       "      <td>1.0</td>\n",
       "      <td>1.0</td>\n",
       "      <td>120.0</td>\n",
       "      <td>...</td>\n",
       "      <td>74.0</td>\n",
       "      <td>104.0</td>\n",
       "      <td>15.8</td>\n",
       "      <td>1.0</td>\n",
       "      <td>0.9</td>\n",
       "      <td>47.0</td>\n",
       "      <td>32.0</td>\n",
       "      <td>68.0</td>\n",
       "      <td>1.0</td>\n",
       "      <td>N</td>\n",
       "    </tr>\n",
       "    <tr>\n",
       "      <th>3</th>\n",
       "      <td>Male</td>\n",
       "      <td>50</td>\n",
       "      <td>175</td>\n",
       "      <td>80</td>\n",
       "      <td>91.0</td>\n",
       "      <td>1.5</td>\n",
       "      <td>1.2</td>\n",
       "      <td>1.0</td>\n",
       "      <td>1.0</td>\n",
       "      <td>145.0</td>\n",
       "      <td>...</td>\n",
       "      <td>104.0</td>\n",
       "      <td>106.0</td>\n",
       "      <td>17.6</td>\n",
       "      <td>1.0</td>\n",
       "      <td>1.1</td>\n",
       "      <td>29.0</td>\n",
       "      <td>34.0</td>\n",
       "      <td>18.0</td>\n",
       "      <td>1.0</td>\n",
       "      <td>N</td>\n",
       "    </tr>\n",
       "    <tr>\n",
       "      <th>4</th>\n",
       "      <td>Male</td>\n",
       "      <td>50</td>\n",
       "      <td>165</td>\n",
       "      <td>60</td>\n",
       "      <td>80.0</td>\n",
       "      <td>1.0</td>\n",
       "      <td>1.2</td>\n",
       "      <td>1.0</td>\n",
       "      <td>1.0</td>\n",
       "      <td>138.0</td>\n",
       "      <td>...</td>\n",
       "      <td>117.0</td>\n",
       "      <td>104.0</td>\n",
       "      <td>13.8</td>\n",
       "      <td>1.0</td>\n",
       "      <td>0.8</td>\n",
       "      <td>19.0</td>\n",
       "      <td>12.0</td>\n",
       "      <td>25.0</td>\n",
       "      <td>1.0</td>\n",
       "      <td>N</td>\n",
       "    </tr>\n",
       "  </tbody>\n",
       "</table>\n",
       "<p>5 rows × 24 columns</p>\n",
       "</div>"
      ],
      "text/plain": [
       "  Geschlecht  Alter  Größe  Gewicht  Hüftumfang  Sehkraft_links  \\\n",
       "0       Male     35    170       75        90.0             1.0   \n",
       "1       Male     30    180       80        89.0             0.9   \n",
       "2       Male     40    165       75        91.0             1.2   \n",
       "3       Male     50    175       80        91.0             1.5   \n",
       "4       Male     50    165       60        80.0             1.0   \n",
       "\n",
       "   Sehkraft_rechts  Hörkraft_links  Hörkraft_rechts  Systolischer Blutdruck  \\\n",
       "0              1.0             1.0              1.0                   120.0   \n",
       "1              1.2             1.0              1.0                   130.0   \n",
       "2              1.5             1.0              1.0                   120.0   \n",
       "3              1.2             1.0              1.0                   145.0   \n",
       "4              1.2             1.0              1.0                   138.0   \n",
       "\n",
       "   ...  LDL_Cholesterin  Triglycerid  Hemoglobin  Urin_Proteine  \\\n",
       "0  ...            126.0         92.0        17.1            1.0   \n",
       "1  ...            148.0        121.0        15.8            1.0   \n",
       "2  ...             74.0        104.0        15.8            1.0   \n",
       "3  ...            104.0        106.0        17.6            1.0   \n",
       "4  ...            117.0        104.0        13.8            1.0   \n",
       "\n",
       "   Serum_Kreatinin  SGOT_AST  SGOT_ALT  gamma_GTP  Raucher_Status  Trinker  \n",
       "0              1.0      21.0      35.0       40.0             1.0        Y  \n",
       "1              0.9      20.0      36.0       27.0             3.0        N  \n",
       "2              0.9      47.0      32.0       68.0             1.0        N  \n",
       "3              1.1      29.0      34.0       18.0             1.0        N  \n",
       "4              0.8      19.0      12.0       25.0             1.0        N  \n",
       "\n",
       "[5 rows x 24 columns]"
      ]
     },
     "execution_count": 89,
     "metadata": {},
     "output_type": "execute_result"
    }
   ],
   "source": [
    "dataset.head()"
   ]
  },
  {
   "cell_type": "code",
   "execution_count": 90,
   "metadata": {},
   "outputs": [],
   "source": [
    "data_clustering = dataset[['Gewicht', 'Hüftumfang', 'Systolischer Blutdruck', 'Diastolischer Blutdruck', 'Blutleckdetektor', 'Totale Cholesterin', 'HDL_Cholesterin', 'LDL_Cholesterin', 'Triglycerid', 'Hemoglobin', 'Urin_Proteine', 'Serum_Kreatinin', 'SGOT_ALT', 'gamma_GTP']]\n",
    "\n"
   ]
  },
  {
   "cell_type": "code",
   "execution_count": 91,
   "metadata": {},
   "outputs": [
    {
     "data": {
      "text/html": [
       "<div>\n",
       "<style scoped>\n",
       "    .dataframe tbody tr th:only-of-type {\n",
       "        vertical-align: middle;\n",
       "    }\n",
       "\n",
       "    .dataframe tbody tr th {\n",
       "        vertical-align: top;\n",
       "    }\n",
       "\n",
       "    .dataframe thead th {\n",
       "        text-align: right;\n",
       "    }\n",
       "</style>\n",
       "<table border=\"1\" class=\"dataframe\">\n",
       "  <thead>\n",
       "    <tr style=\"text-align: right;\">\n",
       "      <th></th>\n",
       "      <th>Gewicht</th>\n",
       "      <th>Hüftumfang</th>\n",
       "      <th>Systolischer Blutdruck</th>\n",
       "      <th>Diastolischer Blutdruck</th>\n",
       "      <th>Blutleckdetektor</th>\n",
       "      <th>Totale Cholesterin</th>\n",
       "      <th>HDL_Cholesterin</th>\n",
       "      <th>LDL_Cholesterin</th>\n",
       "      <th>Triglycerid</th>\n",
       "      <th>Hemoglobin</th>\n",
       "      <th>Urin_Proteine</th>\n",
       "      <th>Serum_Kreatinin</th>\n",
       "      <th>SGOT_ALT</th>\n",
       "      <th>gamma_GTP</th>\n",
       "    </tr>\n",
       "  </thead>\n",
       "  <tbody>\n",
       "    <tr>\n",
       "      <th>0</th>\n",
       "      <td>75</td>\n",
       "      <td>90.0</td>\n",
       "      <td>120.0</td>\n",
       "      <td>80.0</td>\n",
       "      <td>99.0</td>\n",
       "      <td>193.0</td>\n",
       "      <td>48.0</td>\n",
       "      <td>126.0</td>\n",
       "      <td>92.0</td>\n",
       "      <td>17.1</td>\n",
       "      <td>1.0</td>\n",
       "      <td>1.0</td>\n",
       "      <td>35.0</td>\n",
       "      <td>40.0</td>\n",
       "    </tr>\n",
       "    <tr>\n",
       "      <th>1</th>\n",
       "      <td>80</td>\n",
       "      <td>89.0</td>\n",
       "      <td>130.0</td>\n",
       "      <td>82.0</td>\n",
       "      <td>106.0</td>\n",
       "      <td>228.0</td>\n",
       "      <td>55.0</td>\n",
       "      <td>148.0</td>\n",
       "      <td>121.0</td>\n",
       "      <td>15.8</td>\n",
       "      <td>1.0</td>\n",
       "      <td>0.9</td>\n",
       "      <td>36.0</td>\n",
       "      <td>27.0</td>\n",
       "    </tr>\n",
       "    <tr>\n",
       "      <th>2</th>\n",
       "      <td>75</td>\n",
       "      <td>91.0</td>\n",
       "      <td>120.0</td>\n",
       "      <td>70.0</td>\n",
       "      <td>98.0</td>\n",
       "      <td>136.0</td>\n",
       "      <td>41.0</td>\n",
       "      <td>74.0</td>\n",
       "      <td>104.0</td>\n",
       "      <td>15.8</td>\n",
       "      <td>1.0</td>\n",
       "      <td>0.9</td>\n",
       "      <td>32.0</td>\n",
       "      <td>68.0</td>\n",
       "    </tr>\n",
       "    <tr>\n",
       "      <th>3</th>\n",
       "      <td>80</td>\n",
       "      <td>91.0</td>\n",
       "      <td>145.0</td>\n",
       "      <td>87.0</td>\n",
       "      <td>95.0</td>\n",
       "      <td>201.0</td>\n",
       "      <td>76.0</td>\n",
       "      <td>104.0</td>\n",
       "      <td>106.0</td>\n",
       "      <td>17.6</td>\n",
       "      <td>1.0</td>\n",
       "      <td>1.1</td>\n",
       "      <td>34.0</td>\n",
       "      <td>18.0</td>\n",
       "    </tr>\n",
       "    <tr>\n",
       "      <th>4</th>\n",
       "      <td>60</td>\n",
       "      <td>80.0</td>\n",
       "      <td>138.0</td>\n",
       "      <td>82.0</td>\n",
       "      <td>101.0</td>\n",
       "      <td>199.0</td>\n",
       "      <td>61.0</td>\n",
       "      <td>117.0</td>\n",
       "      <td>104.0</td>\n",
       "      <td>13.8</td>\n",
       "      <td>1.0</td>\n",
       "      <td>0.8</td>\n",
       "      <td>12.0</td>\n",
       "      <td>25.0</td>\n",
       "    </tr>\n",
       "  </tbody>\n",
       "</table>\n",
       "</div>"
      ],
      "text/plain": [
       "   Gewicht  Hüftumfang  Systolischer Blutdruck  Diastolischer Blutdruck  \\\n",
       "0       75        90.0                   120.0                     80.0   \n",
       "1       80        89.0                   130.0                     82.0   \n",
       "2       75        91.0                   120.0                     70.0   \n",
       "3       80        91.0                   145.0                     87.0   \n",
       "4       60        80.0                   138.0                     82.0   \n",
       "\n",
       "   Blutleckdetektor  Totale Cholesterin  HDL_Cholesterin  LDL_Cholesterin  \\\n",
       "0              99.0               193.0             48.0            126.0   \n",
       "1             106.0               228.0             55.0            148.0   \n",
       "2              98.0               136.0             41.0             74.0   \n",
       "3              95.0               201.0             76.0            104.0   \n",
       "4             101.0               199.0             61.0            117.0   \n",
       "\n",
       "   Triglycerid  Hemoglobin  Urin_Proteine  Serum_Kreatinin  SGOT_ALT  \\\n",
       "0         92.0        17.1            1.0              1.0      35.0   \n",
       "1        121.0        15.8            1.0              0.9      36.0   \n",
       "2        104.0        15.8            1.0              0.9      32.0   \n",
       "3        106.0        17.6            1.0              1.1      34.0   \n",
       "4        104.0        13.8            1.0              0.8      12.0   \n",
       "\n",
       "   gamma_GTP  \n",
       "0       40.0  \n",
       "1       27.0  \n",
       "2       68.0  \n",
       "3       18.0  \n",
       "4       25.0  "
      ]
     },
     "execution_count": 91,
     "metadata": {},
     "output_type": "execute_result"
    }
   ],
   "source": [
    "data_clustering.head()"
   ]
  },
  {
   "cell_type": "markdown",
   "metadata": {},
   "source": [
    "# Anforderungen 5: Clustering\n",
    "\n",
    "Führen Sie mit dem Algorithmus Ihrer Wahl eine Clusteranalyse auf Ihren Daten durch."
   ]
  },
  {
   "cell_type": "code",
   "execution_count": 92,
   "metadata": {},
   "outputs": [
    {
     "name": "stderr",
     "output_type": "stream",
     "text": [
      "C:\\Users\\Public\\Documents\\Wondershare\\CreatorTemp\\ipykernel_5364\\3522435617.py:3: SettingWithCopyWarning: \n",
      "A value is trying to be set on a copy of a slice from a DataFrame.\n",
      "Try using .loc[row_indexer,col_indexer] = value instead\n",
      "\n",
      "See the caveats in the documentation: https://pandas.pydata.org/pandas-docs/stable/user_guide/indexing.html#returning-a-view-versus-a-copy\n",
      "  data_clustering2['Cluster'] = kmeans.fit_predict(data_clustering2)\n"
     ]
    }
   ],
   "source": [
    "data_clustering2 = data_clustering\n",
    "kmeans = KMeans(n_clusters=5, random_state=0, n_init=1)\n",
    "data_clustering2['Cluster'] = kmeans.fit_predict(data_clustering2)"
   ]
  },
  {
   "cell_type": "code",
   "execution_count": 93,
   "metadata": {},
   "outputs": [
    {
     "name": "stdout",
     "output_type": "stream",
     "text": [
      "Name: 0 Größe:  346911\n",
      "Name: 1 Größe:  142706\n",
      "Name: 2 Größe:  8681\n",
      "Name: 3 Größe:  481984\n",
      "Name: 4 Größe:  11064\n"
     ]
    }
   ],
   "source": [
    "for i in range(0,5):\n",
    "    print(\"Name:\", i, \"Größe: \", list(kmeans.labels_).count(i))"
   ]
  },
  {
   "cell_type": "markdown",
   "metadata": {},
   "source": [
    "Min Max Scaler"
   ]
  },
  {
   "cell_type": "code",
   "execution_count": 94,
   "metadata": {},
   "outputs": [],
   "source": [
    "def minmax_scale_columns(df):\n",
    "    # Kopie des ursprünglichen DataFrame erstellen, um das Original nicht zu ändern\n",
    "    df_scaled = df.copy()\n",
    "    \n",
    "    # MinMaxScaler erstellen\n",
    "    scaler = MinMaxScaler(feature_range=(0, 10))\n",
    "    \n",
    "    # Jede Spalte skalieren\n",
    "    for column in df.columns:\n",
    "        # Überprüfen, ob es sich um numerische Daten handelt (zum Beispiel nicht um Objekte wie Strings)\n",
    "        if pd.api.types.is_numeric_dtype(df[column]):\n",
    "            # Spalte skalieren\n",
    "            df_scaled[column] = scaler.fit_transform(df[[column]])\n",
    "    \n",
    "    return df_scaled"
   ]
  },
  {
   "cell_type": "code",
   "execution_count": 95,
   "metadata": {},
   "outputs": [],
   "source": [
    "data_clustering_scaled = minmax_scale_columns(data_clustering)\n"
   ]
  },
  {
   "cell_type": "code",
   "execution_count": 96,
   "metadata": {},
   "outputs": [],
   "source": [
    "kmeansS = KMeans(n_clusters=5, random_state=0, n_init=1)\n",
    "data_clustering_scaled['Cluster'] = kmeansS.fit_predict(data_clustering_scaled)"
   ]
  },
  {
   "cell_type": "code",
   "execution_count": 97,
   "metadata": {},
   "outputs": [
    {
     "name": "stdout",
     "output_type": "stream",
     "text": [
      "Name: 0 Größe:  188165\n",
      "Name: 1 Größe:  493098\n",
      "Name: 2 Größe:  72682\n",
      "Name: 3 Größe:  158743\n",
      "Name: 4 Größe:  78658\n"
     ]
    }
   ],
   "source": [
    "for i in range(0,5):\n",
    "    print(\"Name:\", i, \"Größe: \", list(kmeansS.labels_).count(i))"
   ]
  },
  {
   "cell_type": "markdown",
   "metadata": {},
   "source": [
    "Setzen Sie die Parameter des Algorithmus mit Hilfe überwachter oder unüberwachter Evaluationsmethoden. Begründen Sie die Auswahl des Evaluationsalgorithmus."
   ]
  },
  {
   "cell_type": "code",
   "execution_count": 98,
   "metadata": {},
   "outputs": [],
   "source": [
    "def bench_k_means(kmeans, name, data, labels):\n",
    "    \"\"\"Benchmark to evaluate the KMeans initialization methods.\n",
    "\n",
    "    Parameters\n",
    "    ----------\n",
    "    kmeans : KMeans instance\n",
    "        A :class:`~sklearn.cluster.KMeans` instance that has already been trained\n",
    "    name : str\n",
    "        Name given to the strategy. It will be used to show the results in a\n",
    "        table.\n",
    "    data : ndarray of shape (n_samples, n_features)\n",
    "        The data whose clusters should be evaluated.\n",
    "    labels : ndarray of shape (n_samples,)\n",
    "        The labels used to compute the supervised clustering metrics.\n",
    "    \"\"\"\n",
    "    \n",
    "    # Inertia\n",
    "    results = [name, kmeans.inertia_]\n",
    "\n",
    "    # The silhouette score requires the full dataset\n",
    "    results += [\n",
    "        metrics.silhouette_score(data, kmeans.labels_,\n",
    "                                 metric=\"euclidean\")\n",
    "    ]\n",
    "    \n",
    "    # Supervised metrics which require the true labels and cluster\n",
    "    # labels\n",
    "    clustering_metrics = [\n",
    "        metrics.homogeneity_score,\n",
    "        metrics.completeness_score,\n",
    "        metrics.v_measure_score,\n",
    "    ]\n",
    "    results += [m(labels, kmeans.labels_) for m in clustering_metrics]\n",
    "\n",
    "    # Show the results\n",
    "    formatter_result = (\"{:9s}\\t{:.0f}\\t{:.3f}\\t{:.3f}\\t{:.3f}\\t{:.3f}\")\n",
    "    print(formatter_result.format(*results))"
   ]
  },
  {
   "cell_type": "markdown",
   "metadata": {},
   "source": [
    "data_clustering_scaled_2= minmax_scale_columns(data_clustering)\n",
    "data_clustering_scaled_3= minmax_scale_columns(data_clustering)"
   ]
  },
  {
   "cell_type": "markdown",
   "metadata": {},
   "source": [
    "# Aufrufen der Benchmark mit unserem trainierten kmeans und einer zufälligen Zuweisung (zum Vergleich)\n",
    "# Fügen Sie hier auch Ihren günstigeren random_state von oben ein!\n",
    "\n",
    "print(82 * '_')\n",
    "print('init\\t\\tinertia\\tsil\\thom\\tcom\\tv-meas')\n",
    "\n",
    "# unser kmeans-Modell (zur Sicherheit neu trainieren)\n",
    "kmeans = KMeans(n_clusters=5, n_init=1, random_state=0).fit(data_clustering_scaled_2)\n",
    "data_clustering_scaled_2['Cluster'] = kmeans.fit_predict(data_clustering_scaled_2)\n",
    "bench_k_means(kmeans=kmeans, name=\"k-means\", data=data_clustering_scaled_2, labels=data_clustering_scaled_2['Cluster'])\n",
    "\n",
    "# zufällige Cluster-Zuordnung erzeugen\n",
    "kmeans_rand = KMeans(init=\"random\", n_clusters=5, n_init=1, random_state=0).fit(data_clustering_scaled_3)\n",
    "data_clustering_scaled_3['Cluster'] = kmeans_rand.fit_predict(data_clustering_scaled_3)\n",
    "bench_k_means(kmeans=kmeans_rand, name=\"random\", data=data_clustering_scaled_3, labels=data_clustering_scaled_3['Cluster'])\n",
    "\n",
    "print(82 * '_')"
   ]
  },
  {
   "cell_type": "code",
   "execution_count": 99,
   "metadata": {},
   "outputs": [
    {
     "name": "stdout",
     "output_type": "stream",
     "text": [
      "1.0\n",
      "0.9204631748346761\n",
      "0.8222809907825901\n"
     ]
    }
   ],
   "source": [
    "hom = metrics.homogeneity_score(data_clustering_scaled['Cluster'], kmeansS.labels_)\n",
    "com =  metrics.completeness_score(data_clustering_scaled['Cluster'],kmeans.labels_)\n",
    "vmeasure = metrics.v_measure_score(data_clustering_scaled['Cluster'],kmeans.labels_)\n",
    "\n",
    "print(hom)\n",
    "print(com)\n",
    "print(vmeasure)\n"
   ]
  },
  {
   "cell_type": "code",
   "execution_count": 100,
   "metadata": {},
   "outputs": [],
   "source": [
    "data_clustering_scaled2 = minmax_scale_columns(data_clustering)\n",
    "kmeansS2 = KMeans(init=\"random\", n_clusters=5, random_state=0, n_init=1)\n",
    "data_clustering_scaled2['Cluster'] = kmeansS2.fit_predict(data_clustering_scaled2)"
   ]
  },
  {
   "cell_type": "code",
   "execution_count": 101,
   "metadata": {},
   "outputs": [
    {
     "name": "stdout",
     "output_type": "stream",
     "text": [
      "1.0\n",
      "1.0\n",
      "1.0\n"
     ]
    }
   ],
   "source": [
    "hom = metrics.homogeneity_score(data_clustering_scaled2['Cluster'], kmeansS2.labels_)\n",
    "com =  metrics.completeness_score(data_clustering_scaled2['Cluster'],kmeansS2.labels_)\n",
    "vmeasure = metrics.v_measure_score(data_clustering_scaled2['Cluster'],kmeansS2.labels_)\n",
    "\n",
    "print(hom)\n",
    "print(com)\n",
    "print(vmeasure)"
   ]
  },
  {
   "cell_type": "code",
   "execution_count": 102,
   "metadata": {},
   "outputs": [
    {
     "data": {
      "text/plain": [
       "8"
      ]
     },
     "execution_count": 102,
     "metadata": {},
     "output_type": "execute_result"
    }
   ],
   "source": [
    "kmeansS2.n_iter_"
   ]
  },
  {
   "cell_type": "code",
   "execution_count": 103,
   "metadata": {},
   "outputs": [
    {
     "data": {
      "text/plain": [
       "9"
      ]
     },
     "execution_count": 103,
     "metadata": {},
     "output_type": "execute_result"
    }
   ],
   "source": [
    "kmeansS.n_iter_"
   ]
  },
  {
   "cell_type": "markdown",
   "metadata": {},
   "source": [
    "Betrachten Sie die gebildeten Cluster. Wie gut sind sie intuitiv? Welche Informationen über Ihren Datensatz ziehen Sie daraus? Leiten sich weitere Schritte der Datenbereinigung oder der Datenaufbereitung ab?"
   ]
  },
  {
   "cell_type": "code",
   "execution_count": 104,
   "metadata": {},
   "outputs": [
    {
     "name": "stdout",
     "output_type": "stream",
     "text": [
      "7775566870.575328\n",
      "3153133.3341760817\n",
      "2861637.6694306256\n"
     ]
    }
   ],
   "source": [
    "inertia = kmeans.inertia_\n",
    "inertiaS = kmeansS.inertia_\n",
    "inertiaS2 = kmeansS2.inertia_\n",
    "#sil = metrics.silhouette_score(data_clustering_scaled2,kmeansS2.labels_)\n",
    "#silhouette_score dauert sehr lange zu berechnen\n",
    "print(inertia)\n",
    "print(inertiaS)\n",
    "print(inertiaS2)\n",
    "#print(sil)"
   ]
  },
  {
   "cell_type": "code",
   "execution_count": 105,
   "metadata": {},
   "outputs": [],
   "source": [
    "data_clustering_scaled3 = minmax_scale_columns(data_clustering)\n",
    "kmeansS3 = KMeans(init=\"random\", n_clusters=5, random_state=1, n_init=2)\n",
    "data_clustering_scaled3['Cluster'] = kmeansS3.fit_predict(data_clustering_scaled3)\n"
   ]
  },
  {
   "cell_type": "code",
   "execution_count": 106,
   "metadata": {},
   "outputs": [
    {
     "name": "stdout",
     "output_type": "stream",
     "text": [
      "2859724.498274169\n"
     ]
    }
   ],
   "source": [
    "inertiaS3 = kmeansS3.inertia_\n",
    "print(inertiaS3)"
   ]
  },
  {
   "cell_type": "markdown",
   "metadata": {},
   "source": [
    "Können Sie in Ihrem Projektkontext Clustering noch für weitere Zwecke (z.B. Outlier Detection oder Profilerstellung) verwenden? (Dies ist nicht immer der Fall.) Skizzieren Sie ggf. kurz ein mögliches Vorgehen."
   ]
  },
  {
   "cell_type": "markdown",
   "metadata": {},
   "source": [
    "Evtl um Raucher anhand von Hemoglobin zu erkennen. "
   ]
  },
  {
   "cell_type": "code",
   "execution_count": null,
   "metadata": {},
   "outputs": [],
   "source": []
  }
 ],
 "metadata": {
  "kernelspec": {
   "display_name": "Python 3",
   "language": "python",
   "name": "python3"
  },
  "language_info": {
   "codemirror_mode": {
    "name": "ipython",
    "version": 3
   },
   "file_extension": ".py",
   "mimetype": "text/x-python",
   "name": "python",
   "nbconvert_exporter": "python",
   "pygments_lexer": "ipython3",
   "version": "3.9.13"
  }
 },
 "nbformat": 4,
 "nbformat_minor": 2
}
