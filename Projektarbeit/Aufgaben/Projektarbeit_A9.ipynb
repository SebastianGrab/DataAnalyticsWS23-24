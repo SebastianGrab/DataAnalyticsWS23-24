{
 "cells": [
  {
   "cell_type": "markdown",
   "metadata": {},
   "source": [
    "# Projektarbeit Gruppe 2: Gesundheitsdaten"
   ]
  },
  {
   "cell_type": "markdown",
   "metadata": {},
   "source": [
    "https://www.kaggle.com/datasets/sooyoungher/smoking-drinking-dataset"
   ]
  },
  {
   "cell_type": "code",
   "execution_count": 19,
   "metadata": {},
   "outputs": [],
   "source": [
    "# Import der benötigten Bibliotheken\n",
    "\n",
    "import pandas as pd\n",
    "import numpy as np\n",
    "import os\n",
    "import matplotlib.pyplot as plt\n",
    "import seaborn as sns\n",
    "from sklearn.model_selection import train_test_split\n",
    "from sklearn.feature_selection import SelectFromModel\n",
    "from sklearn.linear_model import LogisticRegression\n",
    "import joblib\n",
    "from sklearn.metrics import accuracy_score, precision_score, recall_score, f1_score, confusion_matrix"
   ]
  },
  {
   "cell_type": "code",
   "execution_count": 2,
   "metadata": {},
   "outputs": [],
   "source": [
    "# Neuer Datensatz\n",
    "path = str(os.getcwd()).replace(\"\\Projektarbeit\\Aufgaben\", \"\")\n",
    "\n",
    "# Lesen der CSV Datei:\n",
    "dataset = pd.read_csv(path + '\\dataset_custom.csv')"
   ]
  },
  {
   "cell_type": "markdown",
   "metadata": {},
   "source": [
    "# Anforderungen 9: Evaluation\n",
    "\n",
    "Setzen Sie die Aufgabenstellung für ein Prädiktionsmodell um -- wahlweise für Ihr Klassifikationsmodell oder Ihr Regressionsmodell aus den Anforderungen aus den entsprechenden Kapiteln."
   ]
  },
  {
   "cell_type": "code",
   "execution_count": null,
   "metadata": {},
   "outputs": [],
   "source": [
    "# Für die Evaluation wird das Klassifikationsmodell aus Projektarbeit_A6 gewählt, da dort einige Experimente durchgeführt wurden und ein relativ \n",
    "# guter Wert für die Vorhersage von Rauchern (Percission = 70%) erzielt wurde. "
   ]
  },
  {
   "cell_type": "markdown",
   "metadata": {},
   "source": [
    "Definieren Sie für Ihr Modell die Frequenzbaseline bzw. die Mittelwertsbaseline."
   ]
  },
  {
   "cell_type": "code",
   "execution_count": 11,
   "metadata": {},
   "outputs": [
    {
     "name": "stderr",
     "output_type": "stream",
     "text": [
      "c:\\Users\\josua\\anaconda3\\Lib\\site-packages\\sklearn\\base.py:347: InconsistentVersionWarning: Trying to unpickle estimator LogisticRegression from version 1.2.1 when using version 1.3.0. This might lead to breaking code or invalid results. Use at your own risk. For more info please refer to:\n",
      "https://scikit-learn.org/stable/model_persistence.html#security-maintainability-limitations\n",
      "  warnings.warn(\n",
      "c:\\Users\\josua\\anaconda3\\Lib\\site-packages\\sklearn\\base.py:347: InconsistentVersionWarning: Trying to unpickle estimator SelectFromModel from version 1.2.1 when using version 1.3.0. This might lead to breaking code or invalid results. Use at your own risk. For more info please refer to:\n",
      "https://scikit-learn.org/stable/model_persistence.html#security-maintainability-limitations\n",
      "  warnings.warn(\n"
     ]
    }
   ],
   "source": [
    "# Laden des Modelles aus Projektarbeit_A6\n",
    "\n",
    "# Erstellung einer Zielvariablen-Spalte aus den Raucher-Features (Zusammenführen):\n",
    "\n",
    "def create_raucher_ziel(row):\n",
    "    if row['Raucher_nie'] == 1:\n",
    "        return 1\n",
    "    elif row['Raucher_ehem'] == 1:\n",
    "        return 2\n",
    "    elif row['Raucher_aktiv'] == 1:\n",
    "        return 3\n",
    "    else:\n",
    "        return None  # Oder einen Standardwert, je nach Anforderungen\n",
    "\n",
    "# Neue Zielspalte erstellen:\n",
    "\n",
    "dataset['Raucher_Ziel'] = dataset.apply(create_raucher_ziel, axis=1)\n",
    "\n",
    "data = dataset.drop(columns=['Raucher_nie', 'Raucher_ehem', 'Raucher_aktiv'])\n",
    "\n",
    "X_train, X_test, y_train, y_test = train_test_split(data.drop(columns=['Raucher_Ziel']), data['Raucher_Ziel'], test_size=0.2, random_state=42)\n",
    "\n",
    "X_train\n",
    "\n",
    "# Laden:\n",
    "\n",
    "loaded_feature_model = joblib.load('Modelle/feature_selection_A6.joblib')\n",
    "\n",
    "\n",
    "# Parameter ausgeben:\n",
    "\n",
    "# print('Feature_names_out: ' + str(loaded_feature_model.get_feature_names_out()))\n",
    "# print('Feature_names_in: ' + str(loaded_feature_model.feature_names_in_))\n",
    "# print('Model: ' + str(loaded_feature_model))\n",
    "\n",
    "X_train_selected = loaded_feature_model.transform(X_train)\n",
    "X_test_selected = loaded_feature_model.transform(X_test)\n",
    "\n",
    "# Corr Model 1:\n",
    "sf_corr = X_train[['Geschlecht', 'Alter', 'Größe', \n",
    "                   'Gewicht', 'Hüftumfang', 'Hämoglobin', 'gamma_GTP', 'Trinker']]\n",
    "\n",
    "sf_corr_test = X_test[['Geschlecht', 'Alter', 'Größe', \n",
    "                       'Gewicht', 'Hüftumfang', 'Hämoglobin', 'gamma_GTP', 'Trinker']]\n",
    "\n"
   ]
  },
  {
   "cell_type": "code",
   "execution_count": 20,
   "metadata": {},
   "outputs": [
    {
     "name": "stderr",
     "output_type": "stream",
     "text": [
      "c:\\Users\\josua\\anaconda3\\Lib\\site-packages\\sklearn\\metrics\\_classification.py:1469: UndefinedMetricWarning: Precision is ill-defined and being set to 0.0 in labels with no predicted samples. Use `zero_division` parameter to control this behavior.\n",
      "  _warn_prf(average, modifier, msg_start, len(result))\n"
     ]
    },
    {
     "data": {
      "image/png": "[encoded data removed]",
      "text/plain": [
       "<Figure size 500x500 with 2 Axes>"
      ]
     },
     "metadata": {},
     "output_type": "display_data"
    },
    {
     "name": "stdout",
     "output_type": "stream",
     "text": [
      "Accuracy (Baseline): 0.61\n",
      "Precision (Baseline): 0.37\n",
      "Recall (Baseline): 0.61\n",
      "F1 score (Baseline): 0.46\n"
     ]
    }
   ],
   "source": [
    "from sklearn.dummy import DummyClassifier\n",
    "\n",
    "# Erstelle ein DummyClassifier mit der Strategie 'most_frequent'\n",
    "baseline_model = DummyClassifier(strategy='most_frequent')\n",
    "\n",
    "# Trainiere das Basismodell\n",
    "baseline_model.fit(sf_corr, y_train)\n",
    "\n",
    "# Mache Vorhersagen auf dem Testset\n",
    "y_pred_baseline = baseline_model.predict(sf_corr_test)\n",
    "\n",
    "# Evaluationsmetriken berechnen\n",
    "accuracy_baseline = accuracy_score(y_test, y_pred_baseline)\n",
    "precision_baseline = precision_score(y_test, y_pred_baseline, average='weighted')\n",
    "recall_baseline = recall_score(y_test, y_pred_baseline, average='weighted')\n",
    "f1_baseline = f1_score(y_test, y_pred_baseline, average='weighted')\n",
    "\n",
    "# Confusion Matrix erstellen und anzeigen\n",
    "cm_baseline = confusion_matrix(y_test, y_pred_baseline)\n",
    "plt.figure(figsize=(5, 5))\n",
    "sns.heatmap(cm_baseline, annot=True, fmt='d', cmap='Blues', xticklabels=data['Raucher_Ziel'].unique(), yticklabels=data['Raucher_Ziel'].unique())\n",
    "plt.xlabel('Predicted')\n",
    "plt.ylabel('True')\n",
    "plt.title('Confusion Matrix - Baseline')\n",
    "plt.show()\n",
    "\n",
    "# Ausgabe der Metriken\n",
    "print(f'Accuracy (Baseline): {accuracy_baseline:.2f}')\n",
    "print(f'Precision (Baseline): {precision_baseline:.2f}')\n",
    "print(f'Recall (Baseline): {recall_baseline:.2f}')\n",
    "print(f'F1 score (Baseline): {f1_baseline:.2f}')"
   ]
  },
  {
   "cell_type": "markdown",
   "metadata": {},
   "source": [
    "Definieren Sie für Ihr Modell eine einfache Vergleichsbaseline.\n"
   ]
  },
  {
   "cell_type": "code",
   "execution_count": null,
   "metadata": {},
   "outputs": [],
   "source": [
    "\n"
   ]
  },
  {
   "cell_type": "markdown",
   "metadata": {},
   "source": [
    "Prüfen Sie mittels einer Lernkurve, ob Ihr Modell zu Over- oder Underfitting neigt und evaluieren Sie entsprechend des Ergebnisses ein mächtigeres oder weniger mächtiges Modell. Wenn Ihr Modell weder Over- noch Underfitting zeigt: Herzlichen Glückwunsch, es ist nichts weiter zu tun.\n"
   ]
  },
  {
   "cell_type": "code",
   "execution_count": null,
   "metadata": {},
   "outputs": [],
   "source": [
    "\n"
   ]
  },
  {
   "cell_type": "markdown",
   "metadata": {},
   "source": [
    "Interpretieren Sie Ihr Modell: Entweder mit Hilfe von LIME oder bei transparenten Algorithmen aufgrund des gelernten Modells selber."
   ]
  }
 ],
 "metadata": {
  "kernelspec": {
   "display_name": "base",
   "language": "python",
   "name": "python3"
  },
  "language_info": {
   "codemirror_mode": {
    "name": "ipython",
    "version": 3
   },
   "file_extension": ".py",
   "mimetype": "text/x-python",
   "name": "python",
   "nbconvert_exporter": "python",
   "pygments_lexer": "ipython3",
   "version": "3.11.5"
  }
 },
 "nbformat": 4,
 "nbformat_minor": 2
}
