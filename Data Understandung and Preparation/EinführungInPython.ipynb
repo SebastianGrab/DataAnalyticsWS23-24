{
 "cells": [
  {
   "cell_type": "markdown",
   "metadata": {},
   "source": [
    "Bereits im Bachelor gelernt.\n",
    "\n",
    "Library installieren:\n",
    "1. cmd öffnen\n",
    "2. cd C:\\Users\\SebastianGrab\\AppData\\Local\\Programs\\Python\\Python39\\Scripts\n",
    "3. pip.exe install <package-name>"
   ]
  }
 ],
 "metadata": {
  "kernelspec": {
   "display_name": "Python 3",
   "language": "python",
   "name": "python3"
  },
  "language_info": {
   "name": "python",
   "version": "3.9.13"
  }
 },
 "nbformat": 4,
 "nbformat_minor": 2
}
