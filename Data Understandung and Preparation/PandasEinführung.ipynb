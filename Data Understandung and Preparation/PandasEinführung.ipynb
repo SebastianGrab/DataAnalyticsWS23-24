{
 "cells": [
  {
   "cell_type": "code",
   "execution_count": 4,
   "metadata": {},
   "outputs": [
    {
     "name": "stdout",
     "output_type": "stream",
     "text": [
      "0       Sweden\n",
      "1    Australia\n",
      "2    Singpaore\n",
      "3      Austria\n",
      "dtype: object\n",
      "Stockholm       Sweden\n",
      "Sydney       Australia\n",
      "Singapore    Singapore\n",
      "Vienna         Austria\n",
      "dtype: object\n",
      "Empty DataFrame\n",
      "Columns: [<!DOCTYPE html><!--[if IE 7]><html class=\"ie lt-ie9 lt-ie8\"><![endif]--><!--[if IE 8]><html class=\"ie lt-ie9\"><![endif]--><!--[if IE 9]><html class=\"ie\"><![endif]--><!--[if (gte IE 9)|!(IE)]<!--><html><!--<![endif]--><head><meta content=\"text/html; charset=utf-8\" http-equiv=\"Content-type\" /><title>Heroku | Login</title><link href=\"https://www.herokucdn.com/favicon.ico\" rel=\"shortcut icon\" type=\"image/x-icon\" /><link href=\"https://www0.assets.heroku.com/cookies/2021.05.27/onetrust.min.css\" rel=\"stylesheet\" type=\"text/css\" /><script charset=\"UTF-8\" data-domain-script=\"2273ccf8-8f23-4d20-bca7-8f0b53cd825e\" src=\"https://www0.assets.heroku.com/cookies/2021.05.27/oneTrust_production/scripttemplates/otSDKStubPlusSfdcWwwBase.js\" type=\"text/javascript\"></script><script>function OptanonWrapper() { };</script><link href=\"/assets/8/purple.css\" media=\"screen\" rel=\"stylesheet\" type=\"text/css\" /><script src=\"/assets/8/modernizr.min.js\" type=\"text/javascript\"></script><meta content=\"width=device-width,  initial-scale=1\" name=\"viewport\" /><meta content=\"Log in to your Heroku account from this secure Heroku login page.\" name=\"description\" /><meta content=\"A1QME020P\" name=\"slack-app-id\" /><link href=\"https://developer.salesforce.com/shared-components/css/index.css\" rel=\"stylesheet\" type=\"text/css\" /><link href=\"https://developer.salesforce.com/shared-components/helmet/import.js\" rel=\"modulepreload\" /></head><body><dx-helmet title=\"Salesforce Developers\" variant=\"light\"></dx-helmet><div class=\"page-wrap gradient-primary\"><div class=\"container\"><h1 class=\"logo\"><a href=\"https://www.heroku.com\" title=\"Heroku\">Heroku</a></h1><div class=\"content\"><div class=\"panel\" id=\"login\"><h2 class=\"h3\">Log in to your account</h2><form action=\"/login\" method=\"post\" role=\"form\"><input name=\"_csrf\" type=\"hidden\" value=\"9LvkaMGeME8Xi2bEMGNn5el02dRTPYaDhCBUVzxRk-0\" /><div class=\"form-group\"><label for=\"email\">Email address</label><div class=\"input-icon icon-username\"></div><input autofocus=\"true\" class=\"form-control\" id=\"email\" name=\"email\" placeholder=\"Email address\" type=\"email\" /></div><div class=\"form-group\"><label for=\"password\">Password</label><div class=\"input-icon icon-password\"></div><input autocomplete=\"off\" class=\"form-control password\" id=\"password\" name=\"password\" placeholder=\"Password\" type=\"password\" /></div><button class=\"btn btn-primary btn-lg btn-block\" name=\"commit\" type=\"submit\" value=\"Log In\">Log In</button></form><a class=\"panel-footer\" href=\"/signup/login\">New to Heroku? &nbsp;<span>Sign Up</span></a></div><a href=\"https://sso.heroku.com/login\">Log in via SSO</a><a href=\"/account/password/reset\" style=\"margin-left: 25px\">Forgot your password?</a></div></div><footer class=\"logo-sfdc\"><a href=\"https://heroku.com/home\" title=\"heroku.com\">Heroku is a <span></span> company</a><ul class=\"legal\"><li><a href=\"https://www.salesforce.com/company/legal/sfdc-website-terms-of-service/\" rel=\"nofollow\">Terms of Service</a></li><li><a href=\"https://www.salesforce.com/company/privacy\" rel=\"nofollow\">Privacy</a></li><li><a href=\"https://www.salesforce.com/company/privacy/full_privacy.jsp#nav_info\" rel=\"nofollow\">Cookies</a></li><li><a class=\"optanon-toggle-display\" href=\"#\" rel=\"nofollow\">Cookie Preferences</a></li><li>&copy; 2023 Salesforce.com</li></ul></footer></div><script src=\"https://developer.salesforce.com/shared-components/helmet/import.js\" type=\"module\"></script></body></html>]\n",
      "Index: []\n"
     ]
    }
   ],
   "source": [
    "import pandas as pd\n",
    "countries = pd.Series(['Sweden', 'Australia', 'Singpaore', 'Austria'])\n",
    "print(countries)\n",
    "\n",
    "countries.values\n",
    "\n",
    "type(countries.values)\n",
    "\n",
    "countries.index\n",
    "\n",
    "countries.index.values\n",
    "\n",
    "countries[0]\n",
    "\n",
    "countries[2:3]\n",
    "\n",
    "countries[[0,2]]\n",
    "\n",
    "countries = pd.Series(['Sweden', 'Australia', 'Singapore', 'Austria'],\n",
    "                index=['Stockholm', 'Sydney', 'Singapore', 'Vienna'])\n",
    "print(countries)\n",
    "\n",
    "countries['Stockholm':'Singapore']\n",
    "\n",
    "# Erstelle Series mit anderer Reihenfolge und einem Datensatz weniger\n",
    "continents = pd.Series(['Europe', 'Europe', 'Asia'],\n",
    "                      index=['Vienna', 'Stockholm', 'Singapore'])\n",
    "# Kombiniere Series countries mit continents per String-Konkatenation\n",
    "countries + ', ' + continents\n",
    "\n",
    "countries.str.startswith('S')\n",
    "\n",
    "countries[countries.str.startswith('S')]\n",
    "\n",
    "filt_s = countries.str.startswith('S')\n",
    "continents[filt_s]\n",
    "\n",
    "\n",
    "df = pd.DataFrame({\"country\": countries, \"continent\": continents})\n",
    "df\n",
    "\n",
    "# Read city data direkt von citylines.co\n",
    "cities = pd.read_csv(\"https://data.heroku.com/dataclips/wmeilvvkgqrderovlbhfbktsnxlm.csv\")\n",
    "# Wir lesen aus einer lokal gecachten Version, um den gleichen\n",
    "# Datenstand für Skript und Übungen festzuhalten\n",
    "print(cities)"
   ]
  }
 ],
 "metadata": {
  "kernelspec": {
   "display_name": "Python 3",
   "language": "python",
   "name": "python3"
  },
  "language_info": {
   "codemirror_mode": {
    "name": "ipython",
    "version": 3
   },
   "file_extension": ".py",
   "mimetype": "text/x-python",
   "name": "python",
   "nbconvert_exporter": "python",
   "pygments_lexer": "ipython3",
   "version": "3.9.13"
  }
 },
 "nbformat": 4,
 "nbformat_minor": 2
}
