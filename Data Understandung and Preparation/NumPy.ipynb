{
 "cells": [
  {
   "cell_type": "code",
   "execution_count": 36,
   "metadata": {},
   "outputs": [
    {
     "name": "stdout",
     "output_type": "stream",
     "text": [
      "[['18.05' '59.28333333']\n",
      " ['151.2' '-33.866667']\n",
      " ['103.833333' '1.283333']\n",
      " ['16.33333333' '48.23333333']\n",
      " ['-2.953333' '43.262222']\n",
      " ['3.869985716' '43.61039878']\n",
      " ['28.955' '41.013611']\n",
      " ['126.977966' '37.566536']\n",
      " ['-87.61666667' '41.83333333']\n",
      " ['-84.5' '39.13333333']\n",
      " ['-96.76666667' '32.76666667']\n",
      " ['-105' '39.75']\n",
      " ['-118.25' '34.05']\n",
      " ['-99.11666667' '19.43333333']\n",
      " ['11.58333333' '48.13333333']\n",
      " ['14.25' '40.83333333']\n",
      " ['-3.7' '40.43333333']\n",
      " ['-0.08333333333' '51.53333333']\n",
      " ['139.75' '35.66666667']]\n"
     ]
    }
   ],
   "source": [
    "import numpy as np\n",
    "\n",
    "# Some data about cities from citylines.co\n",
    "# Columns: name, long, lat, start_year, country, length\n",
    "# length is the length of public transportation network in meters\n",
    "cities = np.array([\n",
    "          [\"Stockholm\", 18.05, 59.28333333, 1919, \"Sweden\", 132897],\n",
    "          [\"Sydney\", 151.2, -33.866667, 1858, \"Australia\", 355001],\n",
    "          [\"Singapore\", 103.833333, 1.283333, 1932, \"Singapore\", 270996],\n",
    "          [\"Vienna\", 16.33333333, 48.23333333, 1978, \"Austria\", 84970],\n",
    "          [\"Bilbao\", -2.953333, 43.262222, 1887, \"Spain\", 37105],\n",
    "          [\"Montpellier\", 3.869985716, 43.61039878, 1996, \"France\", 98675],\n",
    "          [\"Istanbul\", 28.955, 41.013611, 1989, \"Turkey\", 38096],\n",
    "          [\"Seoul\", 126.977966, 37.566536, 1971, \"South Korea\", 1418234],\n",
    "          [\"Chicago\", -87.61666667, 41.83333333, 1892, \"United States\", 176958],\n",
    "          [\"Cincinnati\", -84.5, 39.13333333, 1920, \"United States\", 31236],\n",
    "          [\"Dallas\", -96.76666667, 32.76666667, 1989, \"United States\", 125699],\n",
    "          [\"Denver\", -105, 39.75, 1994, \"United States\", 174131],\n",
    "          [\"Los Angeles\", -118.25, 34.05, 2017, \"United States\", 140077],\n",
    "          [\"Mexico City\", -99.11666667, 19.43333333, 1967, \"Mexico\", 446306],\n",
    "          [\"Munich\", 11.58333333, 48.13333333, 2017, \"Germany\", 176735],\n",
    "          [\"Naples\", 14.25, 40.83333333, 1976, \"Italy\", 22320],\n",
    "          [\"Madrid\", -3.7, 40.43333333, 1869, \"Spain\", 577574],\n",
    "          [\"London\", -0.08333333333, 51.53333333, 1833, \"England\", 1663529],\n",
    "          [\"Tokyo\", 139.75, 35.66666667, 1872, \"Japan\", 4770864]])\n",
    "\n",
    "\n",
    "# Koordinaten:\n",
    "coordinates = cities[:,1:3]\n",
    "\n",
    "print(coordinates)"
   ]
  },
  {
   "cell_type": "code",
   "execution_count": 37,
   "metadata": {},
   "outputs": [
    {
     "name": "stdout",
     "output_type": "stream",
     "text": [
      "[  1825  27321   8852  19434 -28431 -32397 -27440 -23558 -19650  31236\n",
      "  -5373 -22477   9005 -12446 -19873  22320 -12250  25129 -13264]\n",
      "[  1.825  27.321   8.852  19.434 -28.431 -32.397 -27.44  -23.558 -19.65\n",
      "  31.236  -5.373 -22.477   9.005 -12.446 -19.873  22.32  -12.25   25.129\n",
      " -13.264]\n",
      "[1919 1858 1932 1978 1887 1996 1989 1971 1892 1920 1989 1994 2017 1967\n",
      " 2017 1976 1869 1833 1872]\n",
      "[104 165  91  45 136  27  34  52 131 103  34  29   6  56   6  47 154 190\n",
      " 151]\n",
      "31236\n",
      "1833\n"
     ]
    }
   ],
   "source": [
    "# Länge in Kilometern:\n",
    "meter = cities[:,5].astype(np.int16)\n",
    "print(meter)\n",
    "kilometer = meter / 1000\n",
    "print(kilometer)\n",
    "\n",
    "# Alter:\n",
    "jahr = cities[:, 3].astype(np.int16)\n",
    "print(jahr)\n",
    "alter = 2023 - jahr\n",
    "print(alter)\n",
    "\n",
    "# Längstes und altestes Netz:\n",
    "längstes = cities[:, 5].astype(np.int16).max()\n",
    "print(längstes)\n",
    "ältestes = cities[:, 3].astype(np.int16).min()\n",
    "print(ältestes)\n"
   ]
  },
  {
   "cell_type": "code",
   "execution_count": 38,
   "metadata": {},
   "outputs": [
    {
     "data": {
      "text/plain": [
       "array([['Seoul', '126.977966', '37.566536', '1971', 'South Korea',\n",
       "        '1418234'],\n",
       "       ['Madrid', '-3.7', '40.43333333', '1869', 'Spain', '577574'],\n",
       "       ['London', '-0.08333333333', '51.53333333', '1833', 'England',\n",
       "        '1663529']], dtype='<U32')"
      ]
     },
     "execution_count": 38,
     "metadata": {},
     "output_type": "execute_result"
    }
   ],
   "source": [
    "# Geben Sie alle Städte aus, die (a) eine Netzlänge von über \n",
    "# 500km haben und (b) nicht in Japan sind.\n",
    "\n",
    "# a:\n",
    "cities[(cities[:,5].astype(np.float64) > 50000) & (cities[:,4] != 'Japan')]\n"
   ]
  }
 ],
 "metadata": {
  "kernelspec": {
   "display_name": "Python 3",
   "language": "python",
   "name": "python3"
  },
  "language_info": {
   "codemirror_mode": {
    "name": "ipython",
    "version": 3
   },
   "file_extension": ".py",
   "mimetype": "text/x-python",
   "name": "python",
   "nbconvert_exporter": "python",
   "pygments_lexer": "ipython3",
   "version": "3.9.13"
  }
 },
 "nbformat": 4,
 "nbformat_minor": 2
}
